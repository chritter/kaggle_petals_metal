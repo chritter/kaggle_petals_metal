{
 "cells": [
  {
   "cell_type": "markdown",
   "id": "e0c5a692",
   "metadata": {
    "papermill": {
     "duration": 0.042114,
     "end_time": "2022-03-05T13:16:00.272480",
     "exception": false,
     "start_time": "2022-03-05T13:16:00.230366",
     "status": "completed"
    },
    "tags": []
   },
   "source": [
    "# Classification with EfficientNetV2\n",
    "\n",
    "* Original Google Repo: https://github.com/google/automl/tree/master/efficientnetv2\n",
    "* Paper published 2021"
   ]
  },
  {
   "cell_type": "code",
   "execution_count": 1,
   "id": "ad16ee17",
   "metadata": {
    "execution": {
     "iopub.execute_input": "2022-03-05T13:16:00.357190Z",
     "iopub.status.busy": "2022-03-05T13:16:00.355718Z",
     "iopub.status.idle": "2022-03-05T13:16:08.955593Z",
     "shell.execute_reply": "2022-03-05T13:16:08.955018Z",
     "shell.execute_reply.started": "2022-03-05T02:01:50.669761Z"
    },
    "papermill": {
     "duration": 8.642366,
     "end_time": "2022-03-05T13:16:08.955735",
     "exception": false,
     "start_time": "2022-03-05T13:16:00.313369",
     "status": "completed"
    },
    "tags": []
   },
   "outputs": [
    {
     "name": "stdout",
     "output_type": "stream",
     "text": [
      "2.6.2\n",
      "0.14.0\n",
      "Tensorflow version 2.6.2\n"
     ]
    }
   ],
   "source": [
    "import math, re, os\n",
    "import numpy as np\n",
    "import tensorflow as tf\n",
    "import tensorflow_addons as tfa\n",
    "print(tf.__version__)\n",
    "print(tfa.__version__)\n",
    "\n",
    "from flowerclass_read_tf_ds import get_datasets\n",
    "import tensorflow_hub as hub\n",
    "import pandas as pd\n",
    "import math\n",
    "import plotly_express as px"
   ]
  },
  {
   "cell_type": "code",
   "execution_count": 2,
   "id": "2792771a",
   "metadata": {
    "execution": {
     "iopub.execute_input": "2022-03-05T13:16:11.018282Z",
     "iopub.status.busy": "2022-03-05T13:16:11.017485Z",
     "iopub.status.idle": "2022-03-05T13:16:11.024136Z",
     "shell.execute_reply": "2022-03-05T13:16:11.024546Z",
     "shell.execute_reply.started": "2022-03-05T02:01:59.980293Z"
    },
    "papermill": {
     "duration": 2.028115,
     "end_time": "2022-03-05T13:16:11.024688",
     "exception": false,
     "start_time": "2022-03-05T13:16:08.996573",
     "status": "completed"
    },
    "tags": []
   },
   "outputs": [
    {
     "name": "stderr",
     "output_type": "stream",
     "text": [
      "2022-03-05 13:16:09.038937: I tensorflow/core/platform/cpu_feature_guard.cc:142] This TensorFlow binary is optimized with oneAPI Deep Neural Network Library (oneDNN) to use the following CPU instructions in performance-critical operations:  AVX2 AVX512F FMA\n",
      "To enable them in other operations, rebuild TensorFlow with the appropriate compiler flags.\n",
      "2022-03-05 13:16:09.089163: I tensorflow/stream_executor/cuda/cuda_gpu_executor.cc:937] successful NUMA node read from SysFS had negative value (-1), but there must be at least one NUMA node, so returning NUMA node zero\n",
      "2022-03-05 13:16:09.090191: I tensorflow/stream_executor/cuda/cuda_gpu_executor.cc:937] successful NUMA node read from SysFS had negative value (-1), but there must be at least one NUMA node, so returning NUMA node zero\n",
      "2022-03-05 13:16:09.090862: I tensorflow/stream_executor/cuda/cuda_gpu_executor.cc:937] successful NUMA node read from SysFS had negative value (-1), but there must be at least one NUMA node, so returning NUMA node zero\n",
      "2022-03-05 13:16:11.005584: I tensorflow/stream_executor/cuda/cuda_gpu_executor.cc:937] successful NUMA node read from SysFS had negative value (-1), but there must be at least one NUMA node, so returning NUMA node zero\n",
      "2022-03-05 13:16:11.006401: I tensorflow/stream_executor/cuda/cuda_gpu_executor.cc:937] successful NUMA node read from SysFS had negative value (-1), but there must be at least one NUMA node, so returning NUMA node zero\n",
      "2022-03-05 13:16:11.007045: I tensorflow/stream_executor/cuda/cuda_gpu_executor.cc:937] successful NUMA node read from SysFS had negative value (-1), but there must be at least one NUMA node, so returning NUMA node zero\n",
      "2022-03-05 13:16:11.007606: I tensorflow/core/common_runtime/gpu/gpu_device.cc:1510] Created device /device:GPU:0 with 15385 MB memory:  -> device: 0, name: Tesla P100-PCIE-16GB, pci bus id: 0000:00:04.0, compute capability: 6.0\n"
     ]
    },
    {
     "data": {
      "text/plain": [
       "'/device:GPU:0'"
      ]
     },
     "execution_count": 2,
     "metadata": {},
     "output_type": "execute_result"
    }
   ],
   "source": [
    "tf.test.gpu_device_name()"
   ]
  },
  {
   "cell_type": "markdown",
   "id": "86056722",
   "metadata": {
    "_cell_guid": "b1076dfc-b9ad-4769-8c92-a6c4dae69d19",
    "_uuid": "8f2839f25d086af736a60e9eeb907d3b93b6e0e5",
    "papermill": {
     "duration": 0.039961,
     "end_time": "2022-03-05T13:16:11.104977",
     "exception": false,
     "start_time": "2022-03-05T13:16:11.065016",
     "status": "completed"
    },
    "tags": []
   },
   "source": [
    "# I. Data Loading\n",
    "\n",
    "* Choose 480x480 as model is fixed: https://tfhub.dev/google/imagenet/efficientnet_v2_imagenet21k_l/feature_vector/2"
   ]
  },
  {
   "cell_type": "code",
   "execution_count": 3,
   "id": "e3ac8ef5",
   "metadata": {
    "execution": {
     "iopub.execute_input": "2022-03-05T13:16:11.189030Z",
     "iopub.status.busy": "2022-03-05T13:16:11.188285Z",
     "iopub.status.idle": "2022-03-05T13:16:11.190673Z",
     "shell.execute_reply": "2022-03-05T13:16:11.190282Z",
     "shell.execute_reply.started": "2022-03-05T02:02:01.899257Z"
    },
    "papermill": {
     "duration": 0.045615,
     "end_time": "2022-03-05T13:16:11.190781",
     "exception": false,
     "start_time": "2022-03-05T13:16:11.145166",
     "status": "completed"
    },
    "tags": []
   },
   "outputs": [],
   "source": [
    "image_size = 224\n",
    "batch_size = 64"
   ]
  },
  {
   "cell_type": "code",
   "execution_count": 4,
   "id": "bf1112b4",
   "metadata": {
    "execution": {
     "iopub.execute_input": "2022-03-05T13:16:11.274730Z",
     "iopub.status.busy": "2022-03-05T13:16:11.274077Z",
     "iopub.status.idle": "2022-03-05T13:16:11.911138Z",
     "shell.execute_reply": "2022-03-05T13:16:11.912049Z",
     "shell.execute_reply.started": "2022-03-05T02:02:01.908339Z"
    },
    "papermill": {
     "duration": 0.681329,
     "end_time": "2022-03-05T13:16:11.912245",
     "exception": false,
     "start_time": "2022-03-05T13:16:11.230916",
     "status": "completed"
    },
    "tags": []
   },
   "outputs": [
    {
     "name": "stderr",
     "output_type": "stream",
     "text": [
      "2022-03-05 13:16:11.296970: I tensorflow/stream_executor/cuda/cuda_gpu_executor.cc:937] successful NUMA node read from SysFS had negative value (-1), but there must be at least one NUMA node, so returning NUMA node zero\n",
      "2022-03-05 13:16:11.297838: I tensorflow/stream_executor/cuda/cuda_gpu_executor.cc:937] successful NUMA node read from SysFS had negative value (-1), but there must be at least one NUMA node, so returning NUMA node zero\n",
      "2022-03-05 13:16:11.298495: I tensorflow/stream_executor/cuda/cuda_gpu_executor.cc:937] successful NUMA node read from SysFS had negative value (-1), but there must be at least one NUMA node, so returning NUMA node zero\n",
      "2022-03-05 13:16:11.299418: I tensorflow/stream_executor/cuda/cuda_gpu_executor.cc:937] successful NUMA node read from SysFS had negative value (-1), but there must be at least one NUMA node, so returning NUMA node zero\n",
      "2022-03-05 13:16:11.300093: I tensorflow/stream_executor/cuda/cuda_gpu_executor.cc:937] successful NUMA node read from SysFS had negative value (-1), but there must be at least one NUMA node, so returning NUMA node zero\n",
      "2022-03-05 13:16:11.300693: I tensorflow/stream_executor/cuda/cuda_gpu_executor.cc:937] successful NUMA node read from SysFS had negative value (-1), but there must be at least one NUMA node, so returning NUMA node zero\n",
      "2022-03-05 13:16:11.301398: I tensorflow/stream_executor/cuda/cuda_gpu_executor.cc:937] successful NUMA node read from SysFS had negative value (-1), but there must be at least one NUMA node, so returning NUMA node zero\n",
      "2022-03-05 13:16:11.302056: I tensorflow/stream_executor/cuda/cuda_gpu_executor.cc:937] successful NUMA node read from SysFS had negative value (-1), but there must be at least one NUMA node, so returning NUMA node zero\n",
      "2022-03-05 13:16:11.302624: I tensorflow/core/common_runtime/gpu/gpu_device.cc:1510] Created device /job:localhost/replica:0/task:0/device:GPU:0 with 15385 MB memory:  -> device: 0, name: Tesla P100-PCIE-16GB, pci bus id: 0000:00:04.0, compute capability: 6.0\n"
     ]
    },
    {
     "name": "stdout",
     "output_type": "stream",
     "text": [
      "Training: <PrefetchDataset shapes: ((None, 224, 224, 3), (None, 104)), types: (tf.float32, tf.float32)>\n",
      "Validation: <PrefetchDataset shapes: ((None, 224, 224, 3), (None, 104)), types: (tf.float32, tf.float32)>\n",
      "Test: <PrefetchDataset shapes: ((None, 224, 224, 3), (None,)), types: (tf.float32, tf.string)>\n"
     ]
    }
   ],
   "source": [
    "#%%debug (50, 480)\n",
    "ds_train, ds_valid, ds_test = get_datasets(BATCH_SIZE=batch_size, IMAGE_SIZE=(image_size, image_size), \n",
    "                                           RESIZE=None, tpu=False)"
   ]
  },
  {
   "cell_type": "markdown",
   "id": "caa57106",
   "metadata": {
    "papermill": {
     "duration": 0.040612,
     "end_time": "2022-03-05T13:16:11.993890",
     "exception": false,
     "start_time": "2022-03-05T13:16:11.953278",
     "status": "completed"
    },
    "tags": []
   },
   "source": [
    "# II. Model Setup: EfficientNetV2"
   ]
  },
  {
   "cell_type": "code",
   "execution_count": 5,
   "id": "7ad6e666",
   "metadata": {
    "execution": {
     "iopub.execute_input": "2022-03-05T13:16:12.078441Z",
     "iopub.status.busy": "2022-03-05T13:16:12.076472Z",
     "iopub.status.idle": "2022-03-05T13:16:12.081537Z",
     "shell.execute_reply": "2022-03-05T13:16:12.081114Z",
     "shell.execute_reply.started": "2022-03-05T02:02:02.791565Z"
    },
    "papermill": {
     "duration": 0.047334,
     "end_time": "2022-03-05T13:16:12.081638",
     "exception": false,
     "start_time": "2022-03-05T13:16:12.034304",
     "status": "completed"
    },
    "tags": []
   },
   "outputs": [],
   "source": [
    "#effnet2_base = \"https://tfhub.dev/google/imagenet/efficientnet_v2_imagenet21k_l/feature_vector/2\"\n",
    "#effnet2_base = \"https://tfhub.dev/google/imagenet/efficientnet_v2_imagenet21k_m/feature_vector/2\"\n",
    "effnet2_base = \"https://tfhub.dev/google/imagenet/efficientnet_v2_imagenet21k_s/feature_vector/2\""
   ]
  },
  {
   "cell_type": "code",
   "execution_count": 6,
   "id": "85206893",
   "metadata": {
    "execution": {
     "iopub.execute_input": "2022-03-05T13:16:12.167397Z",
     "iopub.status.busy": "2022-03-05T13:16:12.166685Z",
     "iopub.status.idle": "2022-03-05T13:16:12.169656Z",
     "shell.execute_reply": "2022-03-05T13:16:12.170086Z",
     "shell.execute_reply.started": "2022-03-05T02:02:02.800531Z"
    },
    "papermill": {
     "duration": 0.048564,
     "end_time": "2022-03-05T13:16:12.170207",
     "exception": false,
     "start_time": "2022-03-05T13:16:12.121643",
     "status": "completed"
    },
    "tags": []
   },
   "outputs": [
    {
     "data": {
      "text/plain": [
       "tensorflow_hub.keras_layer.KerasLayer"
      ]
     },
     "execution_count": 6,
     "metadata": {},
     "output_type": "execute_result"
    }
   ],
   "source": [
    "hub.KerasLayer"
   ]
  },
  {
   "cell_type": "code",
   "execution_count": 7,
   "id": "914e1b2d",
   "metadata": {
    "execution": {
     "iopub.execute_input": "2022-03-05T13:16:12.258424Z",
     "iopub.status.busy": "2022-03-05T13:16:12.257880Z",
     "iopub.status.idle": "2022-03-05T13:16:25.915142Z",
     "shell.execute_reply": "2022-03-05T13:16:25.914644Z",
     "shell.execute_reply.started": "2022-03-05T02:02:02.811593Z"
    },
    "papermill": {
     "duration": 13.704681,
     "end_time": "2022-03-05T13:16:25.915284",
     "exception": false,
     "start_time": "2022-03-05T13:16:12.210603",
     "status": "completed"
    },
    "tags": []
   },
   "outputs": [
    {
     "name": "stdout",
     "output_type": "stream",
     "text": [
      "Model: \"sequential\"\n",
      "_________________________________________________________________\n",
      "Layer (type)                 Output Shape              Param #   \n",
      "=================================================================\n",
      "keras_layer (KerasLayer)     (None, 1280)              20331360  \n",
      "_________________________________________________________________\n",
      "dropout (Dropout)            (None, 1280)              0         \n",
      "_________________________________________________________________\n",
      "dense (Dense)                (None, 104)               133224    \n",
      "=================================================================\n",
      "Total params: 20,464,584\n",
      "Trainable params: 133,224\n",
      "Non-trainable params: 20,331,360\n",
      "_________________________________________________________________\n"
     ]
    }
   ],
   "source": [
    "    \n",
    "effnet2_tfhub = tf.keras.Sequential([\n",
    "    # Explicitly define the input shape so the model can be properly\n",
    "    # loaded by the TFLiteConverter\n",
    "    tf.keras.layers.InputLayer(input_shape=(image_size, image_size,3)),\n",
    "    hub.KerasLayer(effnet2_base, trainable=False),\n",
    "    tf.keras.layers.Dropout(rate=0.2),\n",
    "    tf.keras.layers.Dense(104, activation='softmax')\n",
    "])\n",
    "effnet2_tfhub.build((None, image_size, image_size,3,)) #This is to be used for subclassed models, which do not know at instantiation time what their inputs look like.\n",
    "\n",
    "\n",
    "effnet2_tfhub.summary()"
   ]
  },
  {
   "cell_type": "markdown",
   "id": "b1cd6b27",
   "metadata": {
    "papermill": {
     "duration": 0.04171,
     "end_time": "2022-03-05T13:16:25.999205",
     "exception": false,
     "start_time": "2022-03-05T13:16:25.957495",
     "status": "completed"
    },
    "tags": []
   },
   "source": [
    "Notice large amounts of untrainable params as efficientnetv2 layers are frozen"
   ]
  },
  {
   "cell_type": "code",
   "execution_count": 8,
   "id": "d9fa2641",
   "metadata": {
    "execution": {
     "iopub.execute_input": "2022-03-05T13:16:26.087794Z",
     "iopub.status.busy": "2022-03-05T13:16:26.087140Z",
     "iopub.status.idle": "2022-03-05T13:16:26.089765Z",
     "shell.execute_reply": "2022-03-05T13:16:26.090248Z",
     "shell.execute_reply.started": "2022-03-05T02:02:14.780762Z"
    },
    "papermill": {
     "duration": 0.048764,
     "end_time": "2022-03-05T13:16:26.090386",
     "exception": false,
     "start_time": "2022-03-05T13:16:26.041622",
     "status": "completed"
    },
    "tags": []
   },
   "outputs": [
    {
     "data": {
      "text/plain": [
       "[<tensorflow_hub.keras_layer.KerasLayer at 0x7f4f681f3750>,\n",
       " <keras.layers.core.Dropout at 0x7f4f217838d0>,\n",
       " <keras.layers.core.Dense at 0x7f4f21783f10>]"
      ]
     },
     "execution_count": 8,
     "metadata": {},
     "output_type": "execute_result"
    }
   ],
   "source": [
    "effnet2_tfhub.layers"
   ]
  },
  {
   "cell_type": "code",
   "execution_count": 9,
   "id": "c5372562",
   "metadata": {
    "execution": {
     "iopub.execute_input": "2022-03-05T13:16:26.180658Z",
     "iopub.status.busy": "2022-03-05T13:16:26.179527Z",
     "iopub.status.idle": "2022-03-05T13:16:26.182772Z",
     "shell.execute_reply": "2022-03-05T13:16:26.183217Z",
     "shell.execute_reply.started": "2022-03-05T02:02:14.792078Z"
    },
    "papermill": {
     "duration": 0.051243,
     "end_time": "2022-03-05T13:16:26.183341",
     "exception": false,
     "start_time": "2022-03-05T13:16:26.132098",
     "status": "completed"
    },
    "tags": []
   },
   "outputs": [
    {
     "name": "stdout",
     "output_type": "stream",
     "text": [
      "weights: 670\n",
      "trainable_weights: 0\n",
      "non_trainable_weights: 670\n"
     ]
    }
   ],
   "source": [
    "layer = effnet2_tfhub.layers[0]\n",
    "print(\"weights:\", len(layer.weights))\n",
    "print(\"trainable_weights:\", len(layer.trainable_weights))\n",
    "print(\"non_trainable_weights:\", len(layer.non_trainable_weights))"
   ]
  },
  {
   "cell_type": "code",
   "execution_count": 10,
   "id": "00a36226",
   "metadata": {
    "execution": {
     "iopub.execute_input": "2022-03-05T13:16:26.271106Z",
     "iopub.status.busy": "2022-03-05T13:16:26.270431Z",
     "iopub.status.idle": "2022-03-05T13:16:26.274610Z",
     "shell.execute_reply": "2022-03-05T13:16:26.274219Z",
     "shell.execute_reply.started": "2022-03-05T02:02:14.805136Z"
    },
    "papermill": {
     "duration": 0.049798,
     "end_time": "2022-03-05T13:16:26.274711",
     "exception": false,
     "start_time": "2022-03-05T13:16:26.224913",
     "status": "completed"
    },
    "tags": []
   },
   "outputs": [
    {
     "data": {
      "text/plain": [
       "TensorShape([3, 3, 24, 24])"
      ]
     },
     "execution_count": 10,
     "metadata": {},
     "output_type": "execute_result"
    }
   ],
   "source": [
    "layer.weights[0].shape\n"
   ]
  },
  {
   "cell_type": "code",
   "execution_count": 11,
   "id": "b0ffbbdf",
   "metadata": {
    "execution": {
     "iopub.execute_input": "2022-03-05T13:16:26.363967Z",
     "iopub.status.busy": "2022-03-05T13:16:26.363149Z",
     "iopub.status.idle": "2022-03-05T13:16:26.366432Z",
     "shell.execute_reply": "2022-03-05T13:16:26.365994Z",
     "shell.execute_reply.started": "2022-03-05T02:02:14.813428Z"
    },
    "papermill": {
     "duration": 0.04948,
     "end_time": "2022-03-05T13:16:26.366532",
     "exception": false,
     "start_time": "2022-03-05T13:16:26.317052",
     "status": "completed"
    },
    "tags": []
   },
   "outputs": [
    {
     "data": {
      "text/plain": [
       "False"
      ]
     },
     "execution_count": 11,
     "metadata": {},
     "output_type": "execute_result"
    }
   ],
   "source": [
    "layer.trainable"
   ]
  },
  {
   "cell_type": "markdown",
   "id": "d632fd36",
   "metadata": {
    "papermill": {
     "duration": 0.043095,
     "end_time": "2022-03-05T13:16:26.453770",
     "exception": false,
     "start_time": "2022-03-05T13:16:26.410675",
     "status": "completed"
    },
    "tags": []
   },
   "source": [
    "Why?"
   ]
  },
  {
   "cell_type": "markdown",
   "id": "286d47c5",
   "metadata": {
    "papermill": {
     "duration": 0.04289,
     "end_time": "2022-03-05T13:16:26.538937",
     "exception": false,
     "start_time": "2022-03-05T13:16:26.496047",
     "status": "completed"
    },
    "tags": []
   },
   "source": [
    "# III. Training"
   ]
  },
  {
   "cell_type": "markdown",
   "id": "635420d6",
   "metadata": {
    "papermill": {
     "duration": 0.043507,
     "end_time": "2022-03-05T13:16:26.624925",
     "exception": false,
     "start_time": "2022-03-05T13:16:26.581418",
     "status": "completed"
    },
    "tags": []
   },
   "source": [
    "Keras Transfer Learning: https://keras.io/guides/transfer_learning/"
   ]
  },
  {
   "cell_type": "markdown",
   "id": "0874ba6b",
   "metadata": {
    "papermill": {
     "duration": 0.041917,
     "end_time": "2022-03-05T13:16:26.709196",
     "exception": false,
     "start_time": "2022-03-05T13:16:26.667279",
     "status": "completed"
    },
    "tags": []
   },
   "source": [
    "# IIIa) Phase I: Train Top Layer (frozen layers)"
   ]
  },
  {
   "cell_type": "markdown",
   "id": "4dfd0ba4",
   "metadata": {
    "papermill": {
     "duration": 0.042142,
     "end_time": "2022-03-05T13:16:26.793736",
     "exception": false,
     "start_time": "2022-03-05T13:16:26.751594",
     "status": "completed"
    },
    "tags": []
   },
   "source": [
    "### Optimize Training for Compute Infrastructure"
   ]
  },
  {
   "cell_type": "code",
   "execution_count": 12,
   "id": "dcba585a",
   "metadata": {
    "execution": {
     "iopub.execute_input": "2022-03-05T13:16:26.887029Z",
     "iopub.status.busy": "2022-03-05T13:16:26.885870Z",
     "iopub.status.idle": "2022-03-05T13:16:26.901193Z",
     "shell.execute_reply": "2022-03-05T13:16:26.900711Z",
     "shell.execute_reply.started": "2022-03-05T02:02:14.825089Z"
    },
    "papermill": {
     "duration": 0.065449,
     "end_time": "2022-03-05T13:16:26.901303",
     "exception": false,
     "start_time": "2022-03-05T13:16:26.835854",
     "status": "completed"
    },
    "tags": []
   },
   "outputs": [],
   "source": [
    "effnet2_tfhub.compile(optimizer=tf.keras.optimizers.Adam(learning_rate=0.001),\n",
    "              loss='categorical_crossentropy',\n",
    "              metrics=[tfa.metrics.F1Score(num_classes=104, average='macro'), tf.keras.metrics.CategoricalAccuracy(\n",
    "    name='categorical_accuracy', dtype=None)])"
   ]
  },
  {
   "cell_type": "markdown",
   "id": "49b10fa2",
   "metadata": {
    "papermill": {
     "duration": 0.042092,
     "end_time": "2022-03-05T13:16:26.985537",
     "exception": false,
     "start_time": "2022-03-05T13:16:26.943445",
     "status": "completed"
    },
    "tags": []
   },
   "source": [
    "* batchsize:4 with 512 resized to 480px OOM\n",
    "\n",
    "* `effnet2L_tfhub.fit(ds_train, epochs=1, validation_data=ds_valid, batch_size=batch_size, steps_per_epoch=1)`\n",
    "\n",
    "#### EfficientNetV2 Large\n",
    "\n",
    "* try batchsize 4, 8, 16 and image size  224, 331 (without resizing for now)\n",
    "* bs/image size (no resize)\n",
    "    * 8/224: pass\n",
    "    * 16/224 pass\n",
    "    * 32/224 pass\n",
    "    * 64/224 pass\n",
    "    * 128/224 pass\n",
    "* try 331 (second largest size of images available) with efficientetV2 small\n",
    "    * 16/331: OOM\n",
    "    * 8/331: OOM\n",
    "\n",
    "* Test with optimal 480x480 input:\n",
    "    \n",
    "   * 8/448 (resized 480): OOM\n",
    "   * 8/224 (resized 480): OOM\n",
    "   * 2/224 (resized 480): OOM\n",
    "   > Resizing to the optimal 480x480 image size not possible with EfficientNetV2 Large due to OOM\n",
    "\n",
    "    \n",
    "    \n",
    "#### EfficientNetV2 Medium\n",
    "\n",
    "* Test with optimal 480x480 input:\n",
    "\n",
    "   * 2/224 (resized 480): OOM\n",
    "\n",
    "#### EfficientNetV2 Small\n",
    "\n",
    "* Test with optimal 384 x 384: OOM\n",
    "\n",
    "> All 3 model types, small, medium, large cannot be used with their optimal resolution.\n",
    "> \n",
    "\n",
    "\n"
   ]
  },
  {
   "cell_type": "code",
   "execution_count": 13,
   "id": "060d7572",
   "metadata": {
    "execution": {
     "iopub.execute_input": "2022-03-05T13:16:27.076461Z",
     "iopub.status.busy": "2022-03-05T13:16:27.075678Z",
     "iopub.status.idle": "2022-03-05T13:16:27.078469Z",
     "shell.execute_reply": "2022-03-05T13:16:27.078884Z",
     "shell.execute_reply.started": "2022-03-05T02:02:14.851637Z"
    },
    "papermill": {
     "duration": 0.050825,
     "end_time": "2022-03-05T13:16:27.079003",
     "exception": false,
     "start_time": "2022-03-05T13:16:27.028178",
     "status": "completed"
    },
    "tags": []
   },
   "outputs": [
    {
     "data": {
      "text/plain": [
       "(200, 58)"
      ]
     },
     "execution_count": 13,
     "metadata": {},
     "output_type": "execute_result"
    }
   ],
   "source": [
    "compute_steps_per_epoch = lambda x: int(math.ceil(1. * x / batch_size))\n",
    "steps_per_epoch_tr = compute_steps_per_epoch(12753)\n",
    "steps_per_epoch_val = compute_steps_per_epoch(3712)\n",
    "steps_per_epoch_tr, steps_per_epoch_val"
   ]
  },
  {
   "cell_type": "code",
   "execution_count": 14,
   "id": "c7721be6",
   "metadata": {
    "execution": {
     "iopub.execute_input": "2022-03-05T13:16:27.170081Z",
     "iopub.status.busy": "2022-03-05T13:16:27.169456Z",
     "iopub.status.idle": "2022-03-05T13:26:49.801881Z",
     "shell.execute_reply": "2022-03-05T13:26:49.801182Z",
     "shell.execute_reply.started": "2022-03-05T02:02:14.860683Z"
    },
    "papermill": {
     "duration": 622.680749,
     "end_time": "2022-03-05T13:26:49.802062",
     "exception": false,
     "start_time": "2022-03-05T13:16:27.121313",
     "status": "completed"
    },
    "tags": []
   },
   "outputs": [
    {
     "name": "stdout",
     "output_type": "stream",
     "text": [
      "Epoch 1/40\n"
     ]
    },
    {
     "name": "stderr",
     "output_type": "stream",
     "text": [
      "2022-03-05 13:16:35.569249: I tensorflow/compiler/mlir/mlir_graph_optimization_pass.cc:185] None of the MLIR Optimization Passes are enabled (registered 2)\n",
      "2022-03-05 13:16:41.677592: I tensorflow/stream_executor/cuda/cuda_dnn.cc:369] Loaded cuDNN version 8005\n"
     ]
    },
    {
     "name": "stdout",
     "output_type": "stream",
     "text": [
      "200/200 [==============================] - 57s 186ms/step - loss: 0.9815 - f1_score: 0.7464 - categorical_accuracy: 0.7910 - val_loss: 0.2334 - val_f1_score: 0.9290 - val_categorical_accuracy: 0.9437\n",
      "\n",
      "Epoch 00001: val_f1_score improved from -inf to 0.92901, saving model to training/cp-0001.ckpt\n",
      "Epoch 2/40\n",
      "200/200 [==============================] - 34s 172ms/step - loss: 0.1713 - f1_score: 0.9606 - categorical_accuracy: 0.9577 - val_loss: 0.1904 - val_f1_score: 0.9428 - val_categorical_accuracy: 0.9526\n",
      "\n",
      "Epoch 00002: val_f1_score improved from 0.92901 to 0.94281, saving model to training/cp-0002.ckpt\n",
      "Epoch 3/40\n",
      "200/200 [==============================] - 34s 172ms/step - loss: 0.0985 - f1_score: 0.9769 - categorical_accuracy: 0.9740 - val_loss: 0.1820 - val_f1_score: 0.9446 - val_categorical_accuracy: 0.9545\n",
      "\n",
      "Epoch 00003: val_f1_score improved from 0.94281 to 0.94462, saving model to training/cp-0003.ckpt\n",
      "Epoch 4/40\n",
      "200/200 [==============================] - 34s 172ms/step - loss: 0.0645 - f1_score: 0.9864 - categorical_accuracy: 0.9837 - val_loss: 0.1796 - val_f1_score: 0.9523 - val_categorical_accuracy: 0.9566\n",
      "\n",
      "Epoch 00004: val_f1_score improved from 0.94462 to 0.95230, saving model to training/cp-0004.ckpt\n",
      "Epoch 5/40\n",
      "200/200 [==============================] - 34s 173ms/step - loss: 0.0423 - f1_score: 0.9933 - categorical_accuracy: 0.9900 - val_loss: 0.1769 - val_f1_score: 0.9536 - val_categorical_accuracy: 0.9572\n",
      "\n",
      "Epoch 00005: val_f1_score improved from 0.95230 to 0.95357, saving model to training/cp-0005.ckpt\n",
      "Epoch 6/40\n",
      "200/200 [==============================] - 34s 173ms/step - loss: 0.0305 - f1_score: 0.9957 - categorical_accuracy: 0.9934 - val_loss: 0.1806 - val_f1_score: 0.9531 - val_categorical_accuracy: 0.9574\n",
      "\n",
      "Epoch 00006: val_f1_score did not improve from 0.95357\n",
      "Epoch 7/40\n",
      "200/200 [==============================] - 35s 174ms/step - loss: 0.0252 - f1_score: 0.9953 - categorical_accuracy: 0.9942 - val_loss: 0.1742 - val_f1_score: 0.9529 - val_categorical_accuracy: 0.9588\n",
      "\n",
      "Epoch 00007: val_f1_score did not improve from 0.95357\n",
      "Epoch 8/40\n",
      "200/200 [==============================] - 35s 174ms/step - loss: 0.0200 - f1_score: 0.9966 - categorical_accuracy: 0.9962 - val_loss: 0.1873 - val_f1_score: 0.9496 - val_categorical_accuracy: 0.9561\n",
      "\n",
      "Epoch 00008: val_f1_score did not improve from 0.95357\n",
      "Epoch 9/40\n",
      "200/200 [==============================] - 35s 174ms/step - loss: 0.0164 - f1_score: 0.9974 - categorical_accuracy: 0.9969 - val_loss: 0.1846 - val_f1_score: 0.9569 - val_categorical_accuracy: 0.9588\n",
      "\n",
      "Epoch 00009: val_f1_score improved from 0.95357 to 0.95687, saving model to training/cp-0009.ckpt\n",
      "Epoch 10/40\n",
      "200/200 [==============================] - 34s 172ms/step - loss: 0.0136 - f1_score: 0.9989 - categorical_accuracy: 0.9981 - val_loss: 0.1818 - val_f1_score: 0.9572 - val_categorical_accuracy: 0.9620\n",
      "\n",
      "Epoch 00010: val_f1_score improved from 0.95687 to 0.95719, saving model to training/cp-0010.ckpt\n",
      "Epoch 11/40\n",
      "200/200 [==============================] - 34s 172ms/step - loss: 0.0105 - f1_score: 0.9991 - categorical_accuracy: 0.9989 - val_loss: 0.1853 - val_f1_score: 0.9575 - val_categorical_accuracy: 0.9593\n",
      "\n",
      "Epoch 00011: val_f1_score improved from 0.95719 to 0.95747, saving model to training/cp-0011.ckpt\n",
      "Epoch 12/40\n",
      "200/200 [==============================] - 34s 172ms/step - loss: 0.0099 - f1_score: 0.9989 - categorical_accuracy: 0.9980 - val_loss: 0.1844 - val_f1_score: 0.9614 - val_categorical_accuracy: 0.9617\n",
      "\n",
      "Epoch 00012: val_f1_score improved from 0.95747 to 0.96135, saving model to training/cp-0012.ckpt\n",
      "Epoch 13/40\n",
      "200/200 [==============================] - 35s 174ms/step - loss: 0.0093 - f1_score: 0.9988 - categorical_accuracy: 0.9984 - val_loss: 0.1890 - val_f1_score: 0.9598 - val_categorical_accuracy: 0.9615\n",
      "\n",
      "Epoch 00013: val_f1_score did not improve from 0.96135\n",
      "Epoch 14/40\n",
      "200/200 [==============================] - 35s 174ms/step - loss: 0.0076 - f1_score: 0.9996 - categorical_accuracy: 0.9991 - val_loss: 0.1957 - val_f1_score: 0.9594 - val_categorical_accuracy: 0.9617\n",
      "\n",
      "Epoch 00014: val_f1_score did not improve from 0.96135\n",
      "Epoch 15/40\n",
      "200/200 [==============================] - 35s 174ms/step - loss: 0.0071 - f1_score: 0.9997 - categorical_accuracy: 0.9993 - val_loss: 0.1915 - val_f1_score: 0.9610 - val_categorical_accuracy: 0.9623\n",
      "\n",
      "Epoch 00015: val_f1_score did not improve from 0.96135\n",
      "Epoch 16/40\n",
      "200/200 [==============================] - 35s 174ms/step - loss: 0.0061 - f1_score: 0.9996 - categorical_accuracy: 0.9995 - val_loss: 0.2000 - val_f1_score: 0.9602 - val_categorical_accuracy: 0.9601\n",
      "\n",
      "Epoch 00016: val_f1_score did not improve from 0.96135\n",
      "Epoch 17/40\n",
      "200/200 [==============================] - 35s 174ms/step - loss: 0.0059 - f1_score: 0.9996 - categorical_accuracy: 0.9991 - val_loss: 0.2032 - val_f1_score: 0.9578 - val_categorical_accuracy: 0.9588\n",
      "\n",
      "Epoch 00017: val_f1_score did not improve from 0.96135\n",
      "Epoch 00017: early stopping\n"
     ]
    }
   ],
   "source": [
    "callback_stopping = tf.keras.callbacks.EarlyStopping(\n",
    "    monitor='val_f1_score', min_delta=0, patience=5, verbose=1,\n",
    "    mode='max', baseline=None, restore_best_weights=False\n",
    ")\n",
    "callback_model_checkpoint = tf.keras.callbacks.ModelCheckpoint(filepath=\"training/cp-{epoch:04d}.ckpt\",\n",
    "                                                 save_weights_only=True,\n",
    "                                                               monitor='val_f1_score',\n",
    "                                                 verbose=1,  mode='max', save_best_only=True)\n",
    "\n",
    "history = effnet2_tfhub.fit(ds_train, epochs=40, validation_data=ds_valid, \n",
    "                            batch_size=batch_size, \n",
    "                            steps_per_epoch= steps_per_epoch_tr,\n",
    "                            validation_steps=steps_per_epoch_val,\n",
    "                           callbacks=[callback_stopping, callback_model_checkpoint], shuffle=True)"
   ]
  },
  {
   "cell_type": "code",
   "execution_count": 15,
   "id": "2ef18394",
   "metadata": {
    "execution": {
     "iopub.execute_input": "2022-03-05T13:26:52.265025Z",
     "iopub.status.busy": "2022-03-05T13:26:52.264131Z",
     "iopub.status.idle": "2022-03-05T13:27:14.071121Z",
     "shell.execute_reply": "2022-03-05T13:27:14.072010Z",
     "shell.execute_reply.started": "2022-03-05T02:02:38.239987Z"
    },
    "papermill": {
     "duration": 23.127791,
     "end_time": "2022-03-05T13:27:14.072204",
     "exception": false,
     "start_time": "2022-03-05T13:26:50.944413",
     "status": "completed"
    },
    "tags": []
   },
   "outputs": [
    {
     "name": "stderr",
     "output_type": "stream",
     "text": [
      "2022-03-05 13:26:56.593267: W tensorflow/python/util/util.cc:348] Sets are not currently considered sequences, but this may change in the future, so consider avoiding using them.\n"
     ]
    }
   ],
   "source": [
    "effnet2_tfhub.save('saved_model/my_model_phase1')"
   ]
  },
  {
   "cell_type": "code",
   "execution_count": 16,
   "id": "7a197326",
   "metadata": {
    "execution": {
     "iopub.execute_input": "2022-03-05T13:27:16.384441Z",
     "iopub.status.busy": "2022-03-05T13:27:16.378771Z",
     "iopub.status.idle": "2022-03-05T13:27:16.413992Z",
     "shell.execute_reply": "2022-03-05T13:27:16.414418Z",
     "shell.execute_reply.started": "2022-03-05T02:02:59.806844Z"
    },
    "papermill": {
     "duration": 1.150127,
     "end_time": "2022-03-05T13:27:16.414597",
     "exception": false,
     "start_time": "2022-03-05T13:27:15.264470",
     "status": "completed"
    },
    "tags": []
   },
   "outputs": [
    {
     "data": {
      "text/html": [
       "<div>\n",
       "<style scoped>\n",
       "    .dataframe tbody tr th:only-of-type {\n",
       "        vertical-align: middle;\n",
       "    }\n",
       "\n",
       "    .dataframe tbody tr th {\n",
       "        vertical-align: top;\n",
       "    }\n",
       "\n",
       "    .dataframe thead th {\n",
       "        text-align: right;\n",
       "    }\n",
       "</style>\n",
       "<table border=\"1\" class=\"dataframe\">\n",
       "  <thead>\n",
       "    <tr style=\"text-align: right;\">\n",
       "      <th></th>\n",
       "      <th>epochs</th>\n",
       "      <th>variable</th>\n",
       "      <th>value</th>\n",
       "    </tr>\n",
       "  </thead>\n",
       "  <tbody>\n",
       "    <tr>\n",
       "      <th>0</th>\n",
       "      <td>1</td>\n",
       "      <td>loss</td>\n",
       "      <td>0.981464</td>\n",
       "    </tr>\n",
       "    <tr>\n",
       "      <th>1</th>\n",
       "      <td>2</td>\n",
       "      <td>loss</td>\n",
       "      <td>0.171331</td>\n",
       "    </tr>\n",
       "    <tr>\n",
       "      <th>2</th>\n",
       "      <td>3</td>\n",
       "      <td>loss</td>\n",
       "      <td>0.098535</td>\n",
       "    </tr>\n",
       "    <tr>\n",
       "      <th>3</th>\n",
       "      <td>4</td>\n",
       "      <td>loss</td>\n",
       "      <td>0.064503</td>\n",
       "    </tr>\n",
       "    <tr>\n",
       "      <th>4</th>\n",
       "      <td>5</td>\n",
       "      <td>loss</td>\n",
       "      <td>0.042287</td>\n",
       "    </tr>\n",
       "  </tbody>\n",
       "</table>\n",
       "</div>"
      ],
      "text/plain": [
       "   epochs variable     value\n",
       "0       1     loss  0.981464\n",
       "1       2     loss  0.171331\n",
       "2       3     loss  0.098535\n",
       "3       4     loss  0.064503\n",
       "4       5     loss  0.042287"
      ]
     },
     "execution_count": 16,
     "metadata": {},
     "output_type": "execute_result"
    }
   ],
   "source": [
    "results_tr = pd.DataFrame.from_dict(history.history)\n",
    "results_tr['epochs'] = results_tr.index + 1\n",
    "results_tr.head()\n",
    "\n",
    "results_to_plot = results_tr.melt(id_vars=\"epochs\")\n",
    "results_to_plot.head()"
   ]
  },
  {
   "cell_type": "code",
   "execution_count": 17,
   "id": "d579e55a",
   "metadata": {
    "execution": {
     "iopub.execute_input": "2022-03-05T13:27:18.678013Z",
     "iopub.status.busy": "2022-03-05T13:27:18.677357Z",
     "iopub.status.idle": "2022-03-05T13:27:18.680697Z",
     "shell.execute_reply": "2022-03-05T13:27:18.681125Z",
     "shell.execute_reply.started": "2022-03-05T02:02:59.843280Z"
    },
    "papermill": {
     "duration": 1.126786,
     "end_time": "2022-03-05T13:27:18.681275",
     "exception": false,
     "start_time": "2022-03-05T13:27:17.554489",
     "status": "completed"
    },
    "tags": []
   },
   "outputs": [
    {
     "data": {
      "text/plain": [
       "array(['loss', 'f1_score', 'categorical_accuracy', 'val_loss',\n",
       "       'val_f1_score', 'val_categorical_accuracy'], dtype=object)"
      ]
     },
     "execution_count": 17,
     "metadata": {},
     "output_type": "execute_result"
    }
   ],
   "source": [
    "results_to_plot['variable'].unique()"
   ]
  },
  {
   "cell_type": "code",
   "execution_count": 18,
   "id": "04e8d83e",
   "metadata": {
    "execution": {
     "iopub.execute_input": "2022-03-05T13:27:20.895254Z",
     "iopub.status.busy": "2022-03-05T13:27:20.894466Z",
     "iopub.status.idle": "2022-03-05T13:27:21.681388Z",
     "shell.execute_reply": "2022-03-05T13:27:21.680958Z",
     "shell.execute_reply.started": "2022-03-05T02:02:59.852336Z"
    },
    "papermill": {
     "duration": 1.909043,
     "end_time": "2022-03-05T13:27:21.681510",
     "exception": false,
     "start_time": "2022-03-05T13:27:19.772467",
     "status": "completed"
    },
    "tags": []
   },
   "outputs": [
    {
     "data": {
      "text/html": [
       "        <script type=\"text/javascript\">\n",
       "        window.PlotlyConfig = {MathJaxConfig: 'local'};\n",
       "        if (window.MathJax) {MathJax.Hub.Config({SVG: {font: \"STIX-Web\"}});}\n",
       "        if (typeof require !== 'undefined') {\n",
       "        require.undef(\"plotly\");\n",
       "        requirejs.config({\n",
       "            paths: {\n",
       "                'plotly': ['https://cdn.plot.ly/plotly-2.8.3.min']\n",
       "            }\n",
       "        });\n",
       "        require(['plotly'], function(Plotly) {\n",
       "            window._Plotly = Plotly;\n",
       "        });\n",
       "        }\n",
       "        </script>\n",
       "        "
      ]
     },
     "metadata": {},
     "output_type": "display_data"
    },
    {
     "data": {
      "text/html": [
       "<div>                            <div id=\"62b397fa-c4ab-4fe6-a178-fa603d1a883d\" class=\"plotly-graph-div\" style=\"height:525px; width:100%;\"></div>            <script type=\"text/javascript\">                require([\"plotly\"], function(Plotly) {                    window.PLOTLYENV=window.PLOTLYENV || {};                                    if (document.getElementById(\"62b397fa-c4ab-4fe6-a178-fa603d1a883d\")) {                    Plotly.newPlot(                        \"62b397fa-c4ab-4fe6-a178-fa603d1a883d\",                        [{\"hovertemplate\":\"variable=loss<br>epochs=%{x}<br>value=%{y}<extra></extra>\",\"legendgroup\":\"loss\",\"line\":{\"color\":\"#636efa\",\"dash\":\"solid\"},\"marker\":{\"symbol\":\"circle\"},\"mode\":\"lines\",\"name\":\"loss\",\"orientation\":\"v\",\"showlegend\":true,\"x\":[1,2,3,4,5,6,7,8,9,10,11,12,13,14,15,16,17],\"xaxis\":\"x\",\"y\":[0.9814636707305908,0.17133092880249023,0.09853515028953552,0.06450306624174118,0.042286936193704605,0.030516404658555984,0.025242382660508156,0.020017527043819427,0.016419336199760437,0.013553694821894169,0.010521229356527328,0.009890210814774036,0.009271131828427315,0.007629515137523413,0.007104313466697931,0.0060583800077438354,0.005917678587138653],\"yaxis\":\"y\",\"type\":\"scatter\"},{\"hovertemplate\":\"variable=val_loss<br>epochs=%{x}<br>value=%{y}<extra></extra>\",\"legendgroup\":\"val_loss\",\"line\":{\"color\":\"#EF553B\",\"dash\":\"solid\"},\"marker\":{\"symbol\":\"circle\"},\"mode\":\"lines\",\"name\":\"val_loss\",\"orientation\":\"v\",\"showlegend\":true,\"x\":[1,2,3,4,5,6,7,8,9,10,11,12,13,14,15,16,17],\"xaxis\":\"x\",\"y\":[0.2333933413028717,0.19044703245162964,0.18195609748363495,0.17960724234580994,0.17692703008651733,0.1806475818157196,0.1742449253797531,0.18729817867279053,0.18461118638515472,0.18176980316638947,0.1853155791759491,0.18440112471580505,0.18900267779827118,0.19571226835250854,0.19148576259613037,0.1999727338552475,0.20316362380981445],\"yaxis\":\"y\",\"type\":\"scatter\"}],                        {\"template\":{\"data\":{\"bar\":[{\"error_x\":{\"color\":\"#2a3f5f\"},\"error_y\":{\"color\":\"#2a3f5f\"},\"marker\":{\"line\":{\"color\":\"#E5ECF6\",\"width\":0.5},\"pattern\":{\"fillmode\":\"overlay\",\"size\":10,\"solidity\":0.2}},\"type\":\"bar\"}],\"barpolar\":[{\"marker\":{\"line\":{\"color\":\"#E5ECF6\",\"width\":0.5},\"pattern\":{\"fillmode\":\"overlay\",\"size\":10,\"solidity\":0.2}},\"type\":\"barpolar\"}],\"carpet\":[{\"aaxis\":{\"endlinecolor\":\"#2a3f5f\",\"gridcolor\":\"white\",\"linecolor\":\"white\",\"minorgridcolor\":\"white\",\"startlinecolor\":\"#2a3f5f\"},\"baxis\":{\"endlinecolor\":\"#2a3f5f\",\"gridcolor\":\"white\",\"linecolor\":\"white\",\"minorgridcolor\":\"white\",\"startlinecolor\":\"#2a3f5f\"},\"type\":\"carpet\"}],\"choropleth\":[{\"colorbar\":{\"outlinewidth\":0,\"ticks\":\"\"},\"type\":\"choropleth\"}],\"contour\":[{\"colorbar\":{\"outlinewidth\":0,\"ticks\":\"\"},\"colorscale\":[[0.0,\"#0d0887\"],[0.1111111111111111,\"#46039f\"],[0.2222222222222222,\"#7201a8\"],[0.3333333333333333,\"#9c179e\"],[0.4444444444444444,\"#bd3786\"],[0.5555555555555556,\"#d8576b\"],[0.6666666666666666,\"#ed7953\"],[0.7777777777777778,\"#fb9f3a\"],[0.8888888888888888,\"#fdca26\"],[1.0,\"#f0f921\"]],\"type\":\"contour\"}],\"contourcarpet\":[{\"colorbar\":{\"outlinewidth\":0,\"ticks\":\"\"},\"type\":\"contourcarpet\"}],\"heatmap\":[{\"colorbar\":{\"outlinewidth\":0,\"ticks\":\"\"},\"colorscale\":[[0.0,\"#0d0887\"],[0.1111111111111111,\"#46039f\"],[0.2222222222222222,\"#7201a8\"],[0.3333333333333333,\"#9c179e\"],[0.4444444444444444,\"#bd3786\"],[0.5555555555555556,\"#d8576b\"],[0.6666666666666666,\"#ed7953\"],[0.7777777777777778,\"#fb9f3a\"],[0.8888888888888888,\"#fdca26\"],[1.0,\"#f0f921\"]],\"type\":\"heatmap\"}],\"heatmapgl\":[{\"colorbar\":{\"outlinewidth\":0,\"ticks\":\"\"},\"colorscale\":[[0.0,\"#0d0887\"],[0.1111111111111111,\"#46039f\"],[0.2222222222222222,\"#7201a8\"],[0.3333333333333333,\"#9c179e\"],[0.4444444444444444,\"#bd3786\"],[0.5555555555555556,\"#d8576b\"],[0.6666666666666666,\"#ed7953\"],[0.7777777777777778,\"#fb9f3a\"],[0.8888888888888888,\"#fdca26\"],[1.0,\"#f0f921\"]],\"type\":\"heatmapgl\"}],\"histogram\":[{\"marker\":{\"pattern\":{\"fillmode\":\"overlay\",\"size\":10,\"solidity\":0.2}},\"type\":\"histogram\"}],\"histogram2d\":[{\"colorbar\":{\"outlinewidth\":0,\"ticks\":\"\"},\"colorscale\":[[0.0,\"#0d0887\"],[0.1111111111111111,\"#46039f\"],[0.2222222222222222,\"#7201a8\"],[0.3333333333333333,\"#9c179e\"],[0.4444444444444444,\"#bd3786\"],[0.5555555555555556,\"#d8576b\"],[0.6666666666666666,\"#ed7953\"],[0.7777777777777778,\"#fb9f3a\"],[0.8888888888888888,\"#fdca26\"],[1.0,\"#f0f921\"]],\"type\":\"histogram2d\"}],\"histogram2dcontour\":[{\"colorbar\":{\"outlinewidth\":0,\"ticks\":\"\"},\"colorscale\":[[0.0,\"#0d0887\"],[0.1111111111111111,\"#46039f\"],[0.2222222222222222,\"#7201a8\"],[0.3333333333333333,\"#9c179e\"],[0.4444444444444444,\"#bd3786\"],[0.5555555555555556,\"#d8576b\"],[0.6666666666666666,\"#ed7953\"],[0.7777777777777778,\"#fb9f3a\"],[0.8888888888888888,\"#fdca26\"],[1.0,\"#f0f921\"]],\"type\":\"histogram2dcontour\"}],\"mesh3d\":[{\"colorbar\":{\"outlinewidth\":0,\"ticks\":\"\"},\"type\":\"mesh3d\"}],\"parcoords\":[{\"line\":{\"colorbar\":{\"outlinewidth\":0,\"ticks\":\"\"}},\"type\":\"parcoords\"}],\"pie\":[{\"automargin\":true,\"type\":\"pie\"}],\"scatter\":[{\"marker\":{\"colorbar\":{\"outlinewidth\":0,\"ticks\":\"\"}},\"type\":\"scatter\"}],\"scatter3d\":[{\"line\":{\"colorbar\":{\"outlinewidth\":0,\"ticks\":\"\"}},\"marker\":{\"colorbar\":{\"outlinewidth\":0,\"ticks\":\"\"}},\"type\":\"scatter3d\"}],\"scattercarpet\":[{\"marker\":{\"colorbar\":{\"outlinewidth\":0,\"ticks\":\"\"}},\"type\":\"scattercarpet\"}],\"scattergeo\":[{\"marker\":{\"colorbar\":{\"outlinewidth\":0,\"ticks\":\"\"}},\"type\":\"scattergeo\"}],\"scattergl\":[{\"marker\":{\"colorbar\":{\"outlinewidth\":0,\"ticks\":\"\"}},\"type\":\"scattergl\"}],\"scattermapbox\":[{\"marker\":{\"colorbar\":{\"outlinewidth\":0,\"ticks\":\"\"}},\"type\":\"scattermapbox\"}],\"scatterpolar\":[{\"marker\":{\"colorbar\":{\"outlinewidth\":0,\"ticks\":\"\"}},\"type\":\"scatterpolar\"}],\"scatterpolargl\":[{\"marker\":{\"colorbar\":{\"outlinewidth\":0,\"ticks\":\"\"}},\"type\":\"scatterpolargl\"}],\"scatterternary\":[{\"marker\":{\"colorbar\":{\"outlinewidth\":0,\"ticks\":\"\"}},\"type\":\"scatterternary\"}],\"surface\":[{\"colorbar\":{\"outlinewidth\":0,\"ticks\":\"\"},\"colorscale\":[[0.0,\"#0d0887\"],[0.1111111111111111,\"#46039f\"],[0.2222222222222222,\"#7201a8\"],[0.3333333333333333,\"#9c179e\"],[0.4444444444444444,\"#bd3786\"],[0.5555555555555556,\"#d8576b\"],[0.6666666666666666,\"#ed7953\"],[0.7777777777777778,\"#fb9f3a\"],[0.8888888888888888,\"#fdca26\"],[1.0,\"#f0f921\"]],\"type\":\"surface\"}],\"table\":[{\"cells\":{\"fill\":{\"color\":\"#EBF0F8\"},\"line\":{\"color\":\"white\"}},\"header\":{\"fill\":{\"color\":\"#C8D4E3\"},\"line\":{\"color\":\"white\"}},\"type\":\"table\"}]},\"layout\":{\"annotationdefaults\":{\"arrowcolor\":\"#2a3f5f\",\"arrowhead\":0,\"arrowwidth\":1},\"autotypenumbers\":\"strict\",\"coloraxis\":{\"colorbar\":{\"outlinewidth\":0,\"ticks\":\"\"}},\"colorscale\":{\"diverging\":[[0,\"#8e0152\"],[0.1,\"#c51b7d\"],[0.2,\"#de77ae\"],[0.3,\"#f1b6da\"],[0.4,\"#fde0ef\"],[0.5,\"#f7f7f7\"],[0.6,\"#e6f5d0\"],[0.7,\"#b8e186\"],[0.8,\"#7fbc41\"],[0.9,\"#4d9221\"],[1,\"#276419\"]],\"sequential\":[[0.0,\"#0d0887\"],[0.1111111111111111,\"#46039f\"],[0.2222222222222222,\"#7201a8\"],[0.3333333333333333,\"#9c179e\"],[0.4444444444444444,\"#bd3786\"],[0.5555555555555556,\"#d8576b\"],[0.6666666666666666,\"#ed7953\"],[0.7777777777777778,\"#fb9f3a\"],[0.8888888888888888,\"#fdca26\"],[1.0,\"#f0f921\"]],\"sequentialminus\":[[0.0,\"#0d0887\"],[0.1111111111111111,\"#46039f\"],[0.2222222222222222,\"#7201a8\"],[0.3333333333333333,\"#9c179e\"],[0.4444444444444444,\"#bd3786\"],[0.5555555555555556,\"#d8576b\"],[0.6666666666666666,\"#ed7953\"],[0.7777777777777778,\"#fb9f3a\"],[0.8888888888888888,\"#fdca26\"],[1.0,\"#f0f921\"]]},\"colorway\":[\"#636efa\",\"#EF553B\",\"#00cc96\",\"#ab63fa\",\"#FFA15A\",\"#19d3f3\",\"#FF6692\",\"#B6E880\",\"#FF97FF\",\"#FECB52\"],\"font\":{\"color\":\"#2a3f5f\"},\"geo\":{\"bgcolor\":\"white\",\"lakecolor\":\"white\",\"landcolor\":\"#E5ECF6\",\"showlakes\":true,\"showland\":true,\"subunitcolor\":\"white\"},\"hoverlabel\":{\"align\":\"left\"},\"hovermode\":\"closest\",\"mapbox\":{\"style\":\"light\"},\"paper_bgcolor\":\"white\",\"plot_bgcolor\":\"#E5ECF6\",\"polar\":{\"angularaxis\":{\"gridcolor\":\"white\",\"linecolor\":\"white\",\"ticks\":\"\"},\"bgcolor\":\"#E5ECF6\",\"radialaxis\":{\"gridcolor\":\"white\",\"linecolor\":\"white\",\"ticks\":\"\"}},\"scene\":{\"xaxis\":{\"backgroundcolor\":\"#E5ECF6\",\"gridcolor\":\"white\",\"gridwidth\":2,\"linecolor\":\"white\",\"showbackground\":true,\"ticks\":\"\",\"zerolinecolor\":\"white\"},\"yaxis\":{\"backgroundcolor\":\"#E5ECF6\",\"gridcolor\":\"white\",\"gridwidth\":2,\"linecolor\":\"white\",\"showbackground\":true,\"ticks\":\"\",\"zerolinecolor\":\"white\"},\"zaxis\":{\"backgroundcolor\":\"#E5ECF6\",\"gridcolor\":\"white\",\"gridwidth\":2,\"linecolor\":\"white\",\"showbackground\":true,\"ticks\":\"\",\"zerolinecolor\":\"white\"}},\"shapedefaults\":{\"line\":{\"color\":\"#2a3f5f\"}},\"ternary\":{\"aaxis\":{\"gridcolor\":\"white\",\"linecolor\":\"white\",\"ticks\":\"\"},\"baxis\":{\"gridcolor\":\"white\",\"linecolor\":\"white\",\"ticks\":\"\"},\"bgcolor\":\"#E5ECF6\",\"caxis\":{\"gridcolor\":\"white\",\"linecolor\":\"white\",\"ticks\":\"\"}},\"title\":{\"x\":0.05},\"xaxis\":{\"automargin\":true,\"gridcolor\":\"white\",\"linecolor\":\"white\",\"ticks\":\"\",\"title\":{\"standoff\":15},\"zerolinecolor\":\"white\",\"zerolinewidth\":2},\"yaxis\":{\"automargin\":true,\"gridcolor\":\"white\",\"linecolor\":\"white\",\"ticks\":\"\",\"title\":{\"standoff\":15},\"zerolinecolor\":\"white\",\"zerolinewidth\":2}}},\"xaxis\":{\"anchor\":\"y\",\"domain\":[0.0,1.0],\"title\":{\"text\":\"epochs\"}},\"yaxis\":{\"anchor\":\"x\",\"domain\":[0.0,1.0],\"title\":{\"text\":\"value\"}},\"legend\":{\"title\":{\"text\":\"variable\"},\"tracegroupgap\":0},\"margin\":{\"t\":60}},                        {\"responsive\": true}                    ).then(function(){\n",
       "                            \n",
       "var gd = document.getElementById('62b397fa-c4ab-4fe6-a178-fa603d1a883d');\n",
       "var x = new MutationObserver(function (mutations, observer) {{\n",
       "        var display = window.getComputedStyle(gd).display;\n",
       "        if (!display || display === 'none') {{\n",
       "            console.log([gd, 'removed!']);\n",
       "            Plotly.purge(gd);\n",
       "            observer.disconnect();\n",
       "        }}\n",
       "}});\n",
       "\n",
       "// Listen for the removal of the full notebook cells\n",
       "var notebookContainer = gd.closest('#notebook-container');\n",
       "if (notebookContainer) {{\n",
       "    x.observe(notebookContainer, {childList: true});\n",
       "}}\n",
       "\n",
       "// Listen for the clearing of the current output cell\n",
       "var outputEl = gd.closest('.output');\n",
       "if (outputEl) {{\n",
       "    x.observe(outputEl, {childList: true});\n",
       "}}\n",
       "\n",
       "                        })                };                });            </script>        </div>"
      ]
     },
     "metadata": {},
     "output_type": "display_data"
    }
   ],
   "source": [
    "px.line(data_frame=results_to_plot[results_to_plot.variable.isin(['loss', 'val_loss'])],\n",
    "           x='epochs', y='value', color=\"variable\")"
   ]
  },
  {
   "cell_type": "code",
   "execution_count": 19,
   "id": "d0f50168",
   "metadata": {
    "execution": {
     "iopub.execute_input": "2022-03-05T13:27:23.888519Z",
     "iopub.status.busy": "2022-03-05T13:27:23.884188Z",
     "iopub.status.idle": "2022-03-05T13:27:23.936986Z",
     "shell.execute_reply": "2022-03-05T13:27:23.936545Z",
     "shell.execute_reply.started": "2022-03-05T02:03:00.874174Z"
    },
    "papermill": {
     "duration": 1.158923,
     "end_time": "2022-03-05T13:27:23.937109",
     "exception": false,
     "start_time": "2022-03-05T13:27:22.778186",
     "status": "completed"
    },
    "tags": []
   },
   "outputs": [
    {
     "data": {
      "text/html": [
       "<div>                            <div id=\"9926f781-2f13-441b-9899-14f6df599baa\" class=\"plotly-graph-div\" style=\"height:525px; width:100%;\"></div>            <script type=\"text/javascript\">                require([\"plotly\"], function(Plotly) {                    window.PLOTLYENV=window.PLOTLYENV || {};                                    if (document.getElementById(\"9926f781-2f13-441b-9899-14f6df599baa\")) {                    Plotly.newPlot(                        \"9926f781-2f13-441b-9899-14f6df599baa\",                        [{\"hovertemplate\":\"variable=f1_score<br>epochs=%{x}<br>value=%{y}<extra></extra>\",\"legendgroup\":\"f1_score\",\"line\":{\"color\":\"#636efa\",\"dash\":\"solid\"},\"marker\":{\"symbol\":\"circle\"},\"mode\":\"lines\",\"name\":\"f1_score\",\"orientation\":\"v\",\"showlegend\":true,\"x\":[1,2,3,4,5,6,7,8,9,10,11,12,13,14,15,16,17],\"xaxis\":\"x\",\"y\":[0.7463865876197815,0.9606158137321472,0.9769018888473511,0.9863638281822205,0.993277907371521,0.9957348704338074,0.9952776432037354,0.9965660572052002,0.997409462928772,0.9988688230514526,0.9991058111190796,0.9988739490509033,0.9988367557525635,0.9995753169059753,0.999692976474762,0.9996361136436462,0.9995862245559692],\"yaxis\":\"y\",\"type\":\"scatter\"},{\"hovertemplate\":\"variable=val_f1_score<br>epochs=%{x}<br>value=%{y}<extra></extra>\",\"legendgroup\":\"val_f1_score\",\"line\":{\"color\":\"#EF553B\",\"dash\":\"solid\"},\"marker\":{\"symbol\":\"circle\"},\"mode\":\"lines\",\"name\":\"val_f1_score\",\"orientation\":\"v\",\"showlegend\":true,\"x\":[1,2,3,4,5,6,7,8,9,10,11,12,13,14,15,16,17],\"xaxis\":\"x\",\"y\":[0.9290075898170471,0.9428074359893799,0.9446202516555786,0.9522963166236877,0.9535709023475647,0.9530811309814453,0.9528610706329346,0.9495664834976196,0.9568716883659363,0.95718914270401,0.9574664235115051,0.9613547921180725,0.9597582221031189,0.9594050645828247,0.9609642624855042,0.9601964354515076,0.957809567451477],\"yaxis\":\"y\",\"type\":\"scatter\"}],                        {\"template\":{\"data\":{\"bar\":[{\"error_x\":{\"color\":\"#2a3f5f\"},\"error_y\":{\"color\":\"#2a3f5f\"},\"marker\":{\"line\":{\"color\":\"#E5ECF6\",\"width\":0.5},\"pattern\":{\"fillmode\":\"overlay\",\"size\":10,\"solidity\":0.2}},\"type\":\"bar\"}],\"barpolar\":[{\"marker\":{\"line\":{\"color\":\"#E5ECF6\",\"width\":0.5},\"pattern\":{\"fillmode\":\"overlay\",\"size\":10,\"solidity\":0.2}},\"type\":\"barpolar\"}],\"carpet\":[{\"aaxis\":{\"endlinecolor\":\"#2a3f5f\",\"gridcolor\":\"white\",\"linecolor\":\"white\",\"minorgridcolor\":\"white\",\"startlinecolor\":\"#2a3f5f\"},\"baxis\":{\"endlinecolor\":\"#2a3f5f\",\"gridcolor\":\"white\",\"linecolor\":\"white\",\"minorgridcolor\":\"white\",\"startlinecolor\":\"#2a3f5f\"},\"type\":\"carpet\"}],\"choropleth\":[{\"colorbar\":{\"outlinewidth\":0,\"ticks\":\"\"},\"type\":\"choropleth\"}],\"contour\":[{\"colorbar\":{\"outlinewidth\":0,\"ticks\":\"\"},\"colorscale\":[[0.0,\"#0d0887\"],[0.1111111111111111,\"#46039f\"],[0.2222222222222222,\"#7201a8\"],[0.3333333333333333,\"#9c179e\"],[0.4444444444444444,\"#bd3786\"],[0.5555555555555556,\"#d8576b\"],[0.6666666666666666,\"#ed7953\"],[0.7777777777777778,\"#fb9f3a\"],[0.8888888888888888,\"#fdca26\"],[1.0,\"#f0f921\"]],\"type\":\"contour\"}],\"contourcarpet\":[{\"colorbar\":{\"outlinewidth\":0,\"ticks\":\"\"},\"type\":\"contourcarpet\"}],\"heatmap\":[{\"colorbar\":{\"outlinewidth\":0,\"ticks\":\"\"},\"colorscale\":[[0.0,\"#0d0887\"],[0.1111111111111111,\"#46039f\"],[0.2222222222222222,\"#7201a8\"],[0.3333333333333333,\"#9c179e\"],[0.4444444444444444,\"#bd3786\"],[0.5555555555555556,\"#d8576b\"],[0.6666666666666666,\"#ed7953\"],[0.7777777777777778,\"#fb9f3a\"],[0.8888888888888888,\"#fdca26\"],[1.0,\"#f0f921\"]],\"type\":\"heatmap\"}],\"heatmapgl\":[{\"colorbar\":{\"outlinewidth\":0,\"ticks\":\"\"},\"colorscale\":[[0.0,\"#0d0887\"],[0.1111111111111111,\"#46039f\"],[0.2222222222222222,\"#7201a8\"],[0.3333333333333333,\"#9c179e\"],[0.4444444444444444,\"#bd3786\"],[0.5555555555555556,\"#d8576b\"],[0.6666666666666666,\"#ed7953\"],[0.7777777777777778,\"#fb9f3a\"],[0.8888888888888888,\"#fdca26\"],[1.0,\"#f0f921\"]],\"type\":\"heatmapgl\"}],\"histogram\":[{\"marker\":{\"pattern\":{\"fillmode\":\"overlay\",\"size\":10,\"solidity\":0.2}},\"type\":\"histogram\"}],\"histogram2d\":[{\"colorbar\":{\"outlinewidth\":0,\"ticks\":\"\"},\"colorscale\":[[0.0,\"#0d0887\"],[0.1111111111111111,\"#46039f\"],[0.2222222222222222,\"#7201a8\"],[0.3333333333333333,\"#9c179e\"],[0.4444444444444444,\"#bd3786\"],[0.5555555555555556,\"#d8576b\"],[0.6666666666666666,\"#ed7953\"],[0.7777777777777778,\"#fb9f3a\"],[0.8888888888888888,\"#fdca26\"],[1.0,\"#f0f921\"]],\"type\":\"histogram2d\"}],\"histogram2dcontour\":[{\"colorbar\":{\"outlinewidth\":0,\"ticks\":\"\"},\"colorscale\":[[0.0,\"#0d0887\"],[0.1111111111111111,\"#46039f\"],[0.2222222222222222,\"#7201a8\"],[0.3333333333333333,\"#9c179e\"],[0.4444444444444444,\"#bd3786\"],[0.5555555555555556,\"#d8576b\"],[0.6666666666666666,\"#ed7953\"],[0.7777777777777778,\"#fb9f3a\"],[0.8888888888888888,\"#fdca26\"],[1.0,\"#f0f921\"]],\"type\":\"histogram2dcontour\"}],\"mesh3d\":[{\"colorbar\":{\"outlinewidth\":0,\"ticks\":\"\"},\"type\":\"mesh3d\"}],\"parcoords\":[{\"line\":{\"colorbar\":{\"outlinewidth\":0,\"ticks\":\"\"}},\"type\":\"parcoords\"}],\"pie\":[{\"automargin\":true,\"type\":\"pie\"}],\"scatter\":[{\"marker\":{\"colorbar\":{\"outlinewidth\":0,\"ticks\":\"\"}},\"type\":\"scatter\"}],\"scatter3d\":[{\"line\":{\"colorbar\":{\"outlinewidth\":0,\"ticks\":\"\"}},\"marker\":{\"colorbar\":{\"outlinewidth\":0,\"ticks\":\"\"}},\"type\":\"scatter3d\"}],\"scattercarpet\":[{\"marker\":{\"colorbar\":{\"outlinewidth\":0,\"ticks\":\"\"}},\"type\":\"scattercarpet\"}],\"scattergeo\":[{\"marker\":{\"colorbar\":{\"outlinewidth\":0,\"ticks\":\"\"}},\"type\":\"scattergeo\"}],\"scattergl\":[{\"marker\":{\"colorbar\":{\"outlinewidth\":0,\"ticks\":\"\"}},\"type\":\"scattergl\"}],\"scattermapbox\":[{\"marker\":{\"colorbar\":{\"outlinewidth\":0,\"ticks\":\"\"}},\"type\":\"scattermapbox\"}],\"scatterpolar\":[{\"marker\":{\"colorbar\":{\"outlinewidth\":0,\"ticks\":\"\"}},\"type\":\"scatterpolar\"}],\"scatterpolargl\":[{\"marker\":{\"colorbar\":{\"outlinewidth\":0,\"ticks\":\"\"}},\"type\":\"scatterpolargl\"}],\"scatterternary\":[{\"marker\":{\"colorbar\":{\"outlinewidth\":0,\"ticks\":\"\"}},\"type\":\"scatterternary\"}],\"surface\":[{\"colorbar\":{\"outlinewidth\":0,\"ticks\":\"\"},\"colorscale\":[[0.0,\"#0d0887\"],[0.1111111111111111,\"#46039f\"],[0.2222222222222222,\"#7201a8\"],[0.3333333333333333,\"#9c179e\"],[0.4444444444444444,\"#bd3786\"],[0.5555555555555556,\"#d8576b\"],[0.6666666666666666,\"#ed7953\"],[0.7777777777777778,\"#fb9f3a\"],[0.8888888888888888,\"#fdca26\"],[1.0,\"#f0f921\"]],\"type\":\"surface\"}],\"table\":[{\"cells\":{\"fill\":{\"color\":\"#EBF0F8\"},\"line\":{\"color\":\"white\"}},\"header\":{\"fill\":{\"color\":\"#C8D4E3\"},\"line\":{\"color\":\"white\"}},\"type\":\"table\"}]},\"layout\":{\"annotationdefaults\":{\"arrowcolor\":\"#2a3f5f\",\"arrowhead\":0,\"arrowwidth\":1},\"autotypenumbers\":\"strict\",\"coloraxis\":{\"colorbar\":{\"outlinewidth\":0,\"ticks\":\"\"}},\"colorscale\":{\"diverging\":[[0,\"#8e0152\"],[0.1,\"#c51b7d\"],[0.2,\"#de77ae\"],[0.3,\"#f1b6da\"],[0.4,\"#fde0ef\"],[0.5,\"#f7f7f7\"],[0.6,\"#e6f5d0\"],[0.7,\"#b8e186\"],[0.8,\"#7fbc41\"],[0.9,\"#4d9221\"],[1,\"#276419\"]],\"sequential\":[[0.0,\"#0d0887\"],[0.1111111111111111,\"#46039f\"],[0.2222222222222222,\"#7201a8\"],[0.3333333333333333,\"#9c179e\"],[0.4444444444444444,\"#bd3786\"],[0.5555555555555556,\"#d8576b\"],[0.6666666666666666,\"#ed7953\"],[0.7777777777777778,\"#fb9f3a\"],[0.8888888888888888,\"#fdca26\"],[1.0,\"#f0f921\"]],\"sequentialminus\":[[0.0,\"#0d0887\"],[0.1111111111111111,\"#46039f\"],[0.2222222222222222,\"#7201a8\"],[0.3333333333333333,\"#9c179e\"],[0.4444444444444444,\"#bd3786\"],[0.5555555555555556,\"#d8576b\"],[0.6666666666666666,\"#ed7953\"],[0.7777777777777778,\"#fb9f3a\"],[0.8888888888888888,\"#fdca26\"],[1.0,\"#f0f921\"]]},\"colorway\":[\"#636efa\",\"#EF553B\",\"#00cc96\",\"#ab63fa\",\"#FFA15A\",\"#19d3f3\",\"#FF6692\",\"#B6E880\",\"#FF97FF\",\"#FECB52\"],\"font\":{\"color\":\"#2a3f5f\"},\"geo\":{\"bgcolor\":\"white\",\"lakecolor\":\"white\",\"landcolor\":\"#E5ECF6\",\"showlakes\":true,\"showland\":true,\"subunitcolor\":\"white\"},\"hoverlabel\":{\"align\":\"left\"},\"hovermode\":\"closest\",\"mapbox\":{\"style\":\"light\"},\"paper_bgcolor\":\"white\",\"plot_bgcolor\":\"#E5ECF6\",\"polar\":{\"angularaxis\":{\"gridcolor\":\"white\",\"linecolor\":\"white\",\"ticks\":\"\"},\"bgcolor\":\"#E5ECF6\",\"radialaxis\":{\"gridcolor\":\"white\",\"linecolor\":\"white\",\"ticks\":\"\"}},\"scene\":{\"xaxis\":{\"backgroundcolor\":\"#E5ECF6\",\"gridcolor\":\"white\",\"gridwidth\":2,\"linecolor\":\"white\",\"showbackground\":true,\"ticks\":\"\",\"zerolinecolor\":\"white\"},\"yaxis\":{\"backgroundcolor\":\"#E5ECF6\",\"gridcolor\":\"white\",\"gridwidth\":2,\"linecolor\":\"white\",\"showbackground\":true,\"ticks\":\"\",\"zerolinecolor\":\"white\"},\"zaxis\":{\"backgroundcolor\":\"#E5ECF6\",\"gridcolor\":\"white\",\"gridwidth\":2,\"linecolor\":\"white\",\"showbackground\":true,\"ticks\":\"\",\"zerolinecolor\":\"white\"}},\"shapedefaults\":{\"line\":{\"color\":\"#2a3f5f\"}},\"ternary\":{\"aaxis\":{\"gridcolor\":\"white\",\"linecolor\":\"white\",\"ticks\":\"\"},\"baxis\":{\"gridcolor\":\"white\",\"linecolor\":\"white\",\"ticks\":\"\"},\"bgcolor\":\"#E5ECF6\",\"caxis\":{\"gridcolor\":\"white\",\"linecolor\":\"white\",\"ticks\":\"\"}},\"title\":{\"x\":0.05},\"xaxis\":{\"automargin\":true,\"gridcolor\":\"white\",\"linecolor\":\"white\",\"ticks\":\"\",\"title\":{\"standoff\":15},\"zerolinecolor\":\"white\",\"zerolinewidth\":2},\"yaxis\":{\"automargin\":true,\"gridcolor\":\"white\",\"linecolor\":\"white\",\"ticks\":\"\",\"title\":{\"standoff\":15},\"zerolinecolor\":\"white\",\"zerolinewidth\":2}}},\"xaxis\":{\"anchor\":\"y\",\"domain\":[0.0,1.0],\"title\":{\"text\":\"epochs\"}},\"yaxis\":{\"anchor\":\"x\",\"domain\":[0.0,1.0],\"title\":{\"text\":\"value\"}},\"legend\":{\"title\":{\"text\":\"variable\"},\"tracegroupgap\":0},\"margin\":{\"t\":60}},                        {\"responsive\": true}                    ).then(function(){\n",
       "                            \n",
       "var gd = document.getElementById('9926f781-2f13-441b-9899-14f6df599baa');\n",
       "var x = new MutationObserver(function (mutations, observer) {{\n",
       "        var display = window.getComputedStyle(gd).display;\n",
       "        if (!display || display === 'none') {{\n",
       "            console.log([gd, 'removed!']);\n",
       "            Plotly.purge(gd);\n",
       "            observer.disconnect();\n",
       "        }}\n",
       "}});\n",
       "\n",
       "// Listen for the removal of the full notebook cells\n",
       "var notebookContainer = gd.closest('#notebook-container');\n",
       "if (notebookContainer) {{\n",
       "    x.observe(notebookContainer, {childList: true});\n",
       "}}\n",
       "\n",
       "// Listen for the clearing of the current output cell\n",
       "var outputEl = gd.closest('.output');\n",
       "if (outputEl) {{\n",
       "    x.observe(outputEl, {childList: true});\n",
       "}}\n",
       "\n",
       "                        })                };                });            </script>        </div>"
      ]
     },
     "metadata": {},
     "output_type": "display_data"
    }
   ],
   "source": [
    "px.line(data_frame=results_to_plot[results_to_plot.variable.isin(['f1_score', 'val_f1_score'])],\n",
    "           x='epochs', y='value', color=\"variable\")"
   ]
  },
  {
   "cell_type": "code",
   "execution_count": 20,
   "id": "f0a48750",
   "metadata": {
    "execution": {
     "iopub.execute_input": "2022-03-05T13:27:26.414804Z",
     "iopub.status.busy": "2022-03-05T13:27:26.413990Z",
     "iopub.status.idle": "2022-03-05T13:27:26.416489Z",
     "shell.execute_reply": "2022-03-05T13:27:26.416083Z",
     "shell.execute_reply.started": "2022-03-05T02:45:47.572771Z"
    },
    "papermill": {
     "duration": 1.121495,
     "end_time": "2022-03-05T13:27:26.416602",
     "exception": false,
     "start_time": "2022-03-05T13:27:25.295107",
     "status": "completed"
    },
    "tags": []
   },
   "outputs": [],
   "source": [
    "best_phase1_f1 = results_tr['val_f1_score'].max()\n",
    "best_phase1_epoch = results_tr.loc[results_tr['val_f1_score'] == best_phase1_f1, 'epochs'].values[0]\n"
   ]
  },
  {
   "cell_type": "code",
   "execution_count": 21,
   "id": "8e38de10",
   "metadata": {
    "execution": {
     "iopub.execute_input": "2022-03-05T13:27:28.673115Z",
     "iopub.status.busy": "2022-03-05T13:27:28.672375Z",
     "iopub.status.idle": "2022-03-05T13:27:28.675137Z",
     "shell.execute_reply": "2022-03-05T13:27:28.675540Z",
     "shell.execute_reply.started": "2022-03-05T02:45:48.237605Z"
    },
    "papermill": {
     "duration": 1.12131,
     "end_time": "2022-03-05T13:27:28.675670",
     "exception": false,
     "start_time": "2022-03-05T13:27:27.554360",
     "status": "completed"
    },
    "tags": []
   },
   "outputs": [
    {
     "data": {
      "text/plain": [
       "(0.9613547921180725, 12)"
      ]
     },
     "execution_count": 21,
     "metadata": {},
     "output_type": "execute_result"
    }
   ],
   "source": [
    "best_phase1_f1, best_phase1_epoch"
   ]
  },
  {
   "cell_type": "markdown",
   "id": "d44e0391",
   "metadata": {
    "papermill": {
     "duration": 1.11766,
     "end_time": "2022-03-05T13:27:30.901099",
     "exception": false,
     "start_time": "2022-03-05T13:27:29.783439",
     "status": "completed"
    },
    "tags": []
   },
   "source": [
    "## IIIb) Phase II: Unfreeze and FineTuning\n",
    "\n",
    "Unfreeze weights, try fine tuning whole network"
   ]
  },
  {
   "cell_type": "code",
   "execution_count": 22,
   "id": "83464530",
   "metadata": {
    "execution": {
     "iopub.execute_input": "2022-03-05T13:27:33.103211Z",
     "iopub.status.busy": "2022-03-05T13:27:33.101568Z",
     "iopub.status.idle": "2022-03-05T13:27:33.103764Z",
     "shell.execute_reply": "2022-03-05T13:27:33.104212Z",
     "shell.execute_reply.started": "2022-03-05T02:03:01.909114Z"
    },
    "papermill": {
     "duration": 1.103394,
     "end_time": "2022-03-05T13:27:33.104352",
     "exception": false,
     "start_time": "2022-03-05T13:27:32.000958",
     "status": "completed"
    },
    "tags": []
   },
   "outputs": [],
   "source": [
    "effnet2_tfhub.trainable = True"
   ]
  },
  {
   "cell_type": "code",
   "execution_count": 23,
   "id": "f9e0eaf3",
   "metadata": {
    "execution": {
     "iopub.execute_input": "2022-03-05T13:27:35.349043Z",
     "iopub.status.busy": "2022-03-05T13:27:35.348136Z",
     "iopub.status.idle": "2022-03-05T13:27:35.359388Z",
     "shell.execute_reply": "2022-03-05T13:27:35.358902Z",
     "shell.execute_reply.started": "2022-03-05T02:03:01.915796Z"
    },
    "papermill": {
     "duration": 1.151235,
     "end_time": "2022-03-05T13:27:35.359507",
     "exception": false,
     "start_time": "2022-03-05T13:27:34.208272",
     "status": "completed"
    },
    "tags": []
   },
   "outputs": [],
   "source": [
    "effnet2_tfhub.compile(optimizer=tf.keras.optimizers.Adam(learning_rate=1e-5),\n",
    "              loss='categorical_crossentropy',\n",
    "              metrics=[tfa.metrics.F1Score(num_classes=104, average='macro'), tf.keras.metrics.CategoricalAccuracy(\n",
    "    name='categorical_accuracy', dtype=None)])"
   ]
  },
  {
   "cell_type": "code",
   "execution_count": 24,
   "id": "1b35f59f",
   "metadata": {
    "execution": {
     "iopub.execute_input": "2022-03-05T13:27:37.892725Z",
     "iopub.status.busy": "2022-03-05T13:27:37.891863Z",
     "iopub.status.idle": "2022-03-05T13:46:18.042490Z",
     "shell.execute_reply": "2022-03-05T13:46:18.041880Z",
     "shell.execute_reply.started": "2022-03-05T02:03:01.942517Z"
    },
    "papermill": {
     "duration": 1121.277755,
     "end_time": "2022-03-05T13:46:18.042631",
     "exception": false,
     "start_time": "2022-03-05T13:27:36.764876",
     "status": "completed"
    },
    "tags": []
   },
   "outputs": [
    {
     "name": "stdout",
     "output_type": "stream",
     "text": [
      "Epoch 1/10\n",
      "200/200 [==============================] - 126s 523ms/step - loss: 1.6917 - f1_score: 0.6181 - categorical_accuracy: 0.6205 - val_loss: 0.6560 - val_f1_score: 0.8284 - val_categorical_accuracy: 0.8346\n",
      "\n",
      "Epoch 00001: val_f1_score improved from -inf to 0.82843, saving model to training2/cp-0001.ckpt\n",
      "Epoch 2/10\n",
      "200/200 [==============================] - 103s 516ms/step - loss: 0.9751 - f1_score: 0.7467 - categorical_accuracy: 0.7509 - val_loss: 0.4661 - val_f1_score: 0.8905 - val_categorical_accuracy: 0.8895\n",
      "\n",
      "Epoch 00002: val_f1_score improved from 0.82843 to 0.89051, saving model to training2/cp-0002.ckpt\n",
      "Epoch 3/10\n",
      "200/200 [==============================] - 103s 514ms/step - loss: 0.6991 - f1_score: 0.8134 - categorical_accuracy: 0.8124 - val_loss: 0.3875 - val_f1_score: 0.9044 - val_categorical_accuracy: 0.9071\n",
      "\n",
      "Epoch 00003: val_f1_score improved from 0.89051 to 0.90441, saving model to training2/cp-0003.ckpt\n",
      "Epoch 4/10\n",
      "200/200 [==============================] - 103s 514ms/step - loss: 0.5301 - f1_score: 0.8532 - categorical_accuracy: 0.8544 - val_loss: 0.3307 - val_f1_score: 0.9179 - val_categorical_accuracy: 0.9211\n",
      "\n",
      "Epoch 00004: val_f1_score improved from 0.90441 to 0.91786, saving model to training2/cp-0004.ckpt\n",
      "Epoch 5/10\n",
      "200/200 [==============================] - 103s 515ms/step - loss: 0.4248 - f1_score: 0.8793 - categorical_accuracy: 0.8773 - val_loss: 0.3068 - val_f1_score: 0.9268 - val_categorical_accuracy: 0.9278\n",
      "\n",
      "Epoch 00005: val_f1_score improved from 0.91786 to 0.92682, saving model to training2/cp-0005.ckpt\n",
      "Epoch 6/10\n",
      "200/200 [==============================] - 103s 515ms/step - loss: 0.3391 - f1_score: 0.8999 - categorical_accuracy: 0.9005 - val_loss: 0.2832 - val_f1_score: 0.9325 - val_categorical_accuracy: 0.9327\n",
      "\n",
      "Epoch 00006: val_f1_score improved from 0.92682 to 0.93249, saving model to training2/cp-0006.ckpt\n",
      "Epoch 7/10\n",
      "200/200 [==============================] - 103s 516ms/step - loss: 0.3053 - f1_score: 0.9214 - categorical_accuracy: 0.9148 - val_loss: 0.2689 - val_f1_score: 0.9365 - val_categorical_accuracy: 0.9364\n",
      "\n",
      "Epoch 00007: val_f1_score improved from 0.93249 to 0.93651, saving model to training2/cp-0007.ckpt\n",
      "Epoch 8/10\n",
      "200/200 [==============================] - 103s 514ms/step - loss: 0.2589 - f1_score: 0.9263 - categorical_accuracy: 0.9252 - val_loss: 0.2597 - val_f1_score: 0.9392 - val_categorical_accuracy: 0.9386\n",
      "\n",
      "Epoch 00008: val_f1_score improved from 0.93651 to 0.93915, saving model to training2/cp-0008.ckpt\n",
      "Epoch 9/10\n",
      "200/200 [==============================] - 103s 515ms/step - loss: 0.2285 - f1_score: 0.9355 - categorical_accuracy: 0.9342 - val_loss: 0.2465 - val_f1_score: 0.9465 - val_categorical_accuracy: 0.9450\n",
      "\n",
      "Epoch 00009: val_f1_score improved from 0.93915 to 0.94653, saving model to training2/cp-0009.ckpt\n",
      "Epoch 10/10\n",
      "200/200 [==============================] - 103s 515ms/step - loss: 0.2065 - f1_score: 0.9427 - categorical_accuracy: 0.9399 - val_loss: 0.2387 - val_f1_score: 0.9450 - val_categorical_accuracy: 0.9450\n",
      "\n",
      "Epoch 00010: val_f1_score did not improve from 0.94653\n"
     ]
    }
   ],
   "source": [
    "callback_stopping = tf.keras.callbacks.EarlyStopping(\n",
    "    monitor='val_f1_score', min_delta=0, patience=5, verbose=1,\n",
    "    mode='max', baseline=None, restore_best_weights=False\n",
    ")\n",
    "callback_model_checkpoint = tf.keras.callbacks.ModelCheckpoint(filepath=\"training2/cp-{epoch:04d}.ckpt\",\n",
    "                                                 save_weights_only=True,\n",
    "                                                               monitor='val_f1_score',\n",
    "                                                 verbose=1, mode='max', save_best_only=True)\n",
    "\n",
    "history = effnet2_tfhub.fit(ds_train, epochs=10, validation_data=ds_valid, \n",
    "                            batch_size=batch_size, \n",
    "                            steps_per_epoch=steps_per_epoch_tr,\n",
    "                            validation_steps=steps_per_epoch_val,\n",
    "                           callbacks=[callback_stopping, callback_model_checkpoint], shuffle=True)"
   ]
  },
  {
   "cell_type": "code",
   "execution_count": 25,
   "id": "187af028",
   "metadata": {
    "execution": {
     "iopub.execute_input": "2022-03-05T13:46:21.632981Z",
     "iopub.status.busy": "2022-03-05T13:46:21.632130Z",
     "iopub.status.idle": "2022-03-05T13:46:47.585514Z",
     "shell.execute_reply": "2022-03-05T13:46:47.584801Z",
     "shell.execute_reply.started": "2022-03-05T02:03:30.561349Z"
    },
    "papermill": {
     "duration": 27.726274,
     "end_time": "2022-03-05T13:46:47.585664",
     "exception": false,
     "start_time": "2022-03-05T13:46:19.859390",
     "status": "completed"
    },
    "tags": []
   },
   "outputs": [],
   "source": [
    "effnet2_tfhub.save('saved_model/my_model_phase2')"
   ]
  },
  {
   "cell_type": "code",
   "execution_count": 26,
   "id": "3dc76db5",
   "metadata": {
    "execution": {
     "iopub.execute_input": "2022-03-05T13:46:51.345144Z",
     "iopub.status.busy": "2022-03-05T13:46:51.344314Z",
     "iopub.status.idle": "2022-03-05T13:46:51.365590Z",
     "shell.execute_reply": "2022-03-05T13:46:51.366156Z",
     "shell.execute_reply.started": "2022-03-05T02:03:56.765531Z"
    },
    "papermill": {
     "duration": 2.043066,
     "end_time": "2022-03-05T13:46:51.366343",
     "exception": false,
     "start_time": "2022-03-05T13:46:49.323277",
     "status": "completed"
    },
    "tags": []
   },
   "outputs": [
    {
     "data": {
      "text/html": [
       "<div>\n",
       "<style scoped>\n",
       "    .dataframe tbody tr th:only-of-type {\n",
       "        vertical-align: middle;\n",
       "    }\n",
       "\n",
       "    .dataframe tbody tr th {\n",
       "        vertical-align: top;\n",
       "    }\n",
       "\n",
       "    .dataframe thead th {\n",
       "        text-align: right;\n",
       "    }\n",
       "</style>\n",
       "<table border=\"1\" class=\"dataframe\">\n",
       "  <thead>\n",
       "    <tr style=\"text-align: right;\">\n",
       "      <th></th>\n",
       "      <th>epochs</th>\n",
       "      <th>variable</th>\n",
       "      <th>value</th>\n",
       "    </tr>\n",
       "  </thead>\n",
       "  <tbody>\n",
       "    <tr>\n",
       "      <th>0</th>\n",
       "      <td>1</td>\n",
       "      <td>loss</td>\n",
       "      <td>1.691661</td>\n",
       "    </tr>\n",
       "    <tr>\n",
       "      <th>1</th>\n",
       "      <td>2</td>\n",
       "      <td>loss</td>\n",
       "      <td>0.975063</td>\n",
       "    </tr>\n",
       "    <tr>\n",
       "      <th>2</th>\n",
       "      <td>3</td>\n",
       "      <td>loss</td>\n",
       "      <td>0.699097</td>\n",
       "    </tr>\n",
       "    <tr>\n",
       "      <th>3</th>\n",
       "      <td>4</td>\n",
       "      <td>loss</td>\n",
       "      <td>0.530101</td>\n",
       "    </tr>\n",
       "    <tr>\n",
       "      <th>4</th>\n",
       "      <td>5</td>\n",
       "      <td>loss</td>\n",
       "      <td>0.424769</td>\n",
       "    </tr>\n",
       "  </tbody>\n",
       "</table>\n",
       "</div>"
      ],
      "text/plain": [
       "   epochs variable     value\n",
       "0       1     loss  1.691661\n",
       "1       2     loss  0.975063\n",
       "2       3     loss  0.699097\n",
       "3       4     loss  0.530101\n",
       "4       5     loss  0.424769"
      ]
     },
     "execution_count": 26,
     "metadata": {},
     "output_type": "execute_result"
    }
   ],
   "source": [
    "results_tr = pd.DataFrame.from_dict(history.history)\n",
    "results_tr['epochs'] = results_tr.index + 1\n",
    "results_tr.head()\n",
    "\n",
    "results_to_plot = results_tr.melt(id_vars=\"epochs\")\n",
    "results_to_plot.head()"
   ]
  },
  {
   "cell_type": "code",
   "execution_count": 27,
   "id": "36cedf59",
   "metadata": {
    "execution": {
     "iopub.execute_input": "2022-03-05T13:46:54.926531Z",
     "iopub.status.busy": "2022-03-05T13:46:54.925996Z",
     "iopub.status.idle": "2022-03-05T13:46:54.985062Z",
     "shell.execute_reply": "2022-03-05T13:46:54.984296Z",
     "shell.execute_reply.started": "2022-03-05T02:03:56.795022Z"
    },
    "papermill": {
     "duration": 1.810605,
     "end_time": "2022-03-05T13:46:54.985185",
     "exception": false,
     "start_time": "2022-03-05T13:46:53.174580",
     "status": "completed"
    },
    "tags": []
   },
   "outputs": [
    {
     "data": {
      "text/html": [
       "<div>                            <div id=\"81ba6b91-4dc6-44f9-9a48-5190c40bfe4d\" class=\"plotly-graph-div\" style=\"height:525px; width:100%;\"></div>            <script type=\"text/javascript\">                require([\"plotly\"], function(Plotly) {                    window.PLOTLYENV=window.PLOTLYENV || {};                                    if (document.getElementById(\"81ba6b91-4dc6-44f9-9a48-5190c40bfe4d\")) {                    Plotly.newPlot(                        \"81ba6b91-4dc6-44f9-9a48-5190c40bfe4d\",                        [{\"hovertemplate\":\"variable=loss<br>epochs=%{x}<br>value=%{y}<extra></extra>\",\"legendgroup\":\"loss\",\"line\":{\"color\":\"#636efa\",\"dash\":\"solid\"},\"marker\":{\"symbol\":\"circle\"},\"mode\":\"lines\",\"name\":\"loss\",\"orientation\":\"v\",\"showlegend\":true,\"x\":[1,2,3,4,5,6,7,8,9,10],\"xaxis\":\"x\",\"y\":[1.6916612386703491,0.9750632643699646,0.6990965008735657,0.5301012992858887,0.4247691035270691,0.3391335606575012,0.30530160665512085,0.2589259445667267,0.22850419580936432,0.2064894139766693],\"yaxis\":\"y\",\"type\":\"scatter\"},{\"hovertemplate\":\"variable=val_loss<br>epochs=%{x}<br>value=%{y}<extra></extra>\",\"legendgroup\":\"val_loss\",\"line\":{\"color\":\"#EF553B\",\"dash\":\"solid\"},\"marker\":{\"symbol\":\"circle\"},\"mode\":\"lines\",\"name\":\"val_loss\",\"orientation\":\"v\",\"showlegend\":true,\"x\":[1,2,3,4,5,6,7,8,9,10],\"xaxis\":\"x\",\"y\":[0.6560298204421997,0.46609076857566833,0.3874918520450592,0.33073243498802185,0.30681124329566956,0.2831871509552002,0.2689206004142761,0.25974032282829285,0.24646472930908203,0.238661989569664],\"yaxis\":\"y\",\"type\":\"scatter\"}],                        {\"template\":{\"data\":{\"bar\":[{\"error_x\":{\"color\":\"#2a3f5f\"},\"error_y\":{\"color\":\"#2a3f5f\"},\"marker\":{\"line\":{\"color\":\"#E5ECF6\",\"width\":0.5},\"pattern\":{\"fillmode\":\"overlay\",\"size\":10,\"solidity\":0.2}},\"type\":\"bar\"}],\"barpolar\":[{\"marker\":{\"line\":{\"color\":\"#E5ECF6\",\"width\":0.5},\"pattern\":{\"fillmode\":\"overlay\",\"size\":10,\"solidity\":0.2}},\"type\":\"barpolar\"}],\"carpet\":[{\"aaxis\":{\"endlinecolor\":\"#2a3f5f\",\"gridcolor\":\"white\",\"linecolor\":\"white\",\"minorgridcolor\":\"white\",\"startlinecolor\":\"#2a3f5f\"},\"baxis\":{\"endlinecolor\":\"#2a3f5f\",\"gridcolor\":\"white\",\"linecolor\":\"white\",\"minorgridcolor\":\"white\",\"startlinecolor\":\"#2a3f5f\"},\"type\":\"carpet\"}],\"choropleth\":[{\"colorbar\":{\"outlinewidth\":0,\"ticks\":\"\"},\"type\":\"choropleth\"}],\"contour\":[{\"colorbar\":{\"outlinewidth\":0,\"ticks\":\"\"},\"colorscale\":[[0.0,\"#0d0887\"],[0.1111111111111111,\"#46039f\"],[0.2222222222222222,\"#7201a8\"],[0.3333333333333333,\"#9c179e\"],[0.4444444444444444,\"#bd3786\"],[0.5555555555555556,\"#d8576b\"],[0.6666666666666666,\"#ed7953\"],[0.7777777777777778,\"#fb9f3a\"],[0.8888888888888888,\"#fdca26\"],[1.0,\"#f0f921\"]],\"type\":\"contour\"}],\"contourcarpet\":[{\"colorbar\":{\"outlinewidth\":0,\"ticks\":\"\"},\"type\":\"contourcarpet\"}],\"heatmap\":[{\"colorbar\":{\"outlinewidth\":0,\"ticks\":\"\"},\"colorscale\":[[0.0,\"#0d0887\"],[0.1111111111111111,\"#46039f\"],[0.2222222222222222,\"#7201a8\"],[0.3333333333333333,\"#9c179e\"],[0.4444444444444444,\"#bd3786\"],[0.5555555555555556,\"#d8576b\"],[0.6666666666666666,\"#ed7953\"],[0.7777777777777778,\"#fb9f3a\"],[0.8888888888888888,\"#fdca26\"],[1.0,\"#f0f921\"]],\"type\":\"heatmap\"}],\"heatmapgl\":[{\"colorbar\":{\"outlinewidth\":0,\"ticks\":\"\"},\"colorscale\":[[0.0,\"#0d0887\"],[0.1111111111111111,\"#46039f\"],[0.2222222222222222,\"#7201a8\"],[0.3333333333333333,\"#9c179e\"],[0.4444444444444444,\"#bd3786\"],[0.5555555555555556,\"#d8576b\"],[0.6666666666666666,\"#ed7953\"],[0.7777777777777778,\"#fb9f3a\"],[0.8888888888888888,\"#fdca26\"],[1.0,\"#f0f921\"]],\"type\":\"heatmapgl\"}],\"histogram\":[{\"marker\":{\"pattern\":{\"fillmode\":\"overlay\",\"size\":10,\"solidity\":0.2}},\"type\":\"histogram\"}],\"histogram2d\":[{\"colorbar\":{\"outlinewidth\":0,\"ticks\":\"\"},\"colorscale\":[[0.0,\"#0d0887\"],[0.1111111111111111,\"#46039f\"],[0.2222222222222222,\"#7201a8\"],[0.3333333333333333,\"#9c179e\"],[0.4444444444444444,\"#bd3786\"],[0.5555555555555556,\"#d8576b\"],[0.6666666666666666,\"#ed7953\"],[0.7777777777777778,\"#fb9f3a\"],[0.8888888888888888,\"#fdca26\"],[1.0,\"#f0f921\"]],\"type\":\"histogram2d\"}],\"histogram2dcontour\":[{\"colorbar\":{\"outlinewidth\":0,\"ticks\":\"\"},\"colorscale\":[[0.0,\"#0d0887\"],[0.1111111111111111,\"#46039f\"],[0.2222222222222222,\"#7201a8\"],[0.3333333333333333,\"#9c179e\"],[0.4444444444444444,\"#bd3786\"],[0.5555555555555556,\"#d8576b\"],[0.6666666666666666,\"#ed7953\"],[0.7777777777777778,\"#fb9f3a\"],[0.8888888888888888,\"#fdca26\"],[1.0,\"#f0f921\"]],\"type\":\"histogram2dcontour\"}],\"mesh3d\":[{\"colorbar\":{\"outlinewidth\":0,\"ticks\":\"\"},\"type\":\"mesh3d\"}],\"parcoords\":[{\"line\":{\"colorbar\":{\"outlinewidth\":0,\"ticks\":\"\"}},\"type\":\"parcoords\"}],\"pie\":[{\"automargin\":true,\"type\":\"pie\"}],\"scatter\":[{\"marker\":{\"colorbar\":{\"outlinewidth\":0,\"ticks\":\"\"}},\"type\":\"scatter\"}],\"scatter3d\":[{\"line\":{\"colorbar\":{\"outlinewidth\":0,\"ticks\":\"\"}},\"marker\":{\"colorbar\":{\"outlinewidth\":0,\"ticks\":\"\"}},\"type\":\"scatter3d\"}],\"scattercarpet\":[{\"marker\":{\"colorbar\":{\"outlinewidth\":0,\"ticks\":\"\"}},\"type\":\"scattercarpet\"}],\"scattergeo\":[{\"marker\":{\"colorbar\":{\"outlinewidth\":0,\"ticks\":\"\"}},\"type\":\"scattergeo\"}],\"scattergl\":[{\"marker\":{\"colorbar\":{\"outlinewidth\":0,\"ticks\":\"\"}},\"type\":\"scattergl\"}],\"scattermapbox\":[{\"marker\":{\"colorbar\":{\"outlinewidth\":0,\"ticks\":\"\"}},\"type\":\"scattermapbox\"}],\"scatterpolar\":[{\"marker\":{\"colorbar\":{\"outlinewidth\":0,\"ticks\":\"\"}},\"type\":\"scatterpolar\"}],\"scatterpolargl\":[{\"marker\":{\"colorbar\":{\"outlinewidth\":0,\"ticks\":\"\"}},\"type\":\"scatterpolargl\"}],\"scatterternary\":[{\"marker\":{\"colorbar\":{\"outlinewidth\":0,\"ticks\":\"\"}},\"type\":\"scatterternary\"}],\"surface\":[{\"colorbar\":{\"outlinewidth\":0,\"ticks\":\"\"},\"colorscale\":[[0.0,\"#0d0887\"],[0.1111111111111111,\"#46039f\"],[0.2222222222222222,\"#7201a8\"],[0.3333333333333333,\"#9c179e\"],[0.4444444444444444,\"#bd3786\"],[0.5555555555555556,\"#d8576b\"],[0.6666666666666666,\"#ed7953\"],[0.7777777777777778,\"#fb9f3a\"],[0.8888888888888888,\"#fdca26\"],[1.0,\"#f0f921\"]],\"type\":\"surface\"}],\"table\":[{\"cells\":{\"fill\":{\"color\":\"#EBF0F8\"},\"line\":{\"color\":\"white\"}},\"header\":{\"fill\":{\"color\":\"#C8D4E3\"},\"line\":{\"color\":\"white\"}},\"type\":\"table\"}]},\"layout\":{\"annotationdefaults\":{\"arrowcolor\":\"#2a3f5f\",\"arrowhead\":0,\"arrowwidth\":1},\"autotypenumbers\":\"strict\",\"coloraxis\":{\"colorbar\":{\"outlinewidth\":0,\"ticks\":\"\"}},\"colorscale\":{\"diverging\":[[0,\"#8e0152\"],[0.1,\"#c51b7d\"],[0.2,\"#de77ae\"],[0.3,\"#f1b6da\"],[0.4,\"#fde0ef\"],[0.5,\"#f7f7f7\"],[0.6,\"#e6f5d0\"],[0.7,\"#b8e186\"],[0.8,\"#7fbc41\"],[0.9,\"#4d9221\"],[1,\"#276419\"]],\"sequential\":[[0.0,\"#0d0887\"],[0.1111111111111111,\"#46039f\"],[0.2222222222222222,\"#7201a8\"],[0.3333333333333333,\"#9c179e\"],[0.4444444444444444,\"#bd3786\"],[0.5555555555555556,\"#d8576b\"],[0.6666666666666666,\"#ed7953\"],[0.7777777777777778,\"#fb9f3a\"],[0.8888888888888888,\"#fdca26\"],[1.0,\"#f0f921\"]],\"sequentialminus\":[[0.0,\"#0d0887\"],[0.1111111111111111,\"#46039f\"],[0.2222222222222222,\"#7201a8\"],[0.3333333333333333,\"#9c179e\"],[0.4444444444444444,\"#bd3786\"],[0.5555555555555556,\"#d8576b\"],[0.6666666666666666,\"#ed7953\"],[0.7777777777777778,\"#fb9f3a\"],[0.8888888888888888,\"#fdca26\"],[1.0,\"#f0f921\"]]},\"colorway\":[\"#636efa\",\"#EF553B\",\"#00cc96\",\"#ab63fa\",\"#FFA15A\",\"#19d3f3\",\"#FF6692\",\"#B6E880\",\"#FF97FF\",\"#FECB52\"],\"font\":{\"color\":\"#2a3f5f\"},\"geo\":{\"bgcolor\":\"white\",\"lakecolor\":\"white\",\"landcolor\":\"#E5ECF6\",\"showlakes\":true,\"showland\":true,\"subunitcolor\":\"white\"},\"hoverlabel\":{\"align\":\"left\"},\"hovermode\":\"closest\",\"mapbox\":{\"style\":\"light\"},\"paper_bgcolor\":\"white\",\"plot_bgcolor\":\"#E5ECF6\",\"polar\":{\"angularaxis\":{\"gridcolor\":\"white\",\"linecolor\":\"white\",\"ticks\":\"\"},\"bgcolor\":\"#E5ECF6\",\"radialaxis\":{\"gridcolor\":\"white\",\"linecolor\":\"white\",\"ticks\":\"\"}},\"scene\":{\"xaxis\":{\"backgroundcolor\":\"#E5ECF6\",\"gridcolor\":\"white\",\"gridwidth\":2,\"linecolor\":\"white\",\"showbackground\":true,\"ticks\":\"\",\"zerolinecolor\":\"white\"},\"yaxis\":{\"backgroundcolor\":\"#E5ECF6\",\"gridcolor\":\"white\",\"gridwidth\":2,\"linecolor\":\"white\",\"showbackground\":true,\"ticks\":\"\",\"zerolinecolor\":\"white\"},\"zaxis\":{\"backgroundcolor\":\"#E5ECF6\",\"gridcolor\":\"white\",\"gridwidth\":2,\"linecolor\":\"white\",\"showbackground\":true,\"ticks\":\"\",\"zerolinecolor\":\"white\"}},\"shapedefaults\":{\"line\":{\"color\":\"#2a3f5f\"}},\"ternary\":{\"aaxis\":{\"gridcolor\":\"white\",\"linecolor\":\"white\",\"ticks\":\"\"},\"baxis\":{\"gridcolor\":\"white\",\"linecolor\":\"white\",\"ticks\":\"\"},\"bgcolor\":\"#E5ECF6\",\"caxis\":{\"gridcolor\":\"white\",\"linecolor\":\"white\",\"ticks\":\"\"}},\"title\":{\"x\":0.05},\"xaxis\":{\"automargin\":true,\"gridcolor\":\"white\",\"linecolor\":\"white\",\"ticks\":\"\",\"title\":{\"standoff\":15},\"zerolinecolor\":\"white\",\"zerolinewidth\":2},\"yaxis\":{\"automargin\":true,\"gridcolor\":\"white\",\"linecolor\":\"white\",\"ticks\":\"\",\"title\":{\"standoff\":15},\"zerolinecolor\":\"white\",\"zerolinewidth\":2}}},\"xaxis\":{\"anchor\":\"y\",\"domain\":[0.0,1.0],\"title\":{\"text\":\"epochs\"}},\"yaxis\":{\"anchor\":\"x\",\"domain\":[0.0,1.0],\"title\":{\"text\":\"value\"}},\"legend\":{\"title\":{\"text\":\"variable\"},\"tracegroupgap\":0},\"margin\":{\"t\":60}},                        {\"responsive\": true}                    ).then(function(){\n",
       "                            \n",
       "var gd = document.getElementById('81ba6b91-4dc6-44f9-9a48-5190c40bfe4d');\n",
       "var x = new MutationObserver(function (mutations, observer) {{\n",
       "        var display = window.getComputedStyle(gd).display;\n",
       "        if (!display || display === 'none') {{\n",
       "            console.log([gd, 'removed!']);\n",
       "            Plotly.purge(gd);\n",
       "            observer.disconnect();\n",
       "        }}\n",
       "}});\n",
       "\n",
       "// Listen for the removal of the full notebook cells\n",
       "var notebookContainer = gd.closest('#notebook-container');\n",
       "if (notebookContainer) {{\n",
       "    x.observe(notebookContainer, {childList: true});\n",
       "}}\n",
       "\n",
       "// Listen for the clearing of the current output cell\n",
       "var outputEl = gd.closest('.output');\n",
       "if (outputEl) {{\n",
       "    x.observe(outputEl, {childList: true});\n",
       "}}\n",
       "\n",
       "                        })                };                });            </script>        </div>"
      ]
     },
     "metadata": {},
     "output_type": "display_data"
    }
   ],
   "source": [
    "px.line(data_frame=results_to_plot[results_to_plot.variable.isin(['loss', 'val_loss'])],\n",
    "           x='epochs', y='value', color=\"variable\")"
   ]
  },
  {
   "cell_type": "code",
   "execution_count": 28,
   "id": "54aa7213",
   "metadata": {
    "execution": {
     "iopub.execute_input": "2022-03-05T13:46:58.505847Z",
     "iopub.status.busy": "2022-03-05T13:46:58.492725Z",
     "iopub.status.idle": "2022-03-05T13:46:58.555117Z",
     "shell.execute_reply": "2022-03-05T13:46:58.554636Z",
     "shell.execute_reply.started": "2022-03-05T02:03:56.864792Z"
    },
    "papermill": {
     "duration": 1.819577,
     "end_time": "2022-03-05T13:46:58.555246",
     "exception": false,
     "start_time": "2022-03-05T13:46:56.735669",
     "status": "completed"
    },
    "tags": []
   },
   "outputs": [
    {
     "data": {
      "text/html": [
       "<div>                            <div id=\"8d6e275a-183b-4eda-82e1-457afec1f4a6\" class=\"plotly-graph-div\" style=\"height:525px; width:100%;\"></div>            <script type=\"text/javascript\">                require([\"plotly\"], function(Plotly) {                    window.PLOTLYENV=window.PLOTLYENV || {};                                    if (document.getElementById(\"8d6e275a-183b-4eda-82e1-457afec1f4a6\")) {                    Plotly.newPlot(                        \"8d6e275a-183b-4eda-82e1-457afec1f4a6\",                        [{\"hovertemplate\":\"variable=f1_score<br>epochs=%{x}<br>value=%{y}<extra></extra>\",\"legendgroup\":\"f1_score\",\"line\":{\"color\":\"#636efa\",\"dash\":\"solid\"},\"marker\":{\"symbol\":\"circle\"},\"mode\":\"lines\",\"name\":\"f1_score\",\"orientation\":\"v\",\"showlegend\":true,\"x\":[1,2,3,4,5,6,7,8,9,10],\"xaxis\":\"x\",\"y\":[0.6180616021156311,0.746685266494751,0.8134211301803589,0.8531709313392639,0.8793100714683533,0.8999145030975342,0.9213756918907166,0.9262818694114685,0.9355139136314392,0.9427476525306702],\"yaxis\":\"y\",\"type\":\"scatter\"},{\"hovertemplate\":\"variable=val_f1_score<br>epochs=%{x}<br>value=%{y}<extra></extra>\",\"legendgroup\":\"val_f1_score\",\"line\":{\"color\":\"#EF553B\",\"dash\":\"solid\"},\"marker\":{\"symbol\":\"circle\"},\"mode\":\"lines\",\"name\":\"val_f1_score\",\"orientation\":\"v\",\"showlegend\":true,\"x\":[1,2,3,4,5,6,7,8,9,10],\"xaxis\":\"x\",\"y\":[0.8284310102462769,0.8905057311058044,0.9044102430343628,0.9178578853607178,0.9268210530281067,0.932490885257721,0.9365100860595703,0.9391508102416992,0.9465339183807373,0.9450286626815796],\"yaxis\":\"y\",\"type\":\"scatter\"}],                        {\"template\":{\"data\":{\"bar\":[{\"error_x\":{\"color\":\"#2a3f5f\"},\"error_y\":{\"color\":\"#2a3f5f\"},\"marker\":{\"line\":{\"color\":\"#E5ECF6\",\"width\":0.5},\"pattern\":{\"fillmode\":\"overlay\",\"size\":10,\"solidity\":0.2}},\"type\":\"bar\"}],\"barpolar\":[{\"marker\":{\"line\":{\"color\":\"#E5ECF6\",\"width\":0.5},\"pattern\":{\"fillmode\":\"overlay\",\"size\":10,\"solidity\":0.2}},\"type\":\"barpolar\"}],\"carpet\":[{\"aaxis\":{\"endlinecolor\":\"#2a3f5f\",\"gridcolor\":\"white\",\"linecolor\":\"white\",\"minorgridcolor\":\"white\",\"startlinecolor\":\"#2a3f5f\"},\"baxis\":{\"endlinecolor\":\"#2a3f5f\",\"gridcolor\":\"white\",\"linecolor\":\"white\",\"minorgridcolor\":\"white\",\"startlinecolor\":\"#2a3f5f\"},\"type\":\"carpet\"}],\"choropleth\":[{\"colorbar\":{\"outlinewidth\":0,\"ticks\":\"\"},\"type\":\"choropleth\"}],\"contour\":[{\"colorbar\":{\"outlinewidth\":0,\"ticks\":\"\"},\"colorscale\":[[0.0,\"#0d0887\"],[0.1111111111111111,\"#46039f\"],[0.2222222222222222,\"#7201a8\"],[0.3333333333333333,\"#9c179e\"],[0.4444444444444444,\"#bd3786\"],[0.5555555555555556,\"#d8576b\"],[0.6666666666666666,\"#ed7953\"],[0.7777777777777778,\"#fb9f3a\"],[0.8888888888888888,\"#fdca26\"],[1.0,\"#f0f921\"]],\"type\":\"contour\"}],\"contourcarpet\":[{\"colorbar\":{\"outlinewidth\":0,\"ticks\":\"\"},\"type\":\"contourcarpet\"}],\"heatmap\":[{\"colorbar\":{\"outlinewidth\":0,\"ticks\":\"\"},\"colorscale\":[[0.0,\"#0d0887\"],[0.1111111111111111,\"#46039f\"],[0.2222222222222222,\"#7201a8\"],[0.3333333333333333,\"#9c179e\"],[0.4444444444444444,\"#bd3786\"],[0.5555555555555556,\"#d8576b\"],[0.6666666666666666,\"#ed7953\"],[0.7777777777777778,\"#fb9f3a\"],[0.8888888888888888,\"#fdca26\"],[1.0,\"#f0f921\"]],\"type\":\"heatmap\"}],\"heatmapgl\":[{\"colorbar\":{\"outlinewidth\":0,\"ticks\":\"\"},\"colorscale\":[[0.0,\"#0d0887\"],[0.1111111111111111,\"#46039f\"],[0.2222222222222222,\"#7201a8\"],[0.3333333333333333,\"#9c179e\"],[0.4444444444444444,\"#bd3786\"],[0.5555555555555556,\"#d8576b\"],[0.6666666666666666,\"#ed7953\"],[0.7777777777777778,\"#fb9f3a\"],[0.8888888888888888,\"#fdca26\"],[1.0,\"#f0f921\"]],\"type\":\"heatmapgl\"}],\"histogram\":[{\"marker\":{\"pattern\":{\"fillmode\":\"overlay\",\"size\":10,\"solidity\":0.2}},\"type\":\"histogram\"}],\"histogram2d\":[{\"colorbar\":{\"outlinewidth\":0,\"ticks\":\"\"},\"colorscale\":[[0.0,\"#0d0887\"],[0.1111111111111111,\"#46039f\"],[0.2222222222222222,\"#7201a8\"],[0.3333333333333333,\"#9c179e\"],[0.4444444444444444,\"#bd3786\"],[0.5555555555555556,\"#d8576b\"],[0.6666666666666666,\"#ed7953\"],[0.7777777777777778,\"#fb9f3a\"],[0.8888888888888888,\"#fdca26\"],[1.0,\"#f0f921\"]],\"type\":\"histogram2d\"}],\"histogram2dcontour\":[{\"colorbar\":{\"outlinewidth\":0,\"ticks\":\"\"},\"colorscale\":[[0.0,\"#0d0887\"],[0.1111111111111111,\"#46039f\"],[0.2222222222222222,\"#7201a8\"],[0.3333333333333333,\"#9c179e\"],[0.4444444444444444,\"#bd3786\"],[0.5555555555555556,\"#d8576b\"],[0.6666666666666666,\"#ed7953\"],[0.7777777777777778,\"#fb9f3a\"],[0.8888888888888888,\"#fdca26\"],[1.0,\"#f0f921\"]],\"type\":\"histogram2dcontour\"}],\"mesh3d\":[{\"colorbar\":{\"outlinewidth\":0,\"ticks\":\"\"},\"type\":\"mesh3d\"}],\"parcoords\":[{\"line\":{\"colorbar\":{\"outlinewidth\":0,\"ticks\":\"\"}},\"type\":\"parcoords\"}],\"pie\":[{\"automargin\":true,\"type\":\"pie\"}],\"scatter\":[{\"marker\":{\"colorbar\":{\"outlinewidth\":0,\"ticks\":\"\"}},\"type\":\"scatter\"}],\"scatter3d\":[{\"line\":{\"colorbar\":{\"outlinewidth\":0,\"ticks\":\"\"}},\"marker\":{\"colorbar\":{\"outlinewidth\":0,\"ticks\":\"\"}},\"type\":\"scatter3d\"}],\"scattercarpet\":[{\"marker\":{\"colorbar\":{\"outlinewidth\":0,\"ticks\":\"\"}},\"type\":\"scattercarpet\"}],\"scattergeo\":[{\"marker\":{\"colorbar\":{\"outlinewidth\":0,\"ticks\":\"\"}},\"type\":\"scattergeo\"}],\"scattergl\":[{\"marker\":{\"colorbar\":{\"outlinewidth\":0,\"ticks\":\"\"}},\"type\":\"scattergl\"}],\"scattermapbox\":[{\"marker\":{\"colorbar\":{\"outlinewidth\":0,\"ticks\":\"\"}},\"type\":\"scattermapbox\"}],\"scatterpolar\":[{\"marker\":{\"colorbar\":{\"outlinewidth\":0,\"ticks\":\"\"}},\"type\":\"scatterpolar\"}],\"scatterpolargl\":[{\"marker\":{\"colorbar\":{\"outlinewidth\":0,\"ticks\":\"\"}},\"type\":\"scatterpolargl\"}],\"scatterternary\":[{\"marker\":{\"colorbar\":{\"outlinewidth\":0,\"ticks\":\"\"}},\"type\":\"scatterternary\"}],\"surface\":[{\"colorbar\":{\"outlinewidth\":0,\"ticks\":\"\"},\"colorscale\":[[0.0,\"#0d0887\"],[0.1111111111111111,\"#46039f\"],[0.2222222222222222,\"#7201a8\"],[0.3333333333333333,\"#9c179e\"],[0.4444444444444444,\"#bd3786\"],[0.5555555555555556,\"#d8576b\"],[0.6666666666666666,\"#ed7953\"],[0.7777777777777778,\"#fb9f3a\"],[0.8888888888888888,\"#fdca26\"],[1.0,\"#f0f921\"]],\"type\":\"surface\"}],\"table\":[{\"cells\":{\"fill\":{\"color\":\"#EBF0F8\"},\"line\":{\"color\":\"white\"}},\"header\":{\"fill\":{\"color\":\"#C8D4E3\"},\"line\":{\"color\":\"white\"}},\"type\":\"table\"}]},\"layout\":{\"annotationdefaults\":{\"arrowcolor\":\"#2a3f5f\",\"arrowhead\":0,\"arrowwidth\":1},\"autotypenumbers\":\"strict\",\"coloraxis\":{\"colorbar\":{\"outlinewidth\":0,\"ticks\":\"\"}},\"colorscale\":{\"diverging\":[[0,\"#8e0152\"],[0.1,\"#c51b7d\"],[0.2,\"#de77ae\"],[0.3,\"#f1b6da\"],[0.4,\"#fde0ef\"],[0.5,\"#f7f7f7\"],[0.6,\"#e6f5d0\"],[0.7,\"#b8e186\"],[0.8,\"#7fbc41\"],[0.9,\"#4d9221\"],[1,\"#276419\"]],\"sequential\":[[0.0,\"#0d0887\"],[0.1111111111111111,\"#46039f\"],[0.2222222222222222,\"#7201a8\"],[0.3333333333333333,\"#9c179e\"],[0.4444444444444444,\"#bd3786\"],[0.5555555555555556,\"#d8576b\"],[0.6666666666666666,\"#ed7953\"],[0.7777777777777778,\"#fb9f3a\"],[0.8888888888888888,\"#fdca26\"],[1.0,\"#f0f921\"]],\"sequentialminus\":[[0.0,\"#0d0887\"],[0.1111111111111111,\"#46039f\"],[0.2222222222222222,\"#7201a8\"],[0.3333333333333333,\"#9c179e\"],[0.4444444444444444,\"#bd3786\"],[0.5555555555555556,\"#d8576b\"],[0.6666666666666666,\"#ed7953\"],[0.7777777777777778,\"#fb9f3a\"],[0.8888888888888888,\"#fdca26\"],[1.0,\"#f0f921\"]]},\"colorway\":[\"#636efa\",\"#EF553B\",\"#00cc96\",\"#ab63fa\",\"#FFA15A\",\"#19d3f3\",\"#FF6692\",\"#B6E880\",\"#FF97FF\",\"#FECB52\"],\"font\":{\"color\":\"#2a3f5f\"},\"geo\":{\"bgcolor\":\"white\",\"lakecolor\":\"white\",\"landcolor\":\"#E5ECF6\",\"showlakes\":true,\"showland\":true,\"subunitcolor\":\"white\"},\"hoverlabel\":{\"align\":\"left\"},\"hovermode\":\"closest\",\"mapbox\":{\"style\":\"light\"},\"paper_bgcolor\":\"white\",\"plot_bgcolor\":\"#E5ECF6\",\"polar\":{\"angularaxis\":{\"gridcolor\":\"white\",\"linecolor\":\"white\",\"ticks\":\"\"},\"bgcolor\":\"#E5ECF6\",\"radialaxis\":{\"gridcolor\":\"white\",\"linecolor\":\"white\",\"ticks\":\"\"}},\"scene\":{\"xaxis\":{\"backgroundcolor\":\"#E5ECF6\",\"gridcolor\":\"white\",\"gridwidth\":2,\"linecolor\":\"white\",\"showbackground\":true,\"ticks\":\"\",\"zerolinecolor\":\"white\"},\"yaxis\":{\"backgroundcolor\":\"#E5ECF6\",\"gridcolor\":\"white\",\"gridwidth\":2,\"linecolor\":\"white\",\"showbackground\":true,\"ticks\":\"\",\"zerolinecolor\":\"white\"},\"zaxis\":{\"backgroundcolor\":\"#E5ECF6\",\"gridcolor\":\"white\",\"gridwidth\":2,\"linecolor\":\"white\",\"showbackground\":true,\"ticks\":\"\",\"zerolinecolor\":\"white\"}},\"shapedefaults\":{\"line\":{\"color\":\"#2a3f5f\"}},\"ternary\":{\"aaxis\":{\"gridcolor\":\"white\",\"linecolor\":\"white\",\"ticks\":\"\"},\"baxis\":{\"gridcolor\":\"white\",\"linecolor\":\"white\",\"ticks\":\"\"},\"bgcolor\":\"#E5ECF6\",\"caxis\":{\"gridcolor\":\"white\",\"linecolor\":\"white\",\"ticks\":\"\"}},\"title\":{\"x\":0.05},\"xaxis\":{\"automargin\":true,\"gridcolor\":\"white\",\"linecolor\":\"white\",\"ticks\":\"\",\"title\":{\"standoff\":15},\"zerolinecolor\":\"white\",\"zerolinewidth\":2},\"yaxis\":{\"automargin\":true,\"gridcolor\":\"white\",\"linecolor\":\"white\",\"ticks\":\"\",\"title\":{\"standoff\":15},\"zerolinecolor\":\"white\",\"zerolinewidth\":2}}},\"xaxis\":{\"anchor\":\"y\",\"domain\":[0.0,1.0],\"title\":{\"text\":\"epochs\"}},\"yaxis\":{\"anchor\":\"x\",\"domain\":[0.0,1.0],\"title\":{\"text\":\"value\"}},\"legend\":{\"title\":{\"text\":\"variable\"},\"tracegroupgap\":0},\"margin\":{\"t\":60}},                        {\"responsive\": true}                    ).then(function(){\n",
       "                            \n",
       "var gd = document.getElementById('8d6e275a-183b-4eda-82e1-457afec1f4a6');\n",
       "var x = new MutationObserver(function (mutations, observer) {{\n",
       "        var display = window.getComputedStyle(gd).display;\n",
       "        if (!display || display === 'none') {{\n",
       "            console.log([gd, 'removed!']);\n",
       "            Plotly.purge(gd);\n",
       "            observer.disconnect();\n",
       "        }}\n",
       "}});\n",
       "\n",
       "// Listen for the removal of the full notebook cells\n",
       "var notebookContainer = gd.closest('#notebook-container');\n",
       "if (notebookContainer) {{\n",
       "    x.observe(notebookContainer, {childList: true});\n",
       "}}\n",
       "\n",
       "// Listen for the clearing of the current output cell\n",
       "var outputEl = gd.closest('.output');\n",
       "if (outputEl) {{\n",
       "    x.observe(outputEl, {childList: true});\n",
       "}}\n",
       "\n",
       "                        })                };                });            </script>        </div>"
      ]
     },
     "metadata": {},
     "output_type": "display_data"
    }
   ],
   "source": [
    "px.line(data_frame=results_to_plot[results_to_plot.variable.isin(['f1_score', 'val_f1_score'])],\n",
    "           x='epochs', y='value', color=\"variable\")"
   ]
  },
  {
   "cell_type": "markdown",
   "id": "890f089a",
   "metadata": {
    "papermill": {
     "duration": 1.975816,
     "end_time": "2022-03-05T13:47:02.322028",
     "exception": false,
     "start_time": "2022-03-05T13:47:00.346212",
     "status": "completed"
    },
    "tags": []
   },
   "source": [
    "### Load best model, either phase 1 or 2"
   ]
  },
  {
   "cell_type": "code",
   "execution_count": 29,
   "id": "1e3aa5eb",
   "metadata": {
    "execution": {
     "iopub.execute_input": "2022-03-05T13:47:05.848670Z",
     "iopub.status.busy": "2022-03-05T13:47:05.834553Z",
     "iopub.status.idle": "2022-03-05T13:47:06.826830Z",
     "shell.execute_reply": "2022-03-05T13:47:06.827411Z",
     "shell.execute_reply.started": "2022-03-05T02:55:30.818731Z"
    },
    "papermill": {
     "duration": 2.762513,
     "end_time": "2022-03-05T13:47:06.827574",
     "exception": false,
     "start_time": "2022-03-05T13:47:04.065061",
     "status": "completed"
    },
    "tags": []
   },
   "outputs": [
    {
     "name": "stdout",
     "output_type": "stream",
     "text": [
      "best phase 1: 0.9613547921180725\n"
     ]
    }
   ],
   "source": [
    "best_phase2_f1 = results_tr['val_f1_score'].max()\n",
    "\n",
    "if best_phase1_f1 > best_phase2_f1:\n",
    "    effnet2_tfhub.load_weights(\"training/\"+\"cp-\"+f\"{best_phase1_epoch}\".rjust(4, '0')+\".ckpt\")\n",
    "    print(f\"best phase 1: {best_phase1_f1}\")\n",
    "else:\n",
    "    print(f\"best phase 2: {best_phase2_f1}\")\n",
    "\n"
   ]
  },
  {
   "cell_type": "markdown",
   "id": "afef709a",
   "metadata": {
    "papermill": {
     "duration": 1.714644,
     "end_time": "2022-03-05T13:47:10.258351",
     "exception": false,
     "start_time": "2022-03-05T13:47:08.543707",
     "status": "completed"
    },
    "tags": []
   },
   "source": [
    "# IV. Submission\n",
    "\n",
    "id,label\n",
    "a762df180,0\n",
    "24c5cf439,0\n",
    "7581e896d,0\n",
    "eb4b03b29,0\n",
    "etc."
   ]
  },
  {
   "cell_type": "code",
   "execution_count": 30,
   "id": "7246b4e8",
   "metadata": {
    "execution": {
     "iopub.execute_input": "2022-03-05T13:47:14.273527Z",
     "iopub.status.busy": "2022-03-05T13:47:14.272523Z",
     "iopub.status.idle": "2022-03-05T13:47:36.312246Z",
     "shell.execute_reply": "2022-03-05T13:47:36.311714Z",
     "shell.execute_reply.started": "2022-03-05T02:06:46.185648Z"
    },
    "papermill": {
     "duration": 24.276779,
     "end_time": "2022-03-05T13:47:36.312376",
     "exception": false,
     "start_time": "2022-03-05T13:47:12.035597",
     "status": "completed"
    },
    "tags": []
   },
   "outputs": [],
   "source": [
    "test_pred = effnet2_tfhub.predict(ds_test, batch_size=batch_size)\n"
   ]
  },
  {
   "cell_type": "code",
   "execution_count": 31,
   "id": "6f7d52a6",
   "metadata": {
    "execution": {
     "iopub.execute_input": "2022-03-05T13:47:39.757692Z",
     "iopub.status.busy": "2022-03-05T13:47:39.756883Z",
     "iopub.status.idle": "2022-03-05T13:48:20.729292Z",
     "shell.execute_reply": "2022-03-05T13:48:20.728400Z",
     "shell.execute_reply.started": "2022-03-05T02:10:30.816495Z"
    },
    "papermill": {
     "duration": 42.696417,
     "end_time": "2022-03-05T13:48:20.729436",
     "exception": false,
     "start_time": "2022-03-05T13:47:38.033019",
     "status": "completed"
    },
    "tags": []
   },
   "outputs": [],
   "source": [
    "img_ids = []\n",
    "img_preds = []\n",
    "for imgs, idnum in ds_test:\n",
    "    img_preds.append(effnet2_tfhub.predict(imgs, batch_size=batch_size))\n",
    "    img_ids.append(idnum)"
   ]
  },
  {
   "cell_type": "code",
   "execution_count": 32,
   "id": "8abec776",
   "metadata": {
    "execution": {
     "iopub.execute_input": "2022-03-05T13:48:24.232041Z",
     "iopub.status.busy": "2022-03-05T13:48:24.231147Z",
     "iopub.status.idle": "2022-03-05T13:48:24.232967Z",
     "shell.execute_reply": "2022-03-05T13:48:24.233386Z",
     "shell.execute_reply.started": "2022-03-05T02:13:41.427965Z"
    },
    "papermill": {
     "duration": 1.774333,
     "end_time": "2022-03-05T13:48:24.233518",
     "exception": false,
     "start_time": "2022-03-05T13:48:22.459185",
     "status": "completed"
    },
    "tags": []
   },
   "outputs": [],
   "source": [
    "img_ids = np.concatenate([img_id.numpy() for img_id in img_ids])\n"
   ]
  },
  {
   "cell_type": "code",
   "execution_count": 33,
   "id": "5b859dbd",
   "metadata": {
    "execution": {
     "iopub.execute_input": "2022-03-05T13:48:27.696720Z",
     "iopub.status.busy": "2022-03-05T13:48:27.695562Z",
     "iopub.status.idle": "2022-03-05T13:48:27.700825Z",
     "shell.execute_reply": "2022-03-05T13:48:27.700240Z",
     "shell.execute_reply.started": "2022-03-05T02:14:53.142790Z"
    },
    "papermill": {
     "duration": 1.739725,
     "end_time": "2022-03-05T13:48:27.700953",
     "exception": false,
     "start_time": "2022-03-05T13:48:25.961228",
     "status": "completed"
    },
    "tags": []
   },
   "outputs": [],
   "source": [
    "img_preds = np.concatenate([img_pred.argmax(1) for img_pred in img_preds])"
   ]
  },
  {
   "cell_type": "code",
   "execution_count": 34,
   "id": "7ca9a2de",
   "metadata": {
    "execution": {
     "iopub.execute_input": "2022-03-05T13:48:31.478364Z",
     "iopub.status.busy": "2022-03-05T13:48:31.477657Z",
     "iopub.status.idle": "2022-03-05T13:48:31.480456Z",
     "shell.execute_reply": "2022-03-05T13:48:31.480869Z",
     "shell.execute_reply.started": "2022-03-05T02:15:01.567551Z"
    },
    "papermill": {
     "duration": 2.04976,
     "end_time": "2022-03-05T13:48:31.481003",
     "exception": false,
     "start_time": "2022-03-05T13:48:29.431243",
     "status": "completed"
    },
    "tags": []
   },
   "outputs": [
    {
     "data": {
      "text/plain": [
       "((7382,), (7382,))"
      ]
     },
     "execution_count": 34,
     "metadata": {},
     "output_type": "execute_result"
    }
   ],
   "source": [
    "img_ids.shape, img_preds.shape"
   ]
  },
  {
   "cell_type": "code",
   "execution_count": 35,
   "id": "ba29c60f",
   "metadata": {
    "execution": {
     "iopub.execute_input": "2022-03-05T13:48:35.001153Z",
     "iopub.status.busy": "2022-03-05T13:48:34.999442Z",
     "iopub.status.idle": "2022-03-05T13:48:35.001722Z",
     "shell.execute_reply": "2022-03-05T13:48:35.002195Z",
     "shell.execute_reply.started": "2022-03-05T02:16:37.501348Z"
    },
    "papermill": {
     "duration": 1.745188,
     "end_time": "2022-03-05T13:48:35.002336",
     "exception": false,
     "start_time": "2022-03-05T13:48:33.257148",
     "status": "completed"
    },
    "tags": []
   },
   "outputs": [],
   "source": [
    "submission = pd.DataFrame({\"id\": img_ids, \"label\": img_preds})\n",
    "submission['id'] = submission['id'].apply(lambda x: x.decode())"
   ]
  },
  {
   "cell_type": "code",
   "execution_count": 36,
   "id": "c6701b35",
   "metadata": {
    "execution": {
     "iopub.execute_input": "2022-03-05T13:48:38.479577Z",
     "iopub.status.busy": "2022-03-05T13:48:38.478584Z",
     "iopub.status.idle": "2022-03-05T13:48:38.482978Z",
     "shell.execute_reply": "2022-03-05T13:48:38.482545Z",
     "shell.execute_reply.started": "2022-03-05T02:16:47.101917Z"
    },
    "papermill": {
     "duration": 1.732708,
     "end_time": "2022-03-05T13:48:38.483096",
     "exception": false,
     "start_time": "2022-03-05T13:48:36.750388",
     "status": "completed"
    },
    "tags": []
   },
   "outputs": [
    {
     "data": {
      "text/html": [
       "<div>\n",
       "<style scoped>\n",
       "    .dataframe tbody tr th:only-of-type {\n",
       "        vertical-align: middle;\n",
       "    }\n",
       "\n",
       "    .dataframe tbody tr th {\n",
       "        vertical-align: top;\n",
       "    }\n",
       "\n",
       "    .dataframe thead th {\n",
       "        text-align: right;\n",
       "    }\n",
       "</style>\n",
       "<table border=\"1\" class=\"dataframe\">\n",
       "  <thead>\n",
       "    <tr style=\"text-align: right;\">\n",
       "      <th></th>\n",
       "      <th>id</th>\n",
       "      <th>label</th>\n",
       "    </tr>\n",
       "  </thead>\n",
       "  <tbody>\n",
       "    <tr>\n",
       "      <th>0</th>\n",
       "      <td>59d1b6146</td>\n",
       "      <td>70</td>\n",
       "    </tr>\n",
       "    <tr>\n",
       "      <th>1</th>\n",
       "      <td>48c96bd6b</td>\n",
       "      <td>15</td>\n",
       "    </tr>\n",
       "    <tr>\n",
       "      <th>2</th>\n",
       "      <td>7b437ba4e</td>\n",
       "      <td>9</td>\n",
       "    </tr>\n",
       "    <tr>\n",
       "      <th>3</th>\n",
       "      <td>1b7aef8e8</td>\n",
       "      <td>79</td>\n",
       "    </tr>\n",
       "    <tr>\n",
       "      <th>4</th>\n",
       "      <td>d6143b4d4</td>\n",
       "      <td>4</td>\n",
       "    </tr>\n",
       "  </tbody>\n",
       "</table>\n",
       "</div>"
      ],
      "text/plain": [
       "          id  label\n",
       "0  59d1b6146     70\n",
       "1  48c96bd6b     15\n",
       "2  7b437ba4e      9\n",
       "3  1b7aef8e8     79\n",
       "4  d6143b4d4      4"
      ]
     },
     "execution_count": 36,
     "metadata": {},
     "output_type": "execute_result"
    }
   ],
   "source": [
    "submission.head()"
   ]
  },
  {
   "cell_type": "code",
   "execution_count": 37,
   "id": "47a600f9",
   "metadata": {
    "execution": {
     "iopub.execute_input": "2022-03-05T13:48:42.224208Z",
     "iopub.status.busy": "2022-03-05T13:48:42.223507Z",
     "iopub.status.idle": "2022-03-05T13:48:42.226189Z",
     "shell.execute_reply": "2022-03-05T13:48:42.226596Z",
     "shell.execute_reply.started": "2022-03-05T02:16:49.991232Z"
    },
    "papermill": {
     "duration": 2.011645,
     "end_time": "2022-03-05T13:48:42.226731",
     "exception": false,
     "start_time": "2022-03-05T13:48:40.215086",
     "status": "completed"
    },
    "tags": []
   },
   "outputs": [
    {
     "data": {
      "text/plain": [
       "id       object\n",
       "label     int64\n",
       "dtype: object"
      ]
     },
     "execution_count": 37,
     "metadata": {},
     "output_type": "execute_result"
    }
   ],
   "source": [
    "submission.dtypes"
   ]
  },
  {
   "cell_type": "code",
   "execution_count": 38,
   "id": "04000794",
   "metadata": {
    "execution": {
     "iopub.execute_input": "2022-03-05T13:48:45.725713Z",
     "iopub.status.busy": "2022-03-05T13:48:45.725016Z",
     "iopub.status.idle": "2022-03-05T13:48:45.744187Z",
     "shell.execute_reply": "2022-03-05T13:48:45.743714Z",
     "shell.execute_reply.started": "2022-03-05T02:18:16.829027Z"
    },
    "papermill": {
     "duration": 1.755977,
     "end_time": "2022-03-05T13:48:45.744302",
     "exception": false,
     "start_time": "2022-03-05T13:48:43.988325",
     "status": "completed"
    },
    "tags": []
   },
   "outputs": [],
   "source": [
    "submission.to_csv(\"submission.csv\", index=False)"
   ]
  },
  {
   "cell_type": "code",
   "execution_count": null,
   "id": "1a3fed81",
   "metadata": {
    "papermill": {
     "duration": 1.728528,
     "end_time": "2022-03-05T13:48:49.198230",
     "exception": false,
     "start_time": "2022-03-05T13:48:47.469702",
     "status": "completed"
    },
    "tags": []
   },
   "outputs": [],
   "source": []
  }
 ],
 "metadata": {
  "kernelspec": {
   "display_name": "Python 3 (ipykernel)",
   "language": "python",
   "name": "python3"
  },
  "language_info": {
   "codemirror_mode": {
    "name": "ipython",
    "version": 3
   },
   "file_extension": ".py",
   "mimetype": "text/x-python",
   "name": "python",
   "nbconvert_exporter": "python",
   "pygments_lexer": "ipython3",
   "version": "3.7.12"
  },
  "papermill": {
   "default_parameters": {},
   "duration": 1983.353184,
   "end_time": "2022-03-05T13:48:55.324951",
   "environment_variables": {},
   "exception": null,
   "input_path": "__notebook__.ipynb",
   "output_path": "__notebook__.ipynb",
   "parameters": {},
   "start_time": "2022-03-05T13:15:51.971767",
   "version": "2.3.3"
  }
 },
 "nbformat": 4,
 "nbformat_minor": 5
}
