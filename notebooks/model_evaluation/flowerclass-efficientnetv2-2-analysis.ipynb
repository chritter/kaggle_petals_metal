{
 "cells": [
  {
   "cell_type": "markdown",
   "id": "9e2925d2",
   "metadata": {
    "papermill": {
     "duration": 0.045341,
     "end_time": "2022-03-21T13:58:29.000943",
     "exception": false,
     "start_time": "2022-03-21T13:58:28.955602",
     "status": "completed"
    },
    "tags": []
   },
   "source": [
    "# Analysis of Model flowerclass-efficientnetv2-2\n"
   ]
  },
  {
   "cell_type": "code",
   "execution_count": 1,
   "id": "67cfaf30",
   "metadata": {
    "execution": {
     "iopub.execute_input": "2022-03-21T13:58:29.099664Z",
     "iopub.status.busy": "2022-03-21T13:58:29.098859Z",
     "iopub.status.idle": "2022-03-21T13:58:38.115823Z",
     "shell.execute_reply": "2022-03-21T13:58:38.115149Z",
     "shell.execute_reply.started": "2022-03-21T13:02:47.282735Z"
    },
    "papermill": {
     "duration": 9.06998,
     "end_time": "2022-03-21T13:58:38.115967",
     "exception": false,
     "start_time": "2022-03-21T13:58:29.045987",
     "status": "completed"
    },
    "tags": []
   },
   "outputs": [
    {
     "name": "stdout",
     "output_type": "stream",
     "text": [
      "2.6.2\n",
      "0.14.0\n",
      "Tensorflow version 2.6.2\n"
     ]
    }
   ],
   "source": [
    "import math, re, os\n",
    "import numpy as np\n",
    "import tensorflow as tf\n",
    "import tensorflow_addons as tfa\n",
    "print(tf.__version__)\n",
    "print(tfa.__version__)\n",
    "\n",
    "from flowerclass_read_tf_ds import get_datasets\n",
    "import tensorflow_hub as hub\n",
    "import pandas as pd\n",
    "import math\n",
    "import plotly_express as px\n",
    "from tqdm import tqdm\n",
    "import seaborn as sns\n",
    "import matplotlib.pyplot as plt\n",
    "import itertools"
   ]
  },
  {
   "cell_type": "code",
   "execution_count": 2,
   "id": "05c5fedf",
   "metadata": {
    "execution": {
     "iopub.execute_input": "2022-03-21T13:58:40.326417Z",
     "iopub.status.busy": "2022-03-21T13:58:38.206505Z",
     "iopub.status.idle": "2022-03-21T13:58:40.334013Z",
     "shell.execute_reply": "2022-03-21T13:58:40.334424Z",
     "shell.execute_reply.started": "2022-03-21T13:02:56.524716Z"
    },
    "papermill": {
     "duration": 2.174804,
     "end_time": "2022-03-21T13:58:40.334579",
     "exception": false,
     "start_time": "2022-03-21T13:58:38.159775",
     "status": "completed"
    },
    "tags": []
   },
   "outputs": [
    {
     "name": "stderr",
     "output_type": "stream",
     "text": [
      "2022-03-21 13:58:38.206883: I tensorflow/core/platform/cpu_feature_guard.cc:142] This TensorFlow binary is optimized with oneAPI Deep Neural Network Library (oneDNN) to use the following CPU instructions in performance-critical operations:  AVX2 AVX512F FMA\n",
      "To enable them in other operations, rebuild TensorFlow with the appropriate compiler flags.\n",
      "2022-03-21 13:58:38.253368: I tensorflow/stream_executor/cuda/cuda_gpu_executor.cc:937] successful NUMA node read from SysFS had negative value (-1), but there must be at least one NUMA node, so returning NUMA node zero\n",
      "2022-03-21 13:58:38.254344: I tensorflow/stream_executor/cuda/cuda_gpu_executor.cc:937] successful NUMA node read from SysFS had negative value (-1), but there must be at least one NUMA node, so returning NUMA node zero\n",
      "2022-03-21 13:58:38.254964: I tensorflow/stream_executor/cuda/cuda_gpu_executor.cc:937] successful NUMA node read from SysFS had negative value (-1), but there must be at least one NUMA node, so returning NUMA node zero\n",
      "2022-03-21 13:58:40.313215: I tensorflow/stream_executor/cuda/cuda_gpu_executor.cc:937] successful NUMA node read from SysFS had negative value (-1), but there must be at least one NUMA node, so returning NUMA node zero\n",
      "2022-03-21 13:58:40.314892: I tensorflow/stream_executor/cuda/cuda_gpu_executor.cc:937] successful NUMA node read from SysFS had negative value (-1), but there must be at least one NUMA node, so returning NUMA node zero\n",
      "2022-03-21 13:58:40.316339: I tensorflow/stream_executor/cuda/cuda_gpu_executor.cc:937] successful NUMA node read from SysFS had negative value (-1), but there must be at least one NUMA node, so returning NUMA node zero\n",
      "2022-03-21 13:58:40.316942: I tensorflow/core/common_runtime/gpu/gpu_device.cc:1510] Created device /device:GPU:0 with 15385 MB memory:  -> device: 0, name: Tesla P100-PCIE-16GB, pci bus id: 0000:00:04.0, compute capability: 6.0\n"
     ]
    },
    {
     "data": {
      "text/plain": [
       "'/device:GPU:0'"
      ]
     },
     "execution_count": 2,
     "metadata": {},
     "output_type": "execute_result"
    }
   ],
   "source": [
    "tf.test.gpu_device_name()"
   ]
  },
  {
   "cell_type": "markdown",
   "id": "c9320a2a",
   "metadata": {
    "_cell_guid": "b1076dfc-b9ad-4769-8c92-a6c4dae69d19",
    "_uuid": "8f2839f25d086af736a60e9eeb907d3b93b6e0e5",
    "papermill": {
     "duration": 0.043585,
     "end_time": "2022-03-21T13:58:40.422129",
     "exception": false,
     "start_time": "2022-03-21T13:58:40.378544",
     "status": "completed"
    },
    "tags": []
   },
   "source": [
    "# I. Data Loading"
   ]
  },
  {
   "cell_type": "code",
   "execution_count": 3,
   "id": "fe845949",
   "metadata": {
    "execution": {
     "iopub.execute_input": "2022-03-21T13:58:40.513721Z",
     "iopub.status.busy": "2022-03-21T13:58:40.512970Z",
     "iopub.status.idle": "2022-03-21T13:58:40.515570Z",
     "shell.execute_reply": "2022-03-21T13:58:40.515101Z",
     "shell.execute_reply.started": "2022-03-21T13:02:58.577116Z"
    },
    "papermill": {
     "duration": 0.049473,
     "end_time": "2022-03-21T13:58:40.515679",
     "exception": false,
     "start_time": "2022-03-21T13:58:40.466206",
     "status": "completed"
    },
    "tags": []
   },
   "outputs": [],
   "source": [
    "image_size = 224\n",
    "batch_size = 64"
   ]
  },
  {
   "cell_type": "code",
   "execution_count": 4,
   "id": "adcc8306",
   "metadata": {
    "execution": {
     "iopub.execute_input": "2022-03-21T13:58:40.607170Z",
     "iopub.status.busy": "2022-03-21T13:58:40.606690Z",
     "iopub.status.idle": "2022-03-21T13:58:40.610279Z",
     "shell.execute_reply": "2022-03-21T13:58:40.609796Z",
     "shell.execute_reply.started": "2022-03-21T13:02:58.594745Z"
    },
    "papermill": {
     "duration": 0.050989,
     "end_time": "2022-03-21T13:58:40.610388",
     "exception": false,
     "start_time": "2022-03-21T13:58:40.559399",
     "status": "completed"
    },
    "tags": []
   },
   "outputs": [],
   "source": [
    "#%%debug (50, 480)\n"
   ]
  },
  {
   "cell_type": "code",
   "execution_count": 5,
   "id": "ebea0303",
   "metadata": {
    "execution": {
     "iopub.execute_input": "2022-03-21T13:58:40.707798Z",
     "iopub.status.busy": "2022-03-21T13:58:40.704837Z",
     "iopub.status.idle": "2022-03-21T13:58:40.711086Z",
     "shell.execute_reply": "2022-03-21T13:58:40.710705Z",
     "shell.execute_reply.started": "2022-03-21T13:02:58.602459Z"
    },
    "papermill": {
     "duration": 0.057086,
     "end_time": "2022-03-21T13:58:40.711186",
     "exception": false,
     "start_time": "2022-03-21T13:58:40.654100",
     "status": "completed"
    },
    "tags": []
   },
   "outputs": [
    {
     "data": {
      "text/plain": [
       "104"
      ]
     },
     "execution_count": 5,
     "metadata": {},
     "output_type": "execute_result"
    }
   ],
   "source": [
    "class_names = ['pink primrose',    'hard-leaved pocket orchid', 'canterbury bells', 'sweet pea',     'wild geranium',     'tiger lily',           'moon orchid',              'bird of paradise', 'monkshood',        'globe thistle',         # 00 - 09\n",
    "           'snapdragon',       \"colt's foot\",               'king protea',      'spear thistle', 'yellow iris',       'globe-flower',         'purple coneflower',        'peruvian lily',    'balloon flower',   'giant white arum lily', # 10 - 19\n",
    "           'fire lily',        'pincushion flower',         'fritillary',       'red ginger',    'grape hyacinth',    'corn poppy',           'prince of wales feathers', 'stemless gentian', 'artichoke',        'sweet william',         # 20 - 29\n",
    "           'carnation',        'garden phlox',              'love in the mist', 'cosmos',        'alpine sea holly',  'ruby-lipped cattleya', 'cape flower',              'great masterwort', 'siam tulip',       'lenten rose',           # 30 - 39\n",
    "           'barberton daisy',  'daffodil',                  'sword lily',       'poinsettia',    'bolero deep blue',  'wallflower',           'marigold',                 'buttercup',        'daisy',            'common dandelion',      # 40 - 49\n",
    "           'petunia',          'wild pansy',                'primula',          'sunflower',     'lilac hibiscus',    'bishop of llandaff',   'gaura',                    'geranium',         'orange dahlia',    'pink-yellow dahlia',    # 50 - 59\n",
    "           'cautleya spicata', 'japanese anemone',          'black-eyed susan', 'silverbush',    'californian poppy', 'osteospermum',         'spring crocus',            'iris',             'windflower',       'tree poppy',            # 60 - 69\n",
    "           'gazania',          'azalea',                    'water lily',       'rose',          'thorn apple',       'morning glory',        'passion flower',           'lotus',            'toad lily',        'anthurium',             # 70 - 79\n",
    "           'frangipani',       'clematis',                  'hibiscus',         'columbine',     'desert-rose',       'tree mallow',          'magnolia',                 'cyclamen ',        'watercress',       'canna lily',            # 80 - 89\n",
    "           'hippeastrum ',     'bee balm',                  'pink quill',       'foxglove',      'bougainvillea',     'camellia',             'mallow',                   'mexican petunia',  'bromelia',         'blanket flower',        # 90 - 99\n",
    "           'trumpet creeper',  'blackberry lily',           'common tulip',     'wild rose']                                                                                                                                               # 100 - 102\n",
    "len(class_names)"
   ]
  },
  {
   "cell_type": "markdown",
   "id": "1b4c5d7c",
   "metadata": {
    "papermill": {
     "duration": 0.043604,
     "end_time": "2022-03-21T13:58:40.798775",
     "exception": false,
     "start_time": "2022-03-21T13:58:40.755171",
     "status": "completed"
    },
    "tags": []
   },
   "source": [
    "# II. Model Loading: EfficientNetV2"
   ]
  },
  {
   "cell_type": "code",
   "execution_count": 6,
   "id": "5dcba190",
   "metadata": {
    "execution": {
     "iopub.execute_input": "2022-03-21T13:58:40.890784Z",
     "iopub.status.busy": "2022-03-21T13:58:40.889981Z",
     "iopub.status.idle": "2022-03-21T13:58:40.892389Z",
     "shell.execute_reply": "2022-03-21T13:58:40.891947Z",
     "shell.execute_reply.started": "2022-03-21T13:02:58.618290Z"
    },
    "papermill": {
     "duration": 0.049642,
     "end_time": "2022-03-21T13:58:40.892500",
     "exception": false,
     "start_time": "2022-03-21T13:58:40.842858",
     "status": "completed"
    },
    "tags": []
   },
   "outputs": [],
   "source": [
    "effnet2_base = \"https://tfhub.dev/google/imagenet/efficientnet_v2_imagenet21k_s/feature_vector/2\""
   ]
  },
  {
   "cell_type": "code",
   "execution_count": 7,
   "id": "80ae9db5",
   "metadata": {
    "execution": {
     "iopub.execute_input": "2022-03-21T13:58:40.985768Z",
     "iopub.status.busy": "2022-03-21T13:58:40.985270Z",
     "iopub.status.idle": "2022-03-21T13:58:53.862622Z",
     "shell.execute_reply": "2022-03-21T13:58:53.863329Z",
     "shell.execute_reply.started": "2022-03-21T13:02:58.628205Z"
    },
    "papermill": {
     "duration": 12.927122,
     "end_time": "2022-03-21T13:58:53.863536",
     "exception": false,
     "start_time": "2022-03-21T13:58:40.936414",
     "status": "completed"
    },
    "tags": []
   },
   "outputs": [
    {
     "name": "stderr",
     "output_type": "stream",
     "text": [
      "2022-03-21 13:58:43.030143: I tensorflow/stream_executor/cuda/cuda_gpu_executor.cc:937] successful NUMA node read from SysFS had negative value (-1), but there must be at least one NUMA node, so returning NUMA node zero\n",
      "2022-03-21 13:58:43.030966: I tensorflow/stream_executor/cuda/cuda_gpu_executor.cc:937] successful NUMA node read from SysFS had negative value (-1), but there must be at least one NUMA node, so returning NUMA node zero\n",
      "2022-03-21 13:58:43.031589: I tensorflow/stream_executor/cuda/cuda_gpu_executor.cc:937] successful NUMA node read from SysFS had negative value (-1), but there must be at least one NUMA node, so returning NUMA node zero\n",
      "2022-03-21 13:58:43.032432: I tensorflow/stream_executor/cuda/cuda_gpu_executor.cc:937] successful NUMA node read from SysFS had negative value (-1), but there must be at least one NUMA node, so returning NUMA node zero\n",
      "2022-03-21 13:58:43.033071: I tensorflow/stream_executor/cuda/cuda_gpu_executor.cc:937] successful NUMA node read from SysFS had negative value (-1), but there must be at least one NUMA node, so returning NUMA node zero\n",
      "2022-03-21 13:58:43.033683: I tensorflow/stream_executor/cuda/cuda_gpu_executor.cc:937] successful NUMA node read from SysFS had negative value (-1), but there must be at least one NUMA node, so returning NUMA node zero\n",
      "2022-03-21 13:58:43.034395: I tensorflow/stream_executor/cuda/cuda_gpu_executor.cc:937] successful NUMA node read from SysFS had negative value (-1), but there must be at least one NUMA node, so returning NUMA node zero\n",
      "2022-03-21 13:58:43.035040: I tensorflow/stream_executor/cuda/cuda_gpu_executor.cc:937] successful NUMA node read from SysFS had negative value (-1), but there must be at least one NUMA node, so returning NUMA node zero\n",
      "2022-03-21 13:58:43.035657: I tensorflow/core/common_runtime/gpu/gpu_device.cc:1510] Created device /job:localhost/replica:0/task:0/device:GPU:0 with 15385 MB memory:  -> device: 0, name: Tesla P100-PCIE-16GB, pci bus id: 0000:00:04.0, compute capability: 6.0\n"
     ]
    },
    {
     "name": "stdout",
     "output_type": "stream",
     "text": [
      "Model: \"sequential\"\n",
      "_________________________________________________________________\n",
      "Layer (type)                 Output Shape              Param #   \n",
      "=================================================================\n",
      "keras_layer (KerasLayer)     (None, 1280)              20331360  \n",
      "_________________________________________________________________\n",
      "dropout (Dropout)            (None, 1280)              0         \n",
      "_________________________________________________________________\n",
      "dense (Dense)                (None, 104)               133224    \n",
      "=================================================================\n",
      "Total params: 20,464,584\n",
      "Trainable params: 133,224\n",
      "Non-trainable params: 20,331,360\n",
      "_________________________________________________________________\n"
     ]
    }
   ],
   "source": [
    "    effnet2_tfhub = tf.keras.Sequential([\n",
    "    # Explicitly define the input shape so the model can be properly\n",
    "    # loaded by the TFLiteConverter\n",
    "    tf.keras.layers.InputLayer(input_shape=(image_size, image_size,3)),\n",
    "    hub.KerasLayer(effnet2_base, trainable=False),\n",
    "    tf.keras.layers.Dropout(rate=0.2),\n",
    "    tf.keras.layers.Dense(104, activation='softmax')\n",
    "])\n",
    "effnet2_tfhub.build((None, image_size, image_size,3,)) #This is to be used for subclassed models, which do not know at instantiation time what their inputs look like.\n",
    "\n",
    "\n",
    "effnet2_tfhub.summary()"
   ]
  },
  {
   "cell_type": "code",
   "execution_count": 8,
   "id": "97d63d8b",
   "metadata": {
    "execution": {
     "iopub.execute_input": "2022-03-21T13:58:54.005371Z",
     "iopub.status.busy": "2022-03-21T13:58:54.004597Z",
     "iopub.status.idle": "2022-03-21T13:58:55.866972Z",
     "shell.execute_reply": "2022-03-21T13:58:55.867512Z",
     "shell.execute_reply.started": "2022-03-21T13:03:11.794310Z"
    },
    "papermill": {
     "duration": 1.95434,
     "end_time": "2022-03-21T13:58:55.867674",
     "exception": false,
     "start_time": "2022-03-21T13:58:53.913334",
     "status": "completed"
    },
    "tags": []
   },
   "outputs": [
    {
     "data": {
      "text/plain": [
       "<tensorflow.python.training.tracking.util.CheckpointLoadStatus at 0x7fc22b540f50>"
      ]
     },
     "execution_count": 8,
     "metadata": {},
     "output_type": "execute_result"
    }
   ],
   "source": [
    "best_phase = 12\n",
    "effnet2_tfhub.load_weights(\"../input/flowerclass-efficientnetv2-2/training/\"+\"cp-\"+f\"{best_phase}\".rjust(4, '0')+\".ckpt\")"
   ]
  },
  {
   "cell_type": "markdown",
   "id": "b7d645e0",
   "metadata": {
    "papermill": {
     "duration": 0.044016,
     "end_time": "2022-03-21T13:58:55.956921",
     "exception": false,
     "start_time": "2022-03-21T13:58:55.912905",
     "status": "completed"
    },
    "tags": []
   },
   "source": [
    "# III. Model Analysis"
   ]
  },
  {
   "cell_type": "code",
   "execution_count": 9,
   "id": "a9fc4025",
   "metadata": {
    "execution": {
     "iopub.execute_input": "2022-03-21T13:58:56.051704Z",
     "iopub.status.busy": "2022-03-21T13:58:56.050216Z",
     "iopub.status.idle": "2022-03-21T13:58:56.052334Z",
     "shell.execute_reply": "2022-03-21T13:58:56.052740Z",
     "shell.execute_reply.started": "2022-03-21T13:03:14.509064Z"
    },
    "papermill": {
     "duration": 0.051439,
     "end_time": "2022-03-21T13:58:56.052858",
     "exception": false,
     "start_time": "2022-03-21T13:58:56.001419",
     "status": "completed"
    },
    "tags": []
   },
   "outputs": [],
   "source": [
    "from sklearn.metrics import classification_report, confusion_matrix"
   ]
  },
  {
   "cell_type": "markdown",
   "id": "244f8708",
   "metadata": {
    "papermill": {
     "duration": 0.044776,
     "end_time": "2022-03-21T13:58:56.142398",
     "exception": false,
     "start_time": "2022-03-21T13:58:56.097622",
     "status": "completed"
    },
    "tags": []
   },
   "source": [
    "Ensure that validation data loader returns fixed order of elements."
   ]
  },
  {
   "cell_type": "code",
   "execution_count": 10,
   "id": "8e981fe9",
   "metadata": {
    "execution": {
     "iopub.execute_input": "2022-03-21T13:58:56.238168Z",
     "iopub.status.busy": "2022-03-21T13:58:56.237646Z",
     "iopub.status.idle": "2022-03-21T13:59:21.574438Z",
     "shell.execute_reply": "2022-03-21T13:59:21.574006Z",
     "shell.execute_reply.started": "2022-03-21T13:03:14.516230Z"
    },
    "papermill": {
     "duration": 25.387595,
     "end_time": "2022-03-21T13:59:21.574564",
     "exception": false,
     "start_time": "2022-03-21T13:58:56.186969",
     "status": "completed"
    },
    "tags": []
   },
   "outputs": [
    {
     "name": "stdout",
     "output_type": "stream",
     "text": [
      "Training: <PrefetchDataset shapes: ((None, 224, 224, 3), (None, 104)), types: (tf.float32, tf.float32)>\n",
      "Validation: <PrefetchDataset shapes: ((None, 224, 224, 3), (None, 104)), types: (tf.float32, tf.float32)>\n",
      "Test: <PrefetchDataset shapes: ((None, 224, 224, 3), (None,)), types: (tf.float32, tf.string)>\n"
     ]
    },
    {
     "name": "stderr",
     "output_type": "stream",
     "text": [
      "0it [00:00, ?it/s]2022-03-21 13:58:56.577424: I tensorflow/compiler/mlir/mlir_graph_optimization_pass.cc:185] None of the MLIR Optimization Passes are enabled (registered 2)\n",
      "2022-03-21 13:58:59.257157: I tensorflow/stream_executor/cuda/cuda_dnn.cc:369] Loaded cuDNN version 8005\n",
      "58it [00:25,  2.32it/s]\n"
     ]
    }
   ],
   "source": [
    "ds_train, ds_valid, ds_test = get_datasets(BATCH_SIZE=batch_size, IMAGE_SIZE=(image_size, image_size), \n",
    "                                           RESIZE=None, tpu=False)\n",
    "\n",
    "img_preds = []\n",
    "img_labels = []\n",
    "for imgs, label in tqdm(ds_valid):\n",
    "    img_preds.append(effnet2_tfhub.predict(imgs, batch_size=batch_size))\n",
    "    img_labels.append(label.numpy())\n",
    "    \n",
    "img_preds = np.concatenate([img_pred.argmax(1) for img_pred in img_preds])\n",
    "img_labels = np.concatenate([img_label.argmax(1) for img_label in img_labels])\n"
   ]
  },
  {
   "cell_type": "code",
   "execution_count": 11,
   "id": "f50a4052",
   "metadata": {
    "execution": {
     "iopub.execute_input": "2022-03-21T13:59:21.710272Z",
     "iopub.status.busy": "2022-03-21T13:59:21.709549Z",
     "iopub.status.idle": "2022-03-21T13:59:21.711985Z",
     "shell.execute_reply": "2022-03-21T13:59:21.711581Z",
     "shell.execute_reply.started": "2022-03-21T13:03:55.855437Z"
    },
    "papermill": {
     "duration": 0.073315,
     "end_time": "2022-03-21T13:59:21.712094",
     "exception": false,
     "start_time": "2022-03-21T13:59:21.638779",
     "status": "completed"
    },
    "tags": []
   },
   "outputs": [],
   "source": [
    "val_results = pd.DataFrame({'pred': img_preds, \"label\":img_labels})"
   ]
  },
  {
   "cell_type": "code",
   "execution_count": 12,
   "id": "b2f3ea67",
   "metadata": {
    "execution": {
     "iopub.execute_input": "2022-03-21T13:59:21.846448Z",
     "iopub.status.busy": "2022-03-21T13:59:21.845733Z",
     "iopub.status.idle": "2022-03-21T13:59:21.855753Z",
     "shell.execute_reply": "2022-03-21T13:59:21.855345Z",
     "shell.execute_reply.started": "2022-03-21T13:03:55.865646Z"
    },
    "papermill": {
     "duration": 0.079708,
     "end_time": "2022-03-21T13:59:21.855862",
     "exception": false,
     "start_time": "2022-03-21T13:59:21.776154",
     "status": "completed"
    },
    "tags": []
   },
   "outputs": [
    {
     "data": {
      "text/html": [
       "<div>\n",
       "<style scoped>\n",
       "    .dataframe tbody tr th:only-of-type {\n",
       "        vertical-align: middle;\n",
       "    }\n",
       "\n",
       "    .dataframe tbody tr th {\n",
       "        vertical-align: top;\n",
       "    }\n",
       "\n",
       "    .dataframe thead th {\n",
       "        text-align: right;\n",
       "    }\n",
       "</style>\n",
       "<table border=\"1\" class=\"dataframe\">\n",
       "  <thead>\n",
       "    <tr style=\"text-align: right;\">\n",
       "      <th></th>\n",
       "      <th>pred</th>\n",
       "      <th>label</th>\n",
       "    </tr>\n",
       "  </thead>\n",
       "  <tbody>\n",
       "    <tr>\n",
       "      <th>0</th>\n",
       "      <td>62</td>\n",
       "      <td>62</td>\n",
       "    </tr>\n",
       "    <tr>\n",
       "      <th>1</th>\n",
       "      <td>75</td>\n",
       "      <td>75</td>\n",
       "    </tr>\n",
       "    <tr>\n",
       "      <th>2</th>\n",
       "      <td>0</td>\n",
       "      <td>0</td>\n",
       "    </tr>\n",
       "    <tr>\n",
       "      <th>3</th>\n",
       "      <td>59</td>\n",
       "      <td>59</td>\n",
       "    </tr>\n",
       "    <tr>\n",
       "      <th>4</th>\n",
       "      <td>45</td>\n",
       "      <td>45</td>\n",
       "    </tr>\n",
       "  </tbody>\n",
       "</table>\n",
       "</div>"
      ],
      "text/plain": [
       "   pred  label\n",
       "0    62     62\n",
       "1    75     75\n",
       "2     0      0\n",
       "3    59     59\n",
       "4    45     45"
      ]
     },
     "execution_count": 12,
     "metadata": {},
     "output_type": "execute_result"
    }
   ],
   "source": [
    "val_results.head()"
   ]
  },
  {
   "cell_type": "markdown",
   "id": "a46fe4b8",
   "metadata": {
    "papermill": {
     "duration": 0.063954,
     "end_time": "2022-03-21T13:59:21.984052",
     "exception": false,
     "start_time": "2022-03-21T13:59:21.920098",
     "status": "completed"
    },
    "tags": []
   },
   "source": [
    "# IIIa) Overall Evaluation"
   ]
  },
  {
   "cell_type": "code",
   "execution_count": 13,
   "id": "f4a9cde0",
   "metadata": {
    "execution": {
     "iopub.execute_input": "2022-03-21T13:59:22.119988Z",
     "iopub.status.busy": "2022-03-21T13:59:22.119234Z",
     "iopub.status.idle": "2022-03-21T13:59:22.130001Z",
     "shell.execute_reply": "2022-03-21T13:59:22.129558Z",
     "shell.execute_reply.started": "2022-03-21T13:03:55.893846Z"
    },
    "papermill": {
     "duration": 0.081601,
     "end_time": "2022-03-21T13:59:22.130101",
     "exception": false,
     "start_time": "2022-03-21T13:59:22.048500",
     "status": "completed"
    },
    "tags": []
   },
   "outputs": [
    {
     "data": {
      "text/plain": [
       "array([[ 78,   0,   0, ...,   0,   0,   1],\n",
       "       [  0,   7,   0, ...,   0,   0,   0],\n",
       "       [  0,   0,   6, ...,   0,   0,   0],\n",
       "       ...,\n",
       "       [  0,   0,   0, ...,   7,   0,   0],\n",
       "       [  0,   0,   0, ...,   0, 105,   0],\n",
       "       [  0,   0,   0, ...,   0,   0, 214]])"
      ]
     },
     "execution_count": 13,
     "metadata": {},
     "output_type": "execute_result"
    }
   ],
   "source": [
    "confusion_matrix(val_results['label'], val_results['pred'])"
   ]
  },
  {
   "cell_type": "code",
   "execution_count": 14,
   "id": "f4b0917d",
   "metadata": {
    "execution": {
     "iopub.execute_input": "2022-03-21T13:59:22.264395Z",
     "iopub.status.busy": "2022-03-21T13:59:22.263852Z",
     "iopub.status.idle": "2022-03-21T13:59:22.285827Z",
     "shell.execute_reply": "2022-03-21T13:59:22.285157Z",
     "shell.execute_reply.started": "2022-03-21T13:03:55.911807Z"
    },
    "papermill": {
     "duration": 0.090292,
     "end_time": "2022-03-21T13:59:22.285939",
     "exception": false,
     "start_time": "2022-03-21T13:59:22.195647",
     "status": "completed"
    },
    "tags": []
   },
   "outputs": [
    {
     "name": "stdout",
     "output_type": "stream",
     "text": [
      "                           precision    recall  f1-score   support\n",
      "\n",
      "            pink primrose       1.00      0.99      0.99        79\n",
      "hard-leaved pocket orchid       1.00      1.00      1.00         7\n",
      "         canterbury bells       0.75      1.00      0.86         6\n",
      "                sweet pea       1.00      0.83      0.91         6\n",
      "            wild geranium       0.98      1.00      0.99       205\n",
      "               tiger lily       0.92      0.96      0.94        25\n",
      "              moon orchid       0.83      1.00      0.91         5\n",
      "         bird of paradise       1.00      0.97      0.98        31\n",
      "                monkshood       0.96      1.00      0.98        25\n",
      "            globe thistle       0.88      0.96      0.92        24\n",
      "               snapdragon       1.00      0.88      0.93        40\n",
      "              colt's foot       1.00      0.92      0.96        13\n",
      "              king protea       0.96      0.96      0.96        27\n",
      "            spear thistle       0.99      1.00      0.99        77\n",
      "              yellow iris       0.94      0.97      0.96        66\n",
      "             globe-flower       0.83      0.83      0.83         6\n",
      "        purple coneflower       1.00      1.00      1.00        16\n",
      "            peruvian lily       0.92      0.86      0.89        14\n",
      "           balloon flower       0.96      0.88      0.92        26\n",
      "    giant white arum lily       0.89      1.00      0.94         8\n",
      "                fire lily       1.00      1.00      1.00         6\n",
      "        pincushion flower       0.96      0.89      0.93        28\n",
      "               fritillary       1.00      1.00      1.00        14\n",
      "               red ginger       1.00      1.00      1.00         6\n",
      "           grape hyacinth       1.00      1.00      1.00        24\n",
      "               corn poppy       1.00      1.00      1.00        24\n",
      " prince of wales feathers       1.00      1.00      1.00         6\n",
      "         stemless gentian       1.00      1.00      1.00        10\n",
      "                artichoke       1.00      0.94      0.97        34\n",
      "            sweet william       0.97      0.97      0.97        32\n",
      "                carnation       0.97      0.94      0.95        31\n",
      "             garden phlox       1.00      1.00      1.00         7\n",
      "         love in the mist       1.00      1.00      1.00         7\n",
      "                   cosmos       1.00      1.00      1.00         6\n",
      "         alpine sea holly       1.00      1.00      1.00         5\n",
      "     ruby-lipped cattleya       1.00      1.00      1.00        11\n",
      "              cape flower       0.94      1.00      0.97        17\n",
      "         great masterwort       1.00      1.00      1.00         8\n",
      "               siam tulip       1.00      1.00      1.00         5\n",
      "              lenten rose       0.91      0.95      0.93        21\n",
      "          barberton daisy       0.89      0.94      0.92        18\n",
      "                 daffodil       1.00      0.96      0.98        28\n",
      "               sword lily       1.00      0.83      0.91        18\n",
      "               poinsettia       1.00      0.91      0.95        32\n",
      "         bolero deep blue       1.00      1.00      1.00         5\n",
      "               wallflower       0.96      0.94      0.95        50\n",
      "                 marigold       1.00      0.92      0.96        37\n",
      "                buttercup       0.96      0.97      0.97        76\n",
      "                    daisy       0.97      0.97      0.97       123\n",
      "         common dandelion       0.96      0.98      0.97       164\n",
      "                  petunia       0.98      0.91      0.95        58\n",
      "               wild pansy       1.00      0.97      0.98        30\n",
      "                  primula       0.89      0.97      0.93        33\n",
      "                sunflower       0.94      0.99      0.96       134\n",
      "           lilac hibiscus       1.00      1.00      1.00        11\n",
      "       bishop of llandaff       1.00      1.00      1.00        17\n",
      "                    gaura       0.90      1.00      0.95        26\n",
      "                 geranium       1.00      1.00      1.00        18\n",
      "            orange dahlia       1.00      1.00      1.00        10\n",
      "       pink-yellow dahlia       1.00      1.00      1.00        17\n",
      "         cautleya spicata       1.00      1.00      1.00         8\n",
      "         japanese anemone       0.89      1.00      0.94         8\n",
      "         black-eyed susan       0.96      0.81      0.88        27\n",
      "               silverbush       1.00      1.00      1.00         8\n",
      "        californian poppy       1.00      1.00      1.00        16\n",
      "             osteospermum       1.00      1.00      1.00         9\n",
      "            spring crocus       1.00      1.00      1.00         6\n",
      "                     iris       0.99      0.99      0.99       228\n",
      "               windflower       0.92      0.96      0.94        76\n",
      "               tree poppy       1.00      0.96      0.98        27\n",
      "                  gazania       0.93      0.87      0.90        30\n",
      "                   azalea       0.93      0.95      0.94        40\n",
      "               water lily       0.98      0.98      0.98        49\n",
      "                     rose       0.86      0.93      0.89       134\n",
      "              thorn apple       0.97      0.94      0.96        36\n",
      "            morning glory       0.98      0.97      0.97        89\n",
      "           passion flower       1.00      1.00      1.00        35\n",
      "                    lotus       0.95      0.95      0.95        41\n",
      "                toad lily       1.00      0.84      0.91        25\n",
      "                anthurium       1.00      0.94      0.97        34\n",
      "               frangipani       1.00      1.00      1.00        45\n",
      "                 clematis       1.00      0.72      0.84        29\n",
      "                 hibiscus       1.00      0.95      0.97        39\n",
      "                columbine       0.94      0.97      0.96        33\n",
      "              desert-rose       1.00      0.89      0.94         9\n",
      "              tree mallow       1.00      0.89      0.94         9\n",
      "                 magnolia       0.95      1.00      0.97        35\n",
      "                cyclamen        0.95      0.98      0.97        43\n",
      "               watercress       1.00      1.00      1.00        28\n",
      "               canna lily       0.93      1.00      0.96        13\n",
      "             hippeastrum        0.91      0.97      0.94        31\n",
      "                 bee balm       1.00      0.97      0.98        32\n",
      "               pink quill       1.00      1.00      1.00         7\n",
      "                 foxglove       0.98      1.00      0.99        41\n",
      "            bougainvillea       0.90      0.95      0.92        38\n",
      "                 camellia       0.94      0.86      0.90        37\n",
      "                   mallow       0.90      0.93      0.92        29\n",
      "          mexican petunia       0.85      0.92      0.88        12\n",
      "                 bromelia       1.00      1.00      1.00        10\n",
      "           blanket flower       0.88      1.00      0.93         7\n",
      "          trumpet creeper       1.00      1.00      1.00         9\n",
      "          blackberry lily       0.88      1.00      0.93         7\n",
      "             common tulip       0.94      0.92      0.93       114\n",
      "                wild rose       0.98      0.99      0.98       216\n",
      "\n",
      "                 accuracy                           0.96      3712\n",
      "                macro avg       0.96      0.96      0.96      3712\n",
      "             weighted avg       0.96      0.96      0.96      3712\n",
      "\n"
     ]
    }
   ],
   "source": [
    "print(classification_report(val_results['label'], val_results['pred'], target_names=class_names))"
   ]
  },
  {
   "cell_type": "code",
   "execution_count": 15,
   "id": "be940436",
   "metadata": {
    "execution": {
     "iopub.execute_input": "2022-03-21T13:59:22.420764Z",
     "iopub.status.busy": "2022-03-21T13:59:22.420031Z",
     "iopub.status.idle": "2022-03-21T13:59:22.458661Z",
     "shell.execute_reply": "2022-03-21T13:59:22.459024Z",
     "shell.execute_reply.started": "2022-03-21T13:03:55.936215Z"
    },
    "papermill": {
     "duration": 0.108118,
     "end_time": "2022-03-21T13:59:22.459146",
     "exception": false,
     "start_time": "2022-03-21T13:59:22.351028",
     "status": "completed"
    },
    "tags": []
   },
   "outputs": [
    {
     "data": {
      "text/html": [
       "<div>\n",
       "<style scoped>\n",
       "    .dataframe tbody tr th:only-of-type {\n",
       "        vertical-align: middle;\n",
       "    }\n",
       "\n",
       "    .dataframe tbody tr th {\n",
       "        vertical-align: top;\n",
       "    }\n",
       "\n",
       "    .dataframe thead th {\n",
       "        text-align: right;\n",
       "    }\n",
       "</style>\n",
       "<table border=\"1\" class=\"dataframe\">\n",
       "  <thead>\n",
       "    <tr style=\"text-align: right;\">\n",
       "      <th></th>\n",
       "      <th>precision</th>\n",
       "      <th>recall</th>\n",
       "      <th>f1-score</th>\n",
       "      <th>support</th>\n",
       "      <th>class</th>\n",
       "    </tr>\n",
       "  </thead>\n",
       "  <tbody>\n",
       "    <tr>\n",
       "      <th>0</th>\n",
       "      <td>1.000000</td>\n",
       "      <td>0.987342</td>\n",
       "      <td>0.993631</td>\n",
       "      <td>79.0</td>\n",
       "      <td>pink primrose</td>\n",
       "    </tr>\n",
       "    <tr>\n",
       "      <th>1</th>\n",
       "      <td>1.000000</td>\n",
       "      <td>1.000000</td>\n",
       "      <td>1.000000</td>\n",
       "      <td>7.0</td>\n",
       "      <td>hard-leaved pocket orchid</td>\n",
       "    </tr>\n",
       "    <tr>\n",
       "      <th>2</th>\n",
       "      <td>0.750000</td>\n",
       "      <td>1.000000</td>\n",
       "      <td>0.857143</td>\n",
       "      <td>6.0</td>\n",
       "      <td>canterbury bells</td>\n",
       "    </tr>\n",
       "    <tr>\n",
       "      <th>3</th>\n",
       "      <td>1.000000</td>\n",
       "      <td>0.833333</td>\n",
       "      <td>0.909091</td>\n",
       "      <td>6.0</td>\n",
       "      <td>sweet pea</td>\n",
       "    </tr>\n",
       "    <tr>\n",
       "      <th>4</th>\n",
       "      <td>0.976077</td>\n",
       "      <td>0.995122</td>\n",
       "      <td>0.985507</td>\n",
       "      <td>205.0</td>\n",
       "      <td>wild geranium</td>\n",
       "    </tr>\n",
       "  </tbody>\n",
       "</table>\n",
       "</div>"
      ],
      "text/plain": [
       "   precision    recall  f1-score  support                      class\n",
       "0   1.000000  0.987342  0.993631     79.0              pink primrose\n",
       "1   1.000000  1.000000  1.000000      7.0  hard-leaved pocket orchid\n",
       "2   0.750000  1.000000  0.857143      6.0           canterbury bells\n",
       "3   1.000000  0.833333  0.909091      6.0                  sweet pea\n",
       "4   0.976077  0.995122  0.985507    205.0              wild geranium"
      ]
     },
     "execution_count": 15,
     "metadata": {},
     "output_type": "execute_result"
    }
   ],
   "source": [
    "class_report = pd.DataFrame.from_dict(classification_report(val_results['label'], val_results['pred'], target_names=class_names, output_dict=True)).T\n",
    "\n",
    "class_report['class'] = class_report.index\n",
    "class_report= class_report.reset_index(drop=True)\n",
    "\n",
    "class_report.head()"
   ]
  },
  {
   "cell_type": "markdown",
   "id": "111aa0f8",
   "metadata": {
    "papermill": {
     "duration": 0.07051,
     "end_time": "2022-03-21T13:59:22.596498",
     "exception": false,
     "start_time": "2022-03-21T13:59:22.525988",
     "status": "completed"
    },
    "tags": []
   },
   "source": [
    "MOst problematic classes with f1 below 90:\n",
    "\n",
    "\n",
    "> How would improving these classes raise the macro f1 score?"
   ]
  },
  {
   "cell_type": "code",
   "execution_count": 16,
   "id": "87ebe392",
   "metadata": {
    "execution": {
     "iopub.execute_input": "2022-03-21T13:59:22.735513Z",
     "iopub.status.busy": "2022-03-21T13:59:22.734771Z",
     "iopub.status.idle": "2022-03-21T13:59:22.736683Z",
     "shell.execute_reply": "2022-03-21T13:59:22.737039Z",
     "shell.execute_reply.started": "2022-03-21T13:03:55.974773Z"
    },
    "papermill": {
     "duration": 0.071745,
     "end_time": "2022-03-21T13:59:22.737158",
     "exception": false,
     "start_time": "2022-03-21T13:59:22.665413",
     "status": "completed"
    },
    "tags": []
   },
   "outputs": [],
   "source": [
    "class_report = class_report.loc[:103] # remove the summary statistics, e.g. accuracy"
   ]
  },
  {
   "cell_type": "code",
   "execution_count": 17,
   "id": "444d8485",
   "metadata": {
    "execution": {
     "iopub.execute_input": "2022-03-21T13:59:22.874768Z",
     "iopub.status.busy": "2022-03-21T13:59:22.871475Z",
     "iopub.status.idle": "2022-03-21T13:59:22.876729Z",
     "shell.execute_reply": "2022-03-21T13:59:22.877114Z",
     "shell.execute_reply.started": "2022-03-21T13:03:55.980831Z"
    },
    "papermill": {
     "duration": 0.074572,
     "end_time": "2022-03-21T13:59:22.877256",
     "exception": false,
     "start_time": "2022-03-21T13:59:22.802684",
     "status": "completed"
    },
    "tags": []
   },
   "outputs": [],
   "source": [
    "class_report = class_report.sort_values(\"f1-score\").reset_index(drop=True)"
   ]
  },
  {
   "cell_type": "code",
   "execution_count": 18,
   "id": "6ddb4f98",
   "metadata": {
    "execution": {
     "iopub.execute_input": "2022-03-21T13:59:23.019085Z",
     "iopub.status.busy": "2022-03-21T13:59:23.018413Z",
     "iopub.status.idle": "2022-03-21T13:59:23.021275Z",
     "shell.execute_reply": "2022-03-21T13:59:23.021687Z",
     "shell.execute_reply.started": "2022-03-21T13:03:55.993362Z"
    },
    "papermill": {
     "duration": 0.078934,
     "end_time": "2022-03-21T13:59:23.021806",
     "exception": false,
     "start_time": "2022-03-21T13:59:22.942872",
     "status": "completed"
    },
    "tags": []
   },
   "outputs": [
    {
     "data": {
      "text/html": [
       "<div>\n",
       "<style scoped>\n",
       "    .dataframe tbody tr th:only-of-type {\n",
       "        vertical-align: middle;\n",
       "    }\n",
       "\n",
       "    .dataframe tbody tr th {\n",
       "        vertical-align: top;\n",
       "    }\n",
       "\n",
       "    .dataframe thead th {\n",
       "        text-align: right;\n",
       "    }\n",
       "</style>\n",
       "<table border=\"1\" class=\"dataframe\">\n",
       "  <thead>\n",
       "    <tr style=\"text-align: right;\">\n",
       "      <th></th>\n",
       "      <th>precision</th>\n",
       "      <th>recall</th>\n",
       "      <th>f1-score</th>\n",
       "      <th>support</th>\n",
       "      <th>class</th>\n",
       "    </tr>\n",
       "  </thead>\n",
       "  <tbody>\n",
       "    <tr>\n",
       "      <th>0</th>\n",
       "      <td>0.833333</td>\n",
       "      <td>0.833333</td>\n",
       "      <td>0.833333</td>\n",
       "      <td>6.0</td>\n",
       "      <td>globe-flower</td>\n",
       "    </tr>\n",
       "    <tr>\n",
       "      <th>1</th>\n",
       "      <td>1.000000</td>\n",
       "      <td>0.724138</td>\n",
       "      <td>0.840000</td>\n",
       "      <td>29.0</td>\n",
       "      <td>clematis</td>\n",
       "    </tr>\n",
       "    <tr>\n",
       "      <th>2</th>\n",
       "      <td>0.750000</td>\n",
       "      <td>1.000000</td>\n",
       "      <td>0.857143</td>\n",
       "      <td>6.0</td>\n",
       "      <td>canterbury bells</td>\n",
       "    </tr>\n",
       "    <tr>\n",
       "      <th>3</th>\n",
       "      <td>0.846154</td>\n",
       "      <td>0.916667</td>\n",
       "      <td>0.880000</td>\n",
       "      <td>12.0</td>\n",
       "      <td>mexican petunia</td>\n",
       "    </tr>\n",
       "    <tr>\n",
       "      <th>4</th>\n",
       "      <td>0.956522</td>\n",
       "      <td>0.814815</td>\n",
       "      <td>0.880000</td>\n",
       "      <td>27.0</td>\n",
       "      <td>black-eyed susan</td>\n",
       "    </tr>\n",
       "    <tr>\n",
       "      <th>5</th>\n",
       "      <td>0.923077</td>\n",
       "      <td>0.857143</td>\n",
       "      <td>0.888889</td>\n",
       "      <td>14.0</td>\n",
       "      <td>peruvian lily</td>\n",
       "    </tr>\n",
       "    <tr>\n",
       "      <th>6</th>\n",
       "      <td>0.855172</td>\n",
       "      <td>0.925373</td>\n",
       "      <td>0.888889</td>\n",
       "      <td>134.0</td>\n",
       "      <td>rose</td>\n",
       "    </tr>\n",
       "    <tr>\n",
       "      <th>7</th>\n",
       "      <td>0.928571</td>\n",
       "      <td>0.866667</td>\n",
       "      <td>0.896552</td>\n",
       "      <td>30.0</td>\n",
       "      <td>gazania</td>\n",
       "    </tr>\n",
       "    <tr>\n",
       "      <th>8</th>\n",
       "      <td>0.941176</td>\n",
       "      <td>0.864865</td>\n",
       "      <td>0.901408</td>\n",
       "      <td>37.0</td>\n",
       "      <td>camellia</td>\n",
       "    </tr>\n",
       "  </tbody>\n",
       "</table>\n",
       "</div>"
      ],
      "text/plain": [
       "   precision    recall  f1-score  support             class\n",
       "0   0.833333  0.833333  0.833333      6.0      globe-flower\n",
       "1   1.000000  0.724138  0.840000     29.0          clematis\n",
       "2   0.750000  1.000000  0.857143      6.0  canterbury bells\n",
       "3   0.846154  0.916667  0.880000     12.0   mexican petunia\n",
       "4   0.956522  0.814815  0.880000     27.0  black-eyed susan\n",
       "5   0.923077  0.857143  0.888889     14.0     peruvian lily\n",
       "6   0.855172  0.925373  0.888889    134.0              rose\n",
       "7   0.928571  0.866667  0.896552     30.0           gazania\n",
       "8   0.941176  0.864865  0.901408     37.0          camellia"
      ]
     },
     "execution_count": 18,
     "metadata": {},
     "output_type": "execute_result"
    }
   ],
   "source": [
    "class_report.head(9)"
   ]
  },
  {
   "cell_type": "markdown",
   "id": "d9c22b3f",
   "metadata": {
    "papermill": {
     "duration": 0.066872,
     "end_time": "2022-03-21T13:59:23.155991",
     "exception": false,
     "start_time": "2022-03-21T13:59:23.089119",
     "status": "completed"
    },
    "tags": []
   },
   "source": [
    "> What is wrong with the rose class? bad performance despite many images"
   ]
  },
  {
   "cell_type": "markdown",
   "id": "dff57035",
   "metadata": {
    "papermill": {
     "duration": 0.067806,
     "end_time": "2022-03-21T13:59:23.290814",
     "exception": false,
     "start_time": "2022-03-21T13:59:23.223008",
     "status": "completed"
    },
    "tags": []
   },
   "source": [
    "> * If we would improve all 8 worst-performing classes to f1 score of 1, it would still only raise performance by 1%! See below.\n",
    "> * \n"
   ]
  },
  {
   "cell_type": "code",
   "execution_count": 19,
   "id": "d67ee294",
   "metadata": {
    "execution": {
     "iopub.execute_input": "2022-03-21T13:59:23.430022Z",
     "iopub.status.busy": "2022-03-21T13:59:23.429143Z",
     "iopub.status.idle": "2022-03-21T13:59:23.434587Z",
     "shell.execute_reply": "2022-03-21T13:59:23.434150Z",
     "shell.execute_reply.started": "2022-03-21T13:03:56.013556Z"
    },
    "papermill": {
     "duration": 0.077227,
     "end_time": "2022-03-21T13:59:23.434699",
     "exception": false,
     "start_time": "2022-03-21T13:59:23.357472",
     "status": "completed"
    },
    "tags": []
   },
   "outputs": [
    {
     "data": {
      "text/plain": [
       "0.9713085210850567"
      ]
     },
     "execution_count": 19,
     "metadata": {},
     "output_type": "execute_result"
    }
   ],
   "source": [
    "class_report_test = class_report.copy()\n",
    "class_report_test.loc[:7, 'f1-score'] = 1\n",
    "class_report_test['f1-score'].mean()"
   ]
  },
  {
   "cell_type": "code",
   "execution_count": 20,
   "id": "bb3403dd",
   "metadata": {
    "execution": {
     "iopub.execute_input": "2022-03-21T13:59:23.576464Z",
     "iopub.status.busy": "2022-03-21T13:59:23.575343Z",
     "iopub.status.idle": "2022-03-21T13:59:23.578383Z",
     "shell.execute_reply": "2022-03-21T13:59:23.578779Z",
     "shell.execute_reply.started": "2022-03-21T13:03:56.025785Z"
    },
    "papermill": {
     "duration": 0.076769,
     "end_time": "2022-03-21T13:59:23.578916",
     "exception": false,
     "start_time": "2022-03-21T13:59:23.502147",
     "status": "completed"
    },
    "tags": []
   },
   "outputs": [
    {
     "data": {
      "text/plain": [
       "0.9816773630739531"
      ]
     },
     "execution_count": 20,
     "metadata": {},
     "output_type": "execute_result"
    }
   ],
   "source": [
    "class_report_test.loc[:20, 'f1-score'] = 1\n",
    "class_report_test['f1-score'].mean()"
   ]
  },
  {
   "cell_type": "markdown",
   "id": "869fa396",
   "metadata": {
    "papermill": {
     "duration": 0.067107,
     "end_time": "2022-03-21T13:59:23.713082",
     "exception": false,
     "start_time": "2022-03-21T13:59:23.645975",
     "status": "completed"
    },
    "tags": []
   },
   "source": [
    "> * Improve first 20 classes would raise by another 1%.\n",
    "> * It might be better to improve the overall performance of the model then trying to improve individual classes\n",
    "\n",
    "> * Nevertheless continue with error analysis"
   ]
  },
  {
   "cell_type": "code",
   "execution_count": 21,
   "id": "2d270cbf",
   "metadata": {
    "execution": {
     "iopub.execute_input": "2022-03-21T13:59:23.857570Z",
     "iopub.status.busy": "2022-03-21T13:59:23.856783Z",
     "iopub.status.idle": "2022-03-21T13:59:23.859855Z",
     "shell.execute_reply": "2022-03-21T13:59:23.860279Z",
     "shell.execute_reply.started": "2022-03-21T13:03:56.036523Z"
    },
    "papermill": {
     "duration": 0.080406,
     "end_time": "2022-03-21T13:59:23.860405",
     "exception": false,
     "start_time": "2022-03-21T13:59:23.779999",
     "status": "completed"
    },
    "tags": []
   },
   "outputs": [
    {
     "data": {
      "text/html": [
       "<div>\n",
       "<style scoped>\n",
       "    .dataframe tbody tr th:only-of-type {\n",
       "        vertical-align: middle;\n",
       "    }\n",
       "\n",
       "    .dataframe tbody tr th {\n",
       "        vertical-align: top;\n",
       "    }\n",
       "\n",
       "    .dataframe thead th {\n",
       "        text-align: right;\n",
       "    }\n",
       "</style>\n",
       "<table border=\"1\" class=\"dataframe\">\n",
       "  <thead>\n",
       "    <tr style=\"text-align: right;\">\n",
       "      <th></th>\n",
       "      <th>precision</th>\n",
       "      <th>recall</th>\n",
       "      <th>f1-score</th>\n",
       "      <th>support</th>\n",
       "      <th>class</th>\n",
       "    </tr>\n",
       "  </thead>\n",
       "  <tbody>\n",
       "    <tr>\n",
       "      <th>0</th>\n",
       "      <td>0.833333</td>\n",
       "      <td>0.833333</td>\n",
       "      <td>0.833333</td>\n",
       "      <td>6.0</td>\n",
       "      <td>globe-flower</td>\n",
       "    </tr>\n",
       "    <tr>\n",
       "      <th>1</th>\n",
       "      <td>1.000000</td>\n",
       "      <td>0.724138</td>\n",
       "      <td>0.840000</td>\n",
       "      <td>29.0</td>\n",
       "      <td>clematis</td>\n",
       "    </tr>\n",
       "    <tr>\n",
       "      <th>2</th>\n",
       "      <td>0.750000</td>\n",
       "      <td>1.000000</td>\n",
       "      <td>0.857143</td>\n",
       "      <td>6.0</td>\n",
       "      <td>canterbury bells</td>\n",
       "    </tr>\n",
       "    <tr>\n",
       "      <th>3</th>\n",
       "      <td>0.846154</td>\n",
       "      <td>0.916667</td>\n",
       "      <td>0.880000</td>\n",
       "      <td>12.0</td>\n",
       "      <td>mexican petunia</td>\n",
       "    </tr>\n",
       "    <tr>\n",
       "      <th>4</th>\n",
       "      <td>0.956522</td>\n",
       "      <td>0.814815</td>\n",
       "      <td>0.880000</td>\n",
       "      <td>27.0</td>\n",
       "      <td>black-eyed susan</td>\n",
       "    </tr>\n",
       "  </tbody>\n",
       "</table>\n",
       "</div>"
      ],
      "text/plain": [
       "   precision    recall  f1-score  support             class\n",
       "0   0.833333  0.833333  0.833333      6.0      globe-flower\n",
       "1   1.000000  0.724138  0.840000     29.0          clematis\n",
       "2   0.750000  1.000000  0.857143      6.0  canterbury bells\n",
       "3   0.846154  0.916667  0.880000     12.0   mexican petunia\n",
       "4   0.956522  0.814815  0.880000     27.0  black-eyed susan"
      ]
     },
     "execution_count": 21,
     "metadata": {},
     "output_type": "execute_result"
    }
   ],
   "source": [
    "class_report.head()"
   ]
  },
  {
   "cell_type": "code",
   "execution_count": 22,
   "id": "0a235d98",
   "metadata": {
    "execution": {
     "iopub.execute_input": "2022-03-21T13:59:24.007871Z",
     "iopub.status.busy": "2022-03-21T13:59:24.004999Z",
     "iopub.status.idle": "2022-03-21T13:59:24.293228Z",
     "shell.execute_reply": "2022-03-21T13:59:24.292803Z",
     "shell.execute_reply.started": "2022-03-21T13:03:56.050356Z"
    },
    "papermill": {
     "duration": 0.365979,
     "end_time": "2022-03-21T13:59:24.293360",
     "exception": false,
     "start_time": "2022-03-21T13:59:23.927381",
     "status": "completed"
    },
    "tags": []
   },
   "outputs": [
    {
     "data": {
      "text/plain": [
       "<seaborn.axisgrid.FacetGrid at 0x7fc1e4df85d0>"
      ]
     },
     "execution_count": 22,
     "metadata": {},
     "output_type": "execute_result"
    },
    {
     "data": {
      "image/png": "[encoded data removed]",
      "text/plain": [
       "<Figure size 360x360 with 1 Axes>"
      ]
     },
     "metadata": {
      "needs_background": "light"
     },
     "output_type": "display_data"
    }
   ],
   "source": [
    "sns.displot(class_report['f1-score'], kde=False)"
   ]
  },
  {
   "cell_type": "code",
   "execution_count": 23,
   "id": "64971944",
   "metadata": {
    "execution": {
     "iopub.execute_input": "2022-03-21T13:59:24.442436Z",
     "iopub.status.busy": "2022-03-21T13:59:24.441635Z",
     "iopub.status.idle": "2022-03-21T13:59:24.451574Z",
     "shell.execute_reply": "2022-03-21T13:59:24.451991Z",
     "shell.execute_reply.started": "2022-03-21T13:03:56.353225Z"
    },
    "papermill": {
     "duration": 0.085229,
     "end_time": "2022-03-21T13:59:24.452111",
     "exception": false,
     "start_time": "2022-03-21T13:59:24.366882",
     "status": "completed"
    },
    "tags": []
   },
   "outputs": [
    {
     "data": {
      "text/html": [
       "<div>\n",
       "<style scoped>\n",
       "    .dataframe tbody tr th:only-of-type {\n",
       "        vertical-align: middle;\n",
       "    }\n",
       "\n",
       "    .dataframe tbody tr th {\n",
       "        vertical-align: top;\n",
       "    }\n",
       "\n",
       "    .dataframe thead th {\n",
       "        text-align: right;\n",
       "    }\n",
       "</style>\n",
       "<table border=\"1\" class=\"dataframe\">\n",
       "  <thead>\n",
       "    <tr style=\"text-align: right;\">\n",
       "      <th></th>\n",
       "      <th>count</th>\n",
       "      <th>mean</th>\n",
       "      <th>std</th>\n",
       "      <th>min</th>\n",
       "      <th>25%</th>\n",
       "      <th>50%</th>\n",
       "      <th>75%</th>\n",
       "      <th>max</th>\n",
       "    </tr>\n",
       "  </thead>\n",
       "  <tbody>\n",
       "    <tr>\n",
       "      <th>f1-score</th>\n",
       "      <td>104.0</td>\n",
       "      <td>0.961355</td>\n",
       "      <td>0.039649</td>\n",
       "      <td>0.833333</td>\n",
       "      <td>0.938079</td>\n",
       "      <td>0.969697</td>\n",
       "      <td>1.0</td>\n",
       "      <td>1.0</td>\n",
       "    </tr>\n",
       "  </tbody>\n",
       "</table>\n",
       "</div>"
      ],
      "text/plain": [
       "          count      mean       std       min       25%       50%  75%  max\n",
       "f1-score  104.0  0.961355  0.039649  0.833333  0.938079  0.969697  1.0  1.0"
      ]
     },
     "execution_count": 23,
     "metadata": {},
     "output_type": "execute_result"
    }
   ],
   "source": [
    "class_report['f1-score'].describe().to_frame().T"
   ]
  },
  {
   "cell_type": "markdown",
   "id": "77b6edb5",
   "metadata": {
    "papermill": {
     "duration": 0.069222,
     "end_time": "2022-03-21T13:59:24.591051",
     "exception": false,
     "start_time": "2022-03-21T13:59:24.521829",
     "status": "completed"
    },
    "tags": []
   },
   "source": [
    "Group classes into a easy category (good performance) and bad performance."
   ]
  },
  {
   "cell_type": "code",
   "execution_count": 24,
   "id": "16899d24",
   "metadata": {
    "execution": {
     "iopub.execute_input": "2022-03-21T13:59:24.734366Z",
     "iopub.status.busy": "2022-03-21T13:59:24.733697Z",
     "iopub.status.idle": "2022-03-21T13:59:24.735847Z",
     "shell.execute_reply": "2022-03-21T13:59:24.736252Z",
     "shell.execute_reply.started": "2022-03-21T13:03:56.371436Z"
    },
    "papermill": {
     "duration": 0.076699,
     "end_time": "2022-03-21T13:59:24.736429",
     "exception": false,
     "start_time": "2022-03-21T13:59:24.659730",
     "status": "completed"
    },
    "tags": []
   },
   "outputs": [],
   "source": [
    "class_report['difficulty'] = 'hard'\n",
    "class_report.loc[8:, 'difficulty'] = class_report.loc[8:, 'f1-score'].apply(lambda x: 'easy' if x>0.969 else 'medium')"
   ]
  },
  {
   "cell_type": "code",
   "execution_count": 25,
   "id": "2db3ab35",
   "metadata": {
    "execution": {
     "iopub.execute_input": "2022-03-21T13:59:24.879059Z",
     "iopub.status.busy": "2022-03-21T13:59:24.876956Z",
     "iopub.status.idle": "2022-03-21T13:59:24.901278Z",
     "shell.execute_reply": "2022-03-21T13:59:24.900836Z",
     "shell.execute_reply.started": "2022-03-21T13:03:56.379264Z"
    },
    "papermill": {
     "duration": 0.096093,
     "end_time": "2022-03-21T13:59:24.901379",
     "exception": false,
     "start_time": "2022-03-21T13:59:24.805286",
     "status": "completed"
    },
    "tags": []
   },
   "outputs": [
    {
     "data": {
      "text/html": [
       "<div>\n",
       "<style scoped>\n",
       "    .dataframe tbody tr th:only-of-type {\n",
       "        vertical-align: middle;\n",
       "    }\n",
       "\n",
       "    .dataframe tbody tr th {\n",
       "        vertical-align: top;\n",
       "    }\n",
       "\n",
       "    .dataframe thead tr th {\n",
       "        text-align: left;\n",
       "    }\n",
       "\n",
       "    .dataframe thead tr:last-of-type th {\n",
       "        text-align: right;\n",
       "    }\n",
       "</style>\n",
       "<table border=\"1\" class=\"dataframe\">\n",
       "  <thead>\n",
       "    <tr>\n",
       "      <th></th>\n",
       "      <th colspan=\"2\" halign=\"left\">precision</th>\n",
       "      <th colspan=\"2\" halign=\"left\">recall</th>\n",
       "      <th colspan=\"2\" halign=\"left\">f1-score</th>\n",
       "      <th colspan=\"2\" halign=\"left\">support</th>\n",
       "    </tr>\n",
       "    <tr>\n",
       "      <th></th>\n",
       "      <th>mean</th>\n",
       "      <th>median</th>\n",
       "      <th>mean</th>\n",
       "      <th>median</th>\n",
       "      <th>mean</th>\n",
       "      <th>median</th>\n",
       "      <th>mean</th>\n",
       "      <th>median</th>\n",
       "    </tr>\n",
       "    <tr>\n",
       "      <th>difficulty</th>\n",
       "      <th></th>\n",
       "      <th></th>\n",
       "      <th></th>\n",
       "      <th></th>\n",
       "      <th></th>\n",
       "      <th></th>\n",
       "      <th></th>\n",
       "      <th></th>\n",
       "    </tr>\n",
       "  </thead>\n",
       "  <tbody>\n",
       "    <tr>\n",
       "      <th>easy</th>\n",
       "      <td>0.993971</td>\n",
       "      <td>1.000000</td>\n",
       "      <td>0.991378</td>\n",
       "      <td>1.000000</td>\n",
       "      <td>0.992556</td>\n",
       "      <td>1.000000</td>\n",
       "      <td>35.867925</td>\n",
       "      <td>17.0</td>\n",
       "    </tr>\n",
       "    <tr>\n",
       "      <th>hard</th>\n",
       "      <td>0.886604</td>\n",
       "      <td>0.889125</td>\n",
       "      <td>0.867267</td>\n",
       "      <td>0.861905</td>\n",
       "      <td>0.870601</td>\n",
       "      <td>0.880000</td>\n",
       "      <td>32.250000</td>\n",
       "      <td>20.5</td>\n",
       "    </tr>\n",
       "    <tr>\n",
       "      <th>medium</th>\n",
       "      <td>0.942057</td>\n",
       "      <td>0.941176</td>\n",
       "      <td>0.941201</td>\n",
       "      <td>0.951220</td>\n",
       "      <td>0.939782</td>\n",
       "      <td>0.941176</td>\n",
       "      <td>36.116279</td>\n",
       "      <td>31.0</td>\n",
       "    </tr>\n",
       "  </tbody>\n",
       "</table>\n",
       "</div>"
      ],
      "text/plain": [
       "           precision              recall            f1-score            \\\n",
       "                mean    median      mean    median      mean    median   \n",
       "difficulty                                                               \n",
       "easy        0.993971  1.000000  0.991378  1.000000  0.992556  1.000000   \n",
       "hard        0.886604  0.889125  0.867267  0.861905  0.870601  0.880000   \n",
       "medium      0.942057  0.941176  0.941201  0.951220  0.939782  0.941176   \n",
       "\n",
       "              support         \n",
       "                 mean median  \n",
       "difficulty                    \n",
       "easy        35.867925   17.0  \n",
       "hard        32.250000   20.5  \n",
       "medium      36.116279   31.0  "
      ]
     },
     "execution_count": 25,
     "metadata": {},
     "output_type": "execute_result"
    }
   ],
   "source": [
    "class_report.groupby(\"difficulty\").agg(['mean', 'median'])"
   ]
  },
  {
   "cell_type": "markdown",
   "id": "da4991dc",
   "metadata": {
    "papermill": {
     "duration": 0.070379,
     "end_time": "2022-03-21T13:59:25.040550",
     "exception": false,
     "start_time": "2022-03-21T13:59:24.970171",
     "status": "completed"
    },
    "tags": []
   },
   "source": [
    "Hypothesis test with nonparametric Mann-Whitney U test to compare the samples with label easy and hard above:"
   ]
  },
  {
   "cell_type": "code",
   "execution_count": 26,
   "id": "5deb3e7e",
   "metadata": {
    "execution": {
     "iopub.execute_input": "2022-03-21T13:59:25.187510Z",
     "iopub.status.busy": "2022-03-21T13:59:25.186698Z",
     "iopub.status.idle": "2022-03-21T13:59:25.190367Z",
     "shell.execute_reply": "2022-03-21T13:59:25.189941Z",
     "shell.execute_reply.started": "2022-03-21T13:03:56.411273Z"
    },
    "papermill": {
     "duration": 0.080003,
     "end_time": "2022-03-21T13:59:25.190475",
     "exception": false,
     "start_time": "2022-03-21T13:59:25.110472",
     "status": "completed"
    },
    "tags": []
   },
   "outputs": [
    {
     "data": {
      "text/plain": [
       "MannwhitneyuResult(statistic=216.5, pvalue=0.9318115085660694)"
      ]
     },
     "execution_count": 26,
     "metadata": {},
     "output_type": "execute_result"
    }
   ],
   "source": [
    "import scipy\n",
    "scipy.stats.mannwhitneyu(class_report.loc[class_report['difficulty'] == 'easy', 'support'],  \n",
    "                        class_report.loc[class_report['difficulty'] == 'hard', 'support'])\n"
   ]
  },
  {
   "cell_type": "markdown",
   "id": "acef8f52",
   "metadata": {
    "papermill": {
     "duration": 0.076731,
     "end_time": "2022-03-21T13:59:25.337681",
     "exception": false,
     "start_time": "2022-03-21T13:59:25.260950",
     "status": "completed"
    },
    "tags": []
   },
   "source": [
    "> We cannot reject the null hypothesis that both samples, easy and hard, come from the same distribution. This means there is no evidence to reject the null hypothesis at the 5% level that the number of data points are a reason for the difference between the easy and and hard classes. "
   ]
  },
  {
   "cell_type": "markdown",
   "id": "0cd60d3c",
   "metadata": {
    "papermill": {
     "duration": 0.120114,
     "end_time": "2022-03-21T13:59:25.591274",
     "exception": false,
     "start_time": "2022-03-21T13:59:25.471160",
     "status": "completed"
    },
    "tags": []
   },
   "source": [
    "### Common Errors"
   ]
  },
  {
   "cell_type": "code",
   "execution_count": 27,
   "id": "54d2ae2e",
   "metadata": {
    "execution": {
     "iopub.execute_input": "2022-03-21T13:59:25.847404Z",
     "iopub.status.busy": "2022-03-21T13:59:25.846593Z",
     "iopub.status.idle": "2022-03-21T13:59:25.852101Z",
     "shell.execute_reply": "2022-03-21T13:59:25.851462Z",
     "shell.execute_reply.started": "2022-03-21T13:03:56.423504Z"
    },
    "papermill": {
     "duration": 0.147379,
     "end_time": "2022-03-21T13:59:25.852262",
     "exception": false,
     "start_time": "2022-03-21T13:59:25.704883",
     "status": "completed"
    },
    "tags": []
   },
   "outputs": [],
   "source": [
    "def plot_confusion_matrix(cm, classes,\n",
    "                          normalize=False,\n",
    "                          title='Confusion matrix',\n",
    "                          cmap=plt.cm.Blues):\n",
    "    \"\"\"\n",
    "    This function prints and plots the confusion matrix.\n",
    "    Normalization can be applied by setting `normalize=True`.\n",
    "    \"\"\"\n",
    "    plt.imshow(cm, interpolation='nearest', cmap=cmap)\n",
    "    plt.title(title)\n",
    "    plt.colorbar()\n",
    "    tick_marks = np.arange(len(classes))\n",
    "    plt.xticks(tick_marks, classes, rotation=45)\n",
    "    plt.yticks(tick_marks, classes)\n",
    "\n",
    "    if normalize:\n",
    "        cm = cm.astype('float') / cm.sum(axis=1)[:, np.newaxis]\n",
    "        print(\"Normalized confusion matrix\")\n",
    "    else:\n",
    "        print('Confusion matrix, without normalization')\n",
    "\n",
    "    print(cm)\n",
    "\n",
    "    thresh = cm.max() / 2.\n",
    "    for i, j in itertools.product(range(cm.shape[0]), range(cm.shape[1])):\n",
    "        plt.text(j, i, cm[i, j],\n",
    "                 horizontalalignment=\"center\",\n",
    "                 color=\"white\" if cm[i, j] > thresh else \"black\")\n",
    "\n",
    "    plt.tight_layout()\n",
    "    plt.ylabel('True label')\n",
    "    plt.xlabel('Predicted label')"
   ]
  },
  {
   "cell_type": "code",
   "execution_count": 28,
   "id": "3cd057be",
   "metadata": {
    "execution": {
     "iopub.execute_input": "2022-03-21T13:59:26.039840Z",
     "iopub.status.busy": "2022-03-21T13:59:26.039214Z",
     "iopub.status.idle": "2022-03-21T13:59:26.041774Z",
     "shell.execute_reply": "2022-03-21T13:59:26.042189Z",
     "shell.execute_reply.started": "2022-03-21T13:03:56.441391Z"
    },
    "papermill": {
     "duration": 0.08377,
     "end_time": "2022-03-21T13:59:26.042347",
     "exception": false,
     "start_time": "2022-03-21T13:59:25.958577",
     "status": "completed"
    },
    "tags": []
   },
   "outputs": [],
   "source": [
    "conf_matrix = confusion_matrix(val_results['label'], val_results['pred'])"
   ]
  },
  {
   "cell_type": "code",
   "execution_count": 29,
   "id": "09ba5e85",
   "metadata": {
    "execution": {
     "iopub.execute_input": "2022-03-21T13:59:26.184734Z",
     "iopub.status.busy": "2022-03-21T13:59:26.184063Z",
     "iopub.status.idle": "2022-03-21T13:59:26.186175Z",
     "shell.execute_reply": "2022-03-21T13:59:26.186614Z",
     "shell.execute_reply.started": "2022-03-21T13:03:56.455531Z"
    },
    "papermill": {
     "duration": 0.074673,
     "end_time": "2022-03-21T13:59:26.186736",
     "exception": false,
     "start_time": "2022-03-21T13:59:26.112063",
     "status": "completed"
    },
    "tags": []
   },
   "outputs": [],
   "source": [
    "#plot_confusion_matrix(confusion_matrix(val_results['label'], val_results['pred']), class_names)"
   ]
  },
  {
   "cell_type": "code",
   "execution_count": 30,
   "id": "539fa168",
   "metadata": {
    "execution": {
     "iopub.execute_input": "2022-03-21T13:59:26.330144Z",
     "iopub.status.busy": "2022-03-21T13:59:26.329349Z",
     "iopub.status.idle": "2022-03-21T13:59:26.332157Z",
     "shell.execute_reply": "2022-03-21T13:59:26.332590Z",
     "shell.execute_reply.started": "2022-03-21T13:03:56.462931Z"
    },
    "papermill": {
     "duration": 0.07678,
     "end_time": "2022-03-21T13:59:26.332707",
     "exception": false,
     "start_time": "2022-03-21T13:59:26.255927",
     "status": "completed"
    },
    "tags": []
   },
   "outputs": [
    {
     "data": {
      "text/plain": [
       "(104, 104)"
      ]
     },
     "execution_count": 30,
     "metadata": {},
     "output_type": "execute_result"
    }
   ],
   "source": [
    "conf_matrix.shape"
   ]
  },
  {
   "cell_type": "markdown",
   "id": "a6c574b8",
   "metadata": {
    "papermill": {
     "duration": 0.071117,
     "end_time": "2022-03-21T13:59:26.473763",
     "exception": false,
     "start_time": "2022-03-21T13:59:26.402646",
     "status": "completed"
    },
    "tags": []
   },
   "source": [
    "### Confusion (matrix) of top 7 worst performing classes"
   ]
  },
  {
   "cell_type": "code",
   "execution_count": 31,
   "id": "d783e59a",
   "metadata": {
    "execution": {
     "iopub.execute_input": "2022-03-21T13:59:26.619586Z",
     "iopub.status.busy": "2022-03-21T13:59:26.618759Z",
     "iopub.status.idle": "2022-03-21T13:59:26.622043Z",
     "shell.execute_reply": "2022-03-21T13:59:26.621552Z",
     "shell.execute_reply.started": "2022-03-21T13:03:56.471309Z"
    },
    "papermill": {
     "duration": 0.077392,
     "end_time": "2022-03-21T13:59:26.622143",
     "exception": false,
     "start_time": "2022-03-21T13:59:26.544751",
     "status": "completed"
    },
    "tags": []
   },
   "outputs": [
    {
     "data": {
      "text/plain": [
       "['pink primrose', 'hard-leaved pocket orchid', 'canterbury bells']"
      ]
     },
     "execution_count": 31,
     "metadata": {},
     "output_type": "execute_result"
    }
   ],
   "source": [
    "class_names[:3]"
   ]
  },
  {
   "cell_type": "code",
   "execution_count": 32,
   "id": "eac52e40",
   "metadata": {
    "execution": {
     "iopub.execute_input": "2022-03-21T13:59:26.768890Z",
     "iopub.status.busy": "2022-03-21T13:59:26.768282Z",
     "iopub.status.idle": "2022-03-21T13:59:26.770947Z",
     "shell.execute_reply": "2022-03-21T13:59:26.771360Z",
     "shell.execute_reply.started": "2022-03-21T13:03:56.482351Z"
    },
    "papermill": {
     "duration": 0.078938,
     "end_time": "2022-03-21T13:59:26.771487",
     "exception": false,
     "start_time": "2022-03-21T13:59:26.692549",
     "status": "completed"
    },
    "tags": []
   },
   "outputs": [
    {
     "data": {
      "text/plain": [
       "array([[ 78,   0,   0, ...,   0,   0,   1],\n",
       "       [  0,   7,   0, ...,   0,   0,   0],\n",
       "       [  0,   0,   6, ...,   0,   0,   0],\n",
       "       ...,\n",
       "       [  0,   0,   0, ...,   7,   0,   0],\n",
       "       [  0,   0,   0, ...,   0, 105,   0],\n",
       "       [  0,   0,   0, ...,   0,   0, 214]])"
      ]
     },
     "execution_count": 32,
     "metadata": {},
     "output_type": "execute_result"
    }
   ],
   "source": [
    "conf_matrix"
   ]
  },
  {
   "cell_type": "code",
   "execution_count": 33,
   "id": "65803413",
   "metadata": {
    "execution": {
     "iopub.execute_input": "2022-03-21T13:59:26.916818Z",
     "iopub.status.busy": "2022-03-21T13:59:26.916146Z",
     "iopub.status.idle": "2022-03-21T13:59:26.919306Z",
     "shell.execute_reply": "2022-03-21T13:59:26.918846Z",
     "shell.execute_reply.started": "2022-03-21T13:03:56.499937Z"
    },
    "papermill": {
     "duration": 0.077091,
     "end_time": "2022-03-21T13:59:26.919428",
     "exception": false,
     "start_time": "2022-03-21T13:59:26.842337",
     "status": "completed"
    },
    "tags": []
   },
   "outputs": [],
   "source": [
    "class_names_mapping = {value:key for key, value in  enumerate(class_names)}"
   ]
  },
  {
   "cell_type": "code",
   "execution_count": 34,
   "id": "55063eae",
   "metadata": {
    "execution": {
     "iopub.execute_input": "2022-03-21T13:59:27.066424Z",
     "iopub.status.busy": "2022-03-21T13:59:27.065670Z",
     "iopub.status.idle": "2022-03-21T13:59:27.067602Z",
     "shell.execute_reply": "2022-03-21T13:59:27.068043Z",
     "shell.execute_reply.started": "2022-03-21T13:03:56.508007Z"
    },
    "papermill": {
     "duration": 0.077881,
     "end_time": "2022-03-21T13:59:27.068162",
     "exception": false,
     "start_time": "2022-03-21T13:59:26.990281",
     "status": "completed"
    },
    "tags": []
   },
   "outputs": [],
   "source": [
    "class_names_mapping\n",
    "class_report['idx'] = class_report['class'].map(class_names_mapping)"
   ]
  },
  {
   "cell_type": "code",
   "execution_count": 35,
   "id": "38253801",
   "metadata": {
    "execution": {
     "iopub.execute_input": "2022-03-21T13:59:27.221373Z",
     "iopub.status.busy": "2022-03-21T13:59:27.220544Z",
     "iopub.status.idle": "2022-03-21T13:59:27.223465Z",
     "shell.execute_reply": "2022-03-21T13:59:27.223863Z",
     "shell.execute_reply.started": "2022-03-21T13:03:56.518510Z"
    },
    "papermill": {
     "duration": 0.084075,
     "end_time": "2022-03-21T13:59:27.223982",
     "exception": false,
     "start_time": "2022-03-21T13:59:27.139907",
     "status": "completed"
    },
    "tags": []
   },
   "outputs": [
    {
     "data": {
      "text/html": [
       "<div>\n",
       "<style scoped>\n",
       "    .dataframe tbody tr th:only-of-type {\n",
       "        vertical-align: middle;\n",
       "    }\n",
       "\n",
       "    .dataframe tbody tr th {\n",
       "        vertical-align: top;\n",
       "    }\n",
       "\n",
       "    .dataframe thead th {\n",
       "        text-align: right;\n",
       "    }\n",
       "</style>\n",
       "<table border=\"1\" class=\"dataframe\">\n",
       "  <thead>\n",
       "    <tr style=\"text-align: right;\">\n",
       "      <th></th>\n",
       "      <th>precision</th>\n",
       "      <th>recall</th>\n",
       "      <th>f1-score</th>\n",
       "      <th>support</th>\n",
       "      <th>class</th>\n",
       "      <th>difficulty</th>\n",
       "      <th>idx</th>\n",
       "    </tr>\n",
       "  </thead>\n",
       "  <tbody>\n",
       "    <tr>\n",
       "      <th>0</th>\n",
       "      <td>0.833333</td>\n",
       "      <td>0.833333</td>\n",
       "      <td>0.833333</td>\n",
       "      <td>6.0</td>\n",
       "      <td>globe-flower</td>\n",
       "      <td>hard</td>\n",
       "      <td>15</td>\n",
       "    </tr>\n",
       "    <tr>\n",
       "      <th>1</th>\n",
       "      <td>1.000000</td>\n",
       "      <td>0.724138</td>\n",
       "      <td>0.840000</td>\n",
       "      <td>29.0</td>\n",
       "      <td>clematis</td>\n",
       "      <td>hard</td>\n",
       "      <td>81</td>\n",
       "    </tr>\n",
       "    <tr>\n",
       "      <th>2</th>\n",
       "      <td>0.750000</td>\n",
       "      <td>1.000000</td>\n",
       "      <td>0.857143</td>\n",
       "      <td>6.0</td>\n",
       "      <td>canterbury bells</td>\n",
       "      <td>hard</td>\n",
       "      <td>2</td>\n",
       "    </tr>\n",
       "    <tr>\n",
       "      <th>3</th>\n",
       "      <td>0.846154</td>\n",
       "      <td>0.916667</td>\n",
       "      <td>0.880000</td>\n",
       "      <td>12.0</td>\n",
       "      <td>mexican petunia</td>\n",
       "      <td>hard</td>\n",
       "      <td>97</td>\n",
       "    </tr>\n",
       "    <tr>\n",
       "      <th>4</th>\n",
       "      <td>0.956522</td>\n",
       "      <td>0.814815</td>\n",
       "      <td>0.880000</td>\n",
       "      <td>27.0</td>\n",
       "      <td>black-eyed susan</td>\n",
       "      <td>hard</td>\n",
       "      <td>62</td>\n",
       "    </tr>\n",
       "    <tr>\n",
       "      <th>5</th>\n",
       "      <td>0.923077</td>\n",
       "      <td>0.857143</td>\n",
       "      <td>0.888889</td>\n",
       "      <td>14.0</td>\n",
       "      <td>peruvian lily</td>\n",
       "      <td>hard</td>\n",
       "      <td>17</td>\n",
       "    </tr>\n",
       "    <tr>\n",
       "      <th>6</th>\n",
       "      <td>0.855172</td>\n",
       "      <td>0.925373</td>\n",
       "      <td>0.888889</td>\n",
       "      <td>134.0</td>\n",
       "      <td>rose</td>\n",
       "      <td>hard</td>\n",
       "      <td>73</td>\n",
       "    </tr>\n",
       "  </tbody>\n",
       "</table>\n",
       "</div>"
      ],
      "text/plain": [
       "   precision    recall  f1-score  support             class difficulty  idx\n",
       "0   0.833333  0.833333  0.833333      6.0      globe-flower       hard   15\n",
       "1   1.000000  0.724138  0.840000     29.0          clematis       hard   81\n",
       "2   0.750000  1.000000  0.857143      6.0  canterbury bells       hard    2\n",
       "3   0.846154  0.916667  0.880000     12.0   mexican petunia       hard   97\n",
       "4   0.956522  0.814815  0.880000     27.0  black-eyed susan       hard   62\n",
       "5   0.923077  0.857143  0.888889     14.0     peruvian lily       hard   17\n",
       "6   0.855172  0.925373  0.888889    134.0              rose       hard   73"
      ]
     },
     "execution_count": 35,
     "metadata": {},
     "output_type": "execute_result"
    }
   ],
   "source": [
    "class_report.head(7)"
   ]
  },
  {
   "cell_type": "code",
   "execution_count": 36,
   "id": "e9ec6d96",
   "metadata": {
    "execution": {
     "iopub.execute_input": "2022-03-21T13:59:27.371523Z",
     "iopub.status.busy": "2022-03-21T13:59:27.370730Z",
     "iopub.status.idle": "2022-03-21T13:59:27.373773Z",
     "shell.execute_reply": "2022-03-21T13:59:27.374297Z",
     "shell.execute_reply.started": "2022-03-21T13:38:00.504824Z"
    },
    "papermill": {
     "duration": 0.078613,
     "end_time": "2022-03-21T13:59:27.374419",
     "exception": false,
     "start_time": "2022-03-21T13:59:27.295806",
     "status": "completed"
    },
    "tags": []
   },
   "outputs": [
    {
     "data": {
      "text/plain": [
       "(8, 104)"
      ]
     },
     "execution_count": 36,
     "metadata": {},
     "output_type": "execute_result"
    }
   ],
   "source": [
    "worst_classes_FN = conf_matrix[class_report.loc[:7, \"idx\"]]\n",
    "worst_classes_FN.shape"
   ]
  },
  {
   "cell_type": "code",
   "execution_count": 37,
   "id": "b51bdccd",
   "metadata": {
    "execution": {
     "iopub.execute_input": "2022-03-21T13:59:27.520543Z",
     "iopub.status.busy": "2022-03-21T13:59:27.519752Z",
     "iopub.status.idle": "2022-03-21T13:59:27.523158Z",
     "shell.execute_reply": "2022-03-21T13:59:27.522741Z",
     "shell.execute_reply.started": "2022-03-21T13:38:06.422527Z"
    },
    "papermill": {
     "duration": 0.078399,
     "end_time": "2022-03-21T13:59:27.523285",
     "exception": false,
     "start_time": "2022-03-21T13:59:27.444886",
     "status": "completed"
    },
    "tags": []
   },
   "outputs": [
    {
     "data": {
      "text/plain": [
       "(8, 25)"
      ]
     },
     "execution_count": 37,
     "metadata": {},
     "output_type": "execute_result"
    }
   ],
   "source": [
    "worst_classes_FN_sub = worst_classes_FN[:, worst_classes_FN.sum(0) > 0]\n",
    "worst_classes_FN_sub.shape"
   ]
  },
  {
   "cell_type": "code",
   "execution_count": 38,
   "id": "59594c41",
   "metadata": {
    "execution": {
     "iopub.execute_input": "2022-03-21T13:59:27.674968Z",
     "iopub.status.busy": "2022-03-21T13:59:27.674272Z",
     "iopub.status.idle": "2022-03-21T13:59:27.743859Z",
     "shell.execute_reply": "2022-03-21T13:59:27.743455Z",
     "shell.execute_reply.started": "2022-03-21T13:44:41.204397Z"
    },
    "papermill": {
     "duration": 0.148592,
     "end_time": "2022-03-21T13:59:27.743966",
     "exception": false,
     "start_time": "2022-03-21T13:59:27.595374",
     "status": "completed"
    },
    "tags": []
   },
   "outputs": [],
   "source": [
    "from mpl_toolkits.axes_grid1 import make_axes_locatable\n",
    "\n",
    "def plot_confusion_matrix(cm, xclasses, yclasses, title_prefix, figsize=(16,8)):\n",
    "    \"\"\"\n",
    "    This function prints and plots the confusion matrix.\n",
    "    Normalization can be applied by setting `normalize=True`.\n",
    "    \"\"\"\n",
    "    fig = plt.figure(figsize=figsize)\n",
    "    plt.title(title_prefix+f\" top {len(yclasses)} classes by f1 score\")\n",
    "    ax = plt.gca()\n",
    "    cmap=plt.cm.Blues\n",
    "    plt.imshow(cm, interpolation='nearest', cmap=cmap)\n",
    "    #plt.colorbar(fraction=0.046, pad=0.04)\n",
    "    \n",
    "    tick_marks_y = np.arange(len(yclasses))\n",
    "    tick_marks_x = np.arange(len(xclasses))\n",
    "    plt.xticks(tick_marks_x, xclasses, rotation=45)\n",
    "    plt.yticks(tick_marks_y, yclasses)\n",
    "\n",
    "    for (j,i),label in np.ndenumerate(cm):\n",
    "        ax.text(i,j,label,ha='center',va='center')\n",
    "    \n",
    "    plt.tight_layout()\n",
    "    if not title_prefix=='FP':\n",
    "        plt.ylabel('True label')\n",
    "        plt.xlabel('Predicted label')\n",
    "    else:\n",
    "        plt.xlabel('True label')\n",
    "        plt.ylabel('Predicted label')"
   ]
  },
  {
   "cell_type": "code",
   "execution_count": 39,
   "id": "65d9cbb9",
   "metadata": {
    "execution": {
     "iopub.execute_input": "2022-03-21T13:59:27.891684Z",
     "iopub.status.busy": "2022-03-21T13:59:27.890881Z",
     "iopub.status.idle": "2022-03-21T13:59:29.006528Z",
     "shell.execute_reply": "2022-03-21T13:59:29.006955Z",
     "shell.execute_reply.started": "2022-03-21T13:44:42.787951Z"
    },
    "papermill": {
     "duration": 1.19054,
     "end_time": "2022-03-21T13:59:29.007098",
     "exception": false,
     "start_time": "2022-03-21T13:59:27.816558",
     "status": "completed"
    },
    "tags": []
   },
   "outputs": [
    {
     "data": {
      "image/png": "[encoded data removed]",
      "text/plain": [
       "<Figure size 1152x576 with 1 Axes>"
      ]
     },
     "metadata": {
      "needs_background": "light"
     },
     "output_type": "display_data"
    }
   ],
   "source": [
    "plot_confusion_matrix(worst_classes_FN_sub, xclasses= np.array(class_names)[worst_classes_FN.sum(0) > 0], \n",
    "                     yclasses=class_report.loc[:7, \"class\"], title_prefix='FN' )"
   ]
  },
  {
   "cell_type": "markdown",
   "id": "75beef57",
   "metadata": {
    "papermill": {
     "duration": 0.074068,
     "end_time": "2022-03-21T13:59:29.155165",
     "exception": false,
     "start_time": "2022-03-21T13:59:29.081097",
     "status": "completed"
    },
    "tags": []
   },
   "source": [
    "### FN Results:\n",
    "* globe-flower (true): only 1 confused with buttercup\n",
    "* clematis: 2 confused with windflower and columbine\n",
    "* canterbury bells: no FN\n",
    "* mexican petunia: 1 confused with petunia, maybe label error?\n",
    "* black-eyed susan: 5 confused with sunflower.\n",
    "*  peruvian lily: 1 with lenten rose, one with rose. both are of type rose, by chance?\n",
    "* rose: 2 with sunflower, 3 with commun tulip, 1 confused with baberton daisy, daisy, 2 sunflower, 1 lotus: mix ups spread among classes\n",
    "* gazania: one tiger lily, 1 baberton daisy, 1 rose, 1 blanket flower."
   ]
  },
  {
   "cell_type": "code",
   "execution_count": 40,
   "id": "db270c3a",
   "metadata": {
    "execution": {
     "iopub.execute_input": "2022-03-21T13:59:29.310249Z",
     "iopub.status.busy": "2022-03-21T13:59:29.309311Z",
     "iopub.status.idle": "2022-03-21T13:59:29.313834Z",
     "shell.execute_reply": "2022-03-21T13:59:29.314422Z",
     "shell.execute_reply.started": "2022-03-21T13:44:46.571718Z"
    },
    "papermill": {
     "duration": 0.085364,
     "end_time": "2022-03-21T13:59:29.314595",
     "exception": false,
     "start_time": "2022-03-21T13:59:29.229231",
     "status": "completed"
    },
    "tags": []
   },
   "outputs": [
    {
     "name": "stdout",
     "output_type": "stream",
     "text": [
      "(104, 8)\n"
     ]
    },
    {
     "data": {
      "text/plain": [
       "(25, 8)"
      ]
     },
     "execution_count": 40,
     "metadata": {},
     "output_type": "execute_result"
    }
   ],
   "source": [
    "worst_classes_FP = conf_matrix[:, class_report.loc[:7, \"idx\"]]\n",
    "print(worst_classes_FP.shape)\n",
    "\n",
    "worst_classes_conf_FP = worst_classes_FP[worst_classes_FP.sum(1) > 0, :]\n",
    "worst_classes_conf_FP.shape"
   ]
  },
  {
   "cell_type": "code",
   "execution_count": 41,
   "id": "2071dfa9",
   "metadata": {
    "execution": {
     "iopub.execute_input": "2022-03-21T13:59:29.467831Z",
     "iopub.status.busy": "2022-03-21T13:59:29.467057Z",
     "iopub.status.idle": "2022-03-21T13:59:30.560966Z",
     "shell.execute_reply": "2022-03-21T13:59:30.561392Z",
     "shell.execute_reply.started": "2022-03-21T13:44:46.758298Z"
    },
    "papermill": {
     "duration": 1.172325,
     "end_time": "2022-03-21T13:59:30.561537",
     "exception": false,
     "start_time": "2022-03-21T13:59:29.389212",
     "status": "completed"
    },
    "tags": []
   },
   "outputs": [
    {
     "data": {
      "image/png": "[encoded data removed]",
      "text/plain": [
       "<Figure size 1152x576 with 1 Axes>"
      ]
     },
     "metadata": {
      "needs_background": "light"
     },
     "output_type": "display_data"
    }
   ],
   "source": [
    "plot_confusion_matrix(worst_classes_conf_FP.T, xclasses= np.array(class_names)[worst_classes_FP.sum(1) > 0], \n",
    "                     yclasses=class_report.loc[:7, \"class\"], title_prefix='FP' )"
   ]
  },
  {
   "cell_type": "markdown",
   "id": "9b573a74",
   "metadata": {
    "papermill": {
     "duration": 0.075685,
     "end_time": "2022-03-21T13:59:30.714991",
     "exception": false,
     "start_time": "2022-03-21T13:59:30.639306",
     "status": "completed"
    },
    "tags": []
   },
   "source": [
    "### FP Results\n",
    "* globe-flower: 1 confused with (true) lotus\n",
    "* dematis: no wrong detection in other classes\n",
    "* caterbury bells: confused with true balloon flower\n",
    "* mexican petunia: confusesd iwth 1 true petunia and 1 true desert rose\n",
    "* black-eyed susan: confused with 1 true daisy\n",
    "* peruvian lily: confused with 1 true tiger lily,\n",
    "* rose: confused with 1 true snapdragon, 1 true peruvian lily, 2  camation and other classes. algo thinks everything is a rose which could be due to the relatively larger amount of images for this class. \n",
    "* gazania: confused with 2 true marigold, \n",
    "\n",
    "> the differences between FN and FP confused classes for the top 8 indicates that the type of confusion of the algorithm might be of different nature."
   ]
  },
  {
   "cell_type": "code",
   "execution_count": null,
   "id": "1f5caba6",
   "metadata": {
    "papermill": {
     "duration": 0.07563,
     "end_time": "2022-03-21T13:59:30.866210",
     "exception": false,
     "start_time": "2022-03-21T13:59:30.790580",
     "status": "completed"
    },
    "tags": []
   },
   "outputs": [],
   "source": []
  }
 ],
 "metadata": {
  "kernelspec": {
   "display_name": "Python 3",
   "language": "python",
   "name": "python3"
  },
  "language_info": {
   "codemirror_mode": {
    "name": "ipython",
    "version": 3
   },
   "file_extension": ".py",
   "mimetype": "text/x-python",
   "name": "python",
   "nbconvert_exporter": "python",
   "pygments_lexer": "ipython3",
   "version": "3.7.12"
  },
  "papermill": {
   "default_parameters": {},
   "duration": 74.543491,
   "end_time": "2022-03-21T13:59:35.305133",
   "environment_variables": {},
   "exception": null,
   "input_path": "__notebook__.ipynb",
   "output_path": "__notebook__.ipynb",
   "parameters": {},
   "start_time": "2022-03-21T13:58:20.761642",
   "version": "2.3.3"
  }
 },
 "nbformat": 4,
 "nbformat_minor": 5
}
